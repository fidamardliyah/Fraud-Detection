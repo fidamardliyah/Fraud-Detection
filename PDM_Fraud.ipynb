{
 "cells": [
  {
   "cell_type": "markdown",
   "metadata": {
    "id": "261YEiK6Tg7L"
   },
   "source": [
    "# DATA TRAIN"
   ]
  },
  {
   "cell_type": "markdown",
   "metadata": {
    "id": "EmR3zebRBG5j"
   },
   "source": [
    "## Import Library"
   ]
  },
  {
   "cell_type": "code",
   "execution_count": null,
   "metadata": {
    "id": "KKq6xsXY9rxN"
   },
   "outputs": [],
   "source": [
    "import numpy as np\n",
    "import pandas as pd\n",
    "import seaborn as sns\n",
    "import matplotlib.pyplot as plt"
   ]
  },
  {
   "cell_type": "code",
   "execution_count": null,
   "metadata": {
    "id": "_tNVP-or9xRv"
   },
   "outputs": [],
   "source": [
    "from google.colab import drive\n",
    "drive.mount('/content/drive')\n",
    "data=pd.read_csv(\"/content/drive/MyDrive/Tugas Kelompok 5/fraud dataset.csv\")"
   ]
  },
  {
   "cell_type": "markdown",
   "metadata": {
    "id": "l6n7dVAXBRQB"
   },
   "source": [
    "## Data Understanding"
   ]
  },
  {
   "cell_type": "code",
   "execution_count": null,
   "metadata": {
    "id": "kNWZp-yBAJPH"
   },
   "outputs": [],
   "source": [
    "data.head()"
   ]
  },
  {
   "cell_type": "code",
   "execution_count": null,
   "metadata": {
    "id": "0jMr3EKjANjN"
   },
   "outputs": [],
   "source": [
    "data.shape"
   ]
  },
  {
   "cell_type": "code",
   "execution_count": null,
   "metadata": {
    "id": "6MS2MYWnAQ5x"
   },
   "outputs": [],
   "source": [
    "data.info()"
   ]
  },
  {
   "cell_type": "code",
   "execution_count": null,
   "metadata": {
    "id": "P4a0gxt4-YZr"
   },
   "outputs": [],
   "source": [
    "data.describe().T"
   ]
  },
  {
   "cell_type": "code",
   "execution_count": null,
   "metadata": {
    "id": "hlp3qx7c_2oE"
   },
   "outputs": [],
   "source": [
    "plt.figure(figsize=(10,10))\n",
    "data['flag_transaksi_fraud'].value_counts().plot.pie(shadow=True, explode = [0,0.1],autopct='%1.2f%%')\n",
    "plt.title(\"Persentase Fraud dan Tidak Fraud\")\n",
    "plt.legend()\n",
    "plt.show()"
   ]
  },
  {
   "cell_type": "markdown",
   "metadata": {
    "id": "NMCSROyPBqw3"
   },
   "source": [
    "## Preprocessing"
   ]
  },
  {
   "cell_type": "markdown",
   "metadata": {
    "id": "vEJ5A0d_D2aY"
   },
   "source": [
    "### Data Type"
   ]
  },
  {
   "cell_type": "code",
   "execution_count": null,
   "metadata": {
    "id": "31WX_5KaD4Q9"
   },
   "outputs": [],
   "source": [
    "data.dtypes"
   ]
  },
  {
   "cell_type": "code",
   "execution_count": null,
   "metadata": {
    "id": "fMCaZXiJD_wu"
   },
   "outputs": [],
   "source": [
    "data[\"rata_rata_nilai_transaksi\"]=data[\"rata_rata_nilai_transaksi\"].str.replace('.', '')"
   ]
  },
  {
   "cell_type": "code",
   "execution_count": null,
   "metadata": {
    "id": "vA55d6CEGHZ2"
   },
   "outputs": [],
   "source": [
    "data.head()"
   ]
  },
  {
   "cell_type": "code",
   "execution_count": null,
   "metadata": {
    "id": "1YuUACz8EMRF"
   },
   "outputs": [],
   "source": [
    "data[\"rata_rata_nilai_transaksi\"]=data[\"rata_rata_nilai_transaksi\"].astype(\"float64\")"
   ]
  },
  {
   "cell_type": "code",
   "execution_count": null,
   "metadata": {
    "id": "1Vp-W3V6GUAq"
   },
   "outputs": [],
   "source": [
    "data.dtypes"
   ]
  },
  {
   "cell_type": "code",
   "execution_count": null,
   "metadata": {
    "id": "bswO8MbqVFwi"
   },
   "outputs": [],
   "source": [
    "data['flag_transaksi_finansial'].value_counts()"
   ]
  },
  {
   "cell_type": "markdown",
   "metadata": {
    "id": "3QDq-EJDB8Yk"
   },
   "source": [
    "### Missing Value"
   ]
  },
  {
   "cell_type": "code",
   "execution_count": null,
   "metadata": {
    "id": "gF48us-iB0gX"
   },
   "outputs": [],
   "source": [
    "data.isnull().sum()"
   ]
  },
  {
   "cell_type": "markdown",
   "metadata": {
    "id": "UYGf9vkkCJRT"
   },
   "source": [
    "### Imputasi"
   ]
  },
  {
   "cell_type": "code",
   "execution_count": null,
   "metadata": {
    "id": "mmeGgXb7Hzhb"
   },
   "outputs": [],
   "source": [
    "plt.figure(figsize=(10,5))\n",
    "sns.boxplot(data[\"rata_rata_nilai_transaksi\"])\n",
    "plt.show()"
   ]
  },
  {
   "cell_type": "code",
   "execution_count": null,
   "metadata": {
    "id": "10sVYgdCIOsG"
   },
   "outputs": [],
   "source": [
    "plt.figure(figsize=(10,5))\n",
    "sns.distplot(data[\"maksimum_nilai_transaksi\"])\n",
    "plt.show()"
   ]
  },
  {
   "cell_type": "code",
   "execution_count": null,
   "metadata": {
    "id": "8rOvjgmdIW5L"
   },
   "outputs": [],
   "source": [
    "plt.figure(figsize=(10,5))\n",
    "sns.distplot(data[\"minimum_nilai_transaksi\"])\n",
    "plt.show()"
   ]
  },
  {
   "cell_type": "code",
   "execution_count": null,
   "metadata": {
    "id": "GLgWZaQXCIuX"
   },
   "outputs": [],
   "source": [
    "plt.figure(figsize=(10,5))\n",
    "sns.distplot(data[\"rata_rata_jumlah_transaksi\"])\n",
    "plt.show()"
   ]
  },
  {
   "cell_type": "code",
   "execution_count": null,
   "metadata": {
    "id": "YAQfWE21IvAj"
   },
   "outputs": [],
   "source": [
    "data[\"rata_rata_nilai_transaksi\"].fillna(data[\"rata_rata_nilai_transaksi\"].median(),inplace=True)\n",
    "data[\"maksimum_nilai_transaksi\"].fillna(data[\"maksimum_nilai_transaksi\"].median(),inplace=True)\n",
    "data[\"minimum_nilai_transaksi\"].fillna(data[\"minimum_nilai_transaksi\"].median(),inplace=True)\n",
    "data[\"rata_rata_jumlah_transaksi\"].fillna(data[\"rata_rata_jumlah_transaksi\"].median(),inplace=True)"
   ]
  },
  {
   "cell_type": "code",
   "execution_count": null,
   "metadata": {
    "id": "CWJdVZkXJcMN"
   },
   "outputs": [],
   "source": [
    "data.isnull().sum()"
   ]
  },
  {
   "cell_type": "markdown",
   "metadata": {
    "id": "2jkWuVa9Jecu"
   },
   "source": [
    "### Duplikasi Data"
   ]
  },
  {
   "cell_type": "code",
   "execution_count": null,
   "metadata": {
    "id": "K8j90a2tJjBO"
   },
   "outputs": [],
   "source": [
    "data.duplicated().sum()"
   ]
  },
  {
   "cell_type": "code",
   "execution_count": null,
   "metadata": {
    "id": "1H-bYvdkJ5_Y"
   },
   "outputs": [],
   "source": [
    "data.shape"
   ]
  },
  {
   "cell_type": "markdown",
   "metadata": {
    "id": "YSLtirr4Jrx1"
   },
   "source": [
    "### Outlier"
   ]
  },
  {
   "cell_type": "code",
   "execution_count": null,
   "metadata": {
    "id": "BM9Kx1-ZAlUl"
   },
   "outputs": [],
   "source": [
    "fig, axes = plt.subplots(nrows=2, ncols=2 , figsize=(15,10))\n",
    "axes[0,0].set_title(\"rata_rata_nilai_transaksi\")\n",
    "axes[0,1].set_title(\"maksimum_nilai_transaksi\")\n",
    "axes[1,0].set_title(\"minimum_nilai_transaksi\")\n",
    "axes[1,1].set_title(\"rata_rata_jumlah_transaksi\")\n",
    "\n",
    "sns.boxplot(data[\"rata_rata_nilai_transaksi\"], ax=axes[0,0])\n",
    "sns.boxplot(data[\"maksimum_nilai_transaksi\"], ax=axes[0,1])\n",
    "sns.boxplot(data[\"minimum_nilai_transaksi\"], ax=axes[1,0])\n",
    "sns.boxplot(data[\"rata_rata_jumlah_transaksi\"], ax=axes[1,1])\n",
    "\n",
    "fig.tight_layout()"
   ]
  },
  {
   "cell_type": "markdown",
   "metadata": {
    "id": "9I-APyCcWDTP"
   },
   "source": [
    "### Handling Outlier"
   ]
  },
  {
   "cell_type": "code",
   "execution_count": null,
   "metadata": {
    "id": "xZu6E0_fP_nQ"
   },
   "outputs": [],
   "source": [
    "Q1_maks=data[\"maksimum_nilai_transaksi\"].quantile(0.25)\n",
    "Q3_maks=data[\"maksimum_nilai_transaksi\"].quantile(0.75)\n",
    "IQR_maks=Q3_maks - Q1_maks\n",
    "lower_range_maks = Q1_maks -(1.5 * IQR_maks)\n",
    "upper_range_maks= Q3_maks +(1.5 * IQR_maks)\n",
    "data.loc[(data[\"maksimum_nilai_transaksi\"]>upper_range_maks),:]"
   ]
  },
  {
   "cell_type": "code",
   "execution_count": null,
   "metadata": {
    "id": "mC7KzphqQ_34"
   },
   "outputs": [],
   "source": [
    "data.loc[(data[\"maksimum_nilai_transaksi\"]>upper_range_maks),\"maksimum_nilai_transaksi\"]=upper_range_maks"
   ]
  },
  {
   "cell_type": "code",
   "execution_count": null,
   "metadata": {
    "id": "AICzQ9s-R18J"
   },
   "outputs": [],
   "source": [
    "Q1_min=data[\"minimum_nilai_transaksi\"].quantile(0.25)\n",
    "Q3_min=data[\"minimum_nilai_transaksi\"].quantile(0.75)\n",
    "IQR_min=Q3_min - Q1_min\n",
    "lower_range_min = Q1_min -(1.5 * IQR_min)\n",
    "upper_range_min= Q3_min +(1.5 * IQR_min)\n",
    "data.loc[(data[\"minimum_nilai_transaksi\"]>upper_range_min),:]"
   ]
  },
  {
   "cell_type": "code",
   "execution_count": null,
   "metadata": {
    "id": "yTUhXRpwSQwP"
   },
   "outputs": [],
   "source": [
    "data.loc[(data[\"minimum_nilai_transaksi\"]>upper_range_min),\"minimum_nilai_transaksi\"]=upper_range_min"
   ]
  },
  {
   "cell_type": "code",
   "execution_count": null,
   "metadata": {
    "id": "1XfhD7c5Sayp"
   },
   "outputs": [],
   "source": [
    "Q1_rata=data[\"rata_rata_jumlah_transaksi\"].quantile(0.25)\n",
    "Q3_rata=data[\"rata_rata_jumlah_transaksi\"].quantile(0.75)\n",
    "IQR_rata=Q3_rata - Q1_rata\n",
    "lower_range_rata = Q1_rata -(1.5 * IQR_rata)\n",
    "upper_range_rata= Q3_rata +(1.5 * IQR_rata)\n",
    "data.loc[(data[\"rata_rata_jumlah_transaksi\"]>upper_range_rata),:]"
   ]
  },
  {
   "cell_type": "code",
   "execution_count": null,
   "metadata": {
    "id": "6BJlwPIgS1kZ"
   },
   "outputs": [],
   "source": [
    "data.loc[(data[\"rata_rata_jumlah_transaksi\"]>upper_range_rata),\"rata_rata_jumlah_transaksi\"]=upper_range_rata"
   ]
  },
  {
   "cell_type": "markdown",
   "metadata": {
    "id": "UQQmudbeV4SE"
   },
   "source": [
    "## Split Data"
   ]
  },
  {
   "cell_type": "code",
   "execution_count": null,
   "metadata": {
    "id": "SdKfpC-UTHAg"
   },
   "outputs": [],
   "source": [
    "data = data.drop(labels=['Id','flag_transaksi_finansial'], axis=1)"
   ]
  },
  {
   "cell_type": "code",
   "execution_count": null,
   "metadata": {
    "id": "gT1sma6VVy9T"
   },
   "outputs": [],
   "source": [
    "data.head()"
   ]
  },
  {
   "cell_type": "code",
   "execution_count": null,
   "metadata": {
    "id": "vKdxv4ggYxAx"
   },
   "outputs": [],
   "source": [
    "data['flag_transaksi_fraud'].value_counts()"
   ]
  },
  {
   "cell_type": "code",
   "execution_count": null,
   "metadata": {
    "id": "j84_BCXGX1tL"
   },
   "outputs": [],
   "source": [
    "from sklearn.model_selection import train_test_split\n",
    "\n",
    "##partition data into data training and data testing\n",
    "train,test = train_test_split(data,test_size = 0.20 ,random_state = 123)\n",
    "    \n",
    "##seperating dependent and independent variables on training and testing data\n",
    "train_X = train.drop(labels='flag_transaksi_fraud',axis=1)\n",
    "train_Y = train['flag_transaksi_fraud']\n",
    "test_X  = test.drop(labels='flag_transaksi_fraud',axis=1)\n",
    "test_Y  = test['flag_transaksi_fraud']"
   ]
  },
  {
   "cell_type": "code",
   "execution_count": null,
   "metadata": {
    "id": "bz1XE8U2Y4ch"
   },
   "outputs": [],
   "source": [
    "train.shape"
   ]
  },
  {
   "cell_type": "code",
   "execution_count": null,
   "metadata": {
    "id": "gkV4PZ2RZHRN"
   },
   "outputs": [],
   "source": [
    "test.shape"
   ]
  },
  {
   "cell_type": "markdown",
   "metadata": {
    "id": "rbUeCYQvYVZX"
   },
   "source": [
    "## Data Modelling\n",
    "\n"
   ]
  },
  {
   "cell_type": "markdown",
   "metadata": {
    "id": "gqYIqyFlYZYp"
   },
   "source": [
    "##SMOTE"
   ]
  },
  {
   "cell_type": "code",
   "execution_count": null,
   "metadata": {
    "id": "wWYSX4U5W62s"
   },
   "outputs": [],
   "source": [
    "from imblearn.over_sampling import SMOTE\n",
    "\n",
    "#handle imbalance class using oversampling minority class with smote method\n",
    "os = SMOTE(sampling_strategy='minority',random_state = 123,k_neighbors=5)\n",
    "train_smote_X,train_smote_Y = os.fit_resample(train_X,train_Y)\n",
    "train_smote_X = pd.DataFrame(data = train_smote_X,columns=train_X.columns)\n",
    "train_smote_Y = pd.DataFrame(data = train_smote_Y)"
   ]
  },
  {
   "cell_type": "code",
   "execution_count": null,
   "metadata": {
    "id": "alvcg5zKYkDf"
   },
   "outputs": [],
   "source": [
    "train_Y.value_counts()"
   ]
  },
  {
   "cell_type": "code",
   "execution_count": null,
   "metadata": {
    "id": "BqB1tdyZYn5s"
   },
   "outputs": [],
   "source": [
    "train_smote_Y.value_counts()"
   ]
  },
  {
   "cell_type": "markdown",
   "metadata": {
    "id": "l6S6f_zeZeyc"
   },
   "source": [
    "## Random Forest"
   ]
  },
  {
   "cell_type": "code",
   "execution_count": null,
   "metadata": {
    "id": "knOkoJaFSWAA"
   },
   "outputs": [],
   "source": [
    "from sklearn.ensemble import RandomForestClassifier\n",
    "rfc=RandomForestClassifier(random_state=123)"
   ]
  },
  {
   "cell_type": "code",
   "execution_count": null,
   "metadata": {
    "id": "AK36JGGuSZar"
   },
   "outputs": [],
   "source": [
    "rfc.fit(train_smote_X, train_smote_Y)\n",
    "predrf=rfc.predict(test_X)"
   ]
  },
  {
   "cell_type": "markdown",
   "metadata": {
    "id": "wg_TWG1rnLv4"
   },
   "source": [
    "### Evaluation"
   ]
  },
  {
   "cell_type": "code",
   "execution_count": null,
   "metadata": {
    "id": "giMGYyagm5SK"
   },
   "outputs": [],
   "source": [
    "from sklearn.metrics import accuracy_score\n",
    "print(\"Accuracy for Random Forest on CV data: \",accuracy_score(test_Y,predrf))"
   ]
  },
  {
   "cell_type": "code",
   "execution_count": null,
   "metadata": {
    "id": "xOacJ_ennjLi"
   },
   "outputs": [],
   "source": [
    "from sklearn.metrics import classification_report\n",
    "target_names = ['No','Yes']\n",
    "print(classification_report(test_Y, predrf, target_names=target_names))"
   ]
  },
  {
   "cell_type": "code",
   "execution_count": null,
   "metadata": {
    "id": "VRnsSO2jnqI2"
   },
   "outputs": [],
   "source": [
    "from sklearn.metrics import roc_curve\n",
    "# Generate ROC curve values: fpr, tpr, thresholds\n",
    "fpr_rf, tpr_rf, thresholds_rf = roc_curve(test_Y, predrf)\n",
    "# Plot ROC curve\n",
    "plt.plot([0, 1], [0, 1], 'k--')\n",
    "plt.plot(fpr_rf, tpr_rf)\n",
    "plt.xlabel('False Positive Rate')\n",
    "plt.ylabel('True Positive Rate')\n",
    "plt.title('ROC Curve')\n",
    "plt.show()"
   ]
  },
  {
   "cell_type": "code",
   "execution_count": null,
   "metadata": {
    "id": "RZjiYHpint9G"
   },
   "outputs": [],
   "source": [
    "from sklearn.metrics import roc_auc_score\n",
    "roc_auc_score(test_Y,predrf)"
   ]
  },
  {
   "cell_type": "markdown",
   "metadata": {
    "id": "pwHDgDTfn1tc"
   },
   "source": [
    "## Logistic Regression"
   ]
  },
  {
   "cell_type": "code",
   "execution_count": null,
   "metadata": {
    "id": "ao-P3eghn5RE"
   },
   "outputs": [],
   "source": [
    "from sklearn.linear_model import LogisticRegression\n",
    "lr = LogisticRegression()"
   ]
  },
  {
   "cell_type": "code",
   "execution_count": null,
   "metadata": {
    "id": "pUA-bIBWqMEW"
   },
   "outputs": [],
   "source": [
    "param_grid_lr  = {\n",
    "    'penalty': ['l1', 'l2'],\n",
    "    'tol': [0.00001, 0.0001, 0.001],\n",
    "    'C': [1, 50, 100]\n",
    "}"
   ]
  },
  {
   "cell_type": "code",
   "execution_count": null,
   "metadata": {
    "id": "_OKkO7Z_rT7u"
   },
   "outputs": [],
   "source": [
    "from sklearn.model_selection import GridSearchCV\n",
    "CV_lr = GridSearchCV(estimator=lr, param_grid=param_grid_lr, cv= 5)\n",
    "CV_lr.fit(train_smote_X, train_smote_Y)"
   ]
  },
  {
   "cell_type": "code",
   "execution_count": null,
   "metadata": {
    "id": "_NmSU9zFsAkI"
   },
   "outputs": [],
   "source": [
    "CV_lr.best_params_"
   ]
  },
  {
   "cell_type": "code",
   "execution_count": null,
   "metadata": {
    "id": "jXyQQ4fJsCAE"
   },
   "outputs": [],
   "source": [
    "predlr=CV_lr.predict(test_X)"
   ]
  },
  {
   "cell_type": "markdown",
   "metadata": {
    "id": "jWXILgMZsYLG"
   },
   "source": [
    "### Evaluation"
   ]
  },
  {
   "cell_type": "code",
   "execution_count": null,
   "metadata": {
    "id": "D51wHkDUssRU"
   },
   "outputs": [],
   "source": [
    "from sklearn.metrics import accuracy_score\n",
    "print(\"Accuracy for Logistic Regression on CV data: \",accuracy_score(test_Y,predlr))"
   ]
  },
  {
   "cell_type": "code",
   "execution_count": null,
   "metadata": {
    "id": "mlELdCJcssRV"
   },
   "outputs": [],
   "source": [
    "from sklearn.metrics import classification_report\n",
    "target_names = ['No','Yes']\n",
    "print(classification_report(test_Y, predlr, target_names=target_names))"
   ]
  },
  {
   "cell_type": "code",
   "execution_count": null,
   "metadata": {
    "id": "Rx7BhDAQtHu9"
   },
   "outputs": [],
   "source": [
    "from sklearn.metrics import roc_curve\n",
    "# Generate ROC curve values: fpr, tpr, thresholds\n",
    "fpr_lr, tpr_lr, thresholds_lr = roc_curve(test_Y, predlr)\n",
    "# Plot ROC curve\n",
    "plt.plot([0, 1], [0, 1], 'k--')\n",
    "plt.plot(fpr_lr, tpr_lr)\n",
    "plt.xlabel('False Positive Rate')\n",
    "plt.ylabel('True Positive Rate')\n",
    "plt.title('ROC Curve')\n",
    "plt.show()"
   ]
  },
  {
   "cell_type": "code",
   "execution_count": null,
   "metadata": {
    "id": "rn2-zIvsssRW"
   },
   "outputs": [],
   "source": [
    "from sklearn.metrics import roc_auc_score\n",
    "roc_auc_score(test_Y,predlr)"
   ]
  },
  {
   "cell_type": "markdown",
   "metadata": {
    "id": "O1iHgPcEtZMO"
   },
   "source": [
    "## SVM"
   ]
  },
  {
   "cell_type": "code",
   "execution_count": null,
   "metadata": {
    "id": "Im90TCMItcS5"
   },
   "outputs": [],
   "source": [
    "from sklearn import svm\n",
    "from sklearn.svm import SVC\n",
    "svm= svm.SVC()"
   ]
  },
  {
   "cell_type": "code",
   "execution_count": null,
   "metadata": {
    "id": "qiiJNP6y2KUv"
   },
   "outputs": [],
   "source": [
    "svm.fit(train_smote_X,train_smote_Y)"
   ]
  },
  {
   "cell_type": "code",
   "execution_count": null,
   "metadata": {
    "id": "1qU_EyVS2iO8"
   },
   "outputs": [],
   "source": [
    "predsvm=svm.predict(test_X)"
   ]
  },
  {
   "cell_type": "markdown",
   "metadata": {
    "id": "y1IQAOlG2wgg"
   },
   "source": [
    "### Evaluation"
   ]
  },
  {
   "cell_type": "code",
   "execution_count": null,
   "metadata": {
    "id": "6mpEH2P-2vG0"
   },
   "outputs": [],
   "source": [
    "from sklearn.metrics import accuracy_score\n",
    "print(\"Accuracy for Support Vector Machine on CV data: \",accuracy_score(test_Y,predsvm))"
   ]
  },
  {
   "cell_type": "code",
   "execution_count": null,
   "metadata": {
    "id": "nG2A5wRg2vG1"
   },
   "outputs": [],
   "source": [
    "from sklearn.metrics import classification_report\n",
    "target_names = ['No','Yes']\n",
    "print(classification_report(test_Y, predsvm, target_names=target_names))"
   ]
  },
  {
   "cell_type": "code",
   "execution_count": null,
   "metadata": {
    "id": "XuKgzbIA2vG2"
   },
   "outputs": [],
   "source": [
    "from sklearn.metrics import roc_curve\n",
    "# Generate ROC curve values: fpr, tpr, thresholds\n",
    "fpr_svm, tpr_svm, thresholds_svm = roc_curve(test_Y, predsvm)\n",
    "# Plot ROC curve\n",
    "plt.plot([0, 1], [0, 1], 'k--')\n",
    "plt.plot(fpr_svm, tpr_svm)\n",
    "plt.xlabel('False Positive Rate')\n",
    "plt.ylabel('True Positive Rate')\n",
    "plt.title('ROC Curve')\n",
    "plt.show()"
   ]
  },
  {
   "cell_type": "code",
   "execution_count": null,
   "metadata": {
    "id": "VERAtlbx2vG2"
   },
   "outputs": [],
   "source": [
    "from sklearn.metrics import roc_auc_score\n",
    "roc_auc_score(test_Y,predsvm)"
   ]
  },
  {
   "cell_type": "markdown",
   "metadata": {
    "id": "aGhom_P166tX"
   },
   "source": [
    "## XGBoost"
   ]
  },
  {
   "cell_type": "code",
   "execution_count": null,
   "metadata": {
    "id": "nFlt5qhj65yI"
   },
   "outputs": [],
   "source": [
    "import xgboost\n",
    "xgb=xgboost.XGBClassifier()"
   ]
  },
  {
   "cell_type": "code",
   "execution_count": null,
   "metadata": {
    "id": "CLpcbGICRHV4"
   },
   "outputs": [],
   "source": [
    "xgb.fit(train_smote_X,train_smote_Y)"
   ]
  },
  {
   "cell_type": "code",
   "execution_count": null,
   "metadata": {
    "id": "Zkw3t9xj8CGi"
   },
   "outputs": [],
   "source": [
    "predxgb=xgb.predict(test_X)"
   ]
  },
  {
   "cell_type": "markdown",
   "metadata": {
    "id": "eBSkxGIC8MMs"
   },
   "source": [
    "### Evaluation"
   ]
  },
  {
   "cell_type": "code",
   "execution_count": null,
   "metadata": {
    "id": "2hDJjlWT8MMv"
   },
   "outputs": [],
   "source": [
    "print(\"Accuracy for XGboost on CV data: \",accuracy_score(test_Y,predxgb))"
   ]
  },
  {
   "cell_type": "code",
   "execution_count": null,
   "metadata": {
    "id": "uxU4c1b08MMw"
   },
   "outputs": [],
   "source": [
    "target_names = ['No','Yes']\n",
    "print(classification_report(test_Y, predxgb, target_names=target_names))"
   ]
  },
  {
   "cell_type": "code",
   "execution_count": null,
   "metadata": {
    "id": "9FJVdoaQ8MMy"
   },
   "outputs": [],
   "source": [
    "from sklearn.metrics import roc_curve\n",
    "# Generate ROC curve values: fpr, tpr, thresholds\n",
    "fpr_xgb, tpr_xgb, thresholds_xgb = roc_curve(test_Y, predxgb)\n",
    "# Plot ROC curve\n",
    "plt.plot([0, 1], [0, 1], 'k--')\n",
    "plt.plot(fpr_xgb, tpr_xgb)\n",
    "plt.xlabel('False Positive Rate')\n",
    "plt.ylabel('True Positive Rate')\n",
    "plt.title('ROC Curve')\n",
    "plt.show()"
   ]
  },
  {
   "cell_type": "code",
   "execution_count": null,
   "metadata": {
    "id": "-NHL5m-98MMz"
   },
   "outputs": [],
   "source": [
    "from sklearn.metrics import roc_auc_score\n",
    "roc_auc_score(test_Y,predxgb)"
   ]
  },
  {
   "cell_type": "markdown",
   "metadata": {
    "id": "Rob_nSDA1lSj"
   },
   "source": [
    "## XGBoost Grid"
   ]
  },
  {
   "cell_type": "code",
   "execution_count": null,
   "metadata": {
    "id": "7m2D-M0r1lZ_"
   },
   "outputs": [],
   "source": [
    "param_grid_xgb = {\n",
    "        \"gamma\":[0.5, 1, 1.5, 2, 5],\n",
    "        \"max_depth\":[3,4,5,6],\n",
    "        \"min_child_weight\": [100],\n",
    "        \"subsample\": [0.6, 0.8, 1.0],\n",
    "        \"colsample_bytree\": [0.6, 0.8, 1.0],\n",
    "        \"learning_rate\": [0.1, 0.01, 0.001]\n",
    "    }"
   ]
  },
  {
   "cell_type": "code",
   "execution_count": null,
   "metadata": {
    "colab": {
     "background_save": true,
     "base_uri": "https://localhost:8080/"
    },
    "id": "tR0Jd2131wvr",
    "outputId": "3a6a021e-b2d5-453c-cb9e-69cb8cad3e8a"
   },
   "outputs": [
    {
     "name": "stderr",
     "output_type": "stream",
     "text": [
      "/usr/local/lib/python3.7/dist-packages/sklearn/preprocessing/_label.py:235: DataConversionWarning: A column-vector y was passed when a 1d array was expected. Please change the shape of y to (n_samples, ), for example using ravel().\n",
      "  y = column_or_1d(y, warn=True)\n",
      "/usr/local/lib/python3.7/dist-packages/sklearn/preprocessing/_label.py:268: DataConversionWarning: A column-vector y was passed when a 1d array was expected. Please change the shape of y to (n_samples, ), for example using ravel().\n",
      "  y = column_or_1d(y, warn=True)\n"
     ]
    },
    {
     "data": {
      "text/plain": [
       "GridSearchCV(cv=5, error_score=nan,\n",
       "             estimator=XGBClassifier(base_score=0.5, booster='gbtree',\n",
       "                                     colsample_bylevel=1, colsample_bynode=1,\n",
       "                                     colsample_bytree=1, gamma=0,\n",
       "                                     learning_rate=0.1, max_delta_step=0,\n",
       "                                     max_depth=3, min_child_weight=1,\n",
       "                                     missing=None, n_estimators=100, n_jobs=1,\n",
       "                                     nthread=None, objective='binary:logistic',\n",
       "                                     random_state=0, reg_alpha=0, reg_lambda=1,\n",
       "                                     scale_pos_weight=1, seed=None, silent=None,\n",
       "                                     subsample=1, verbosity=1),\n",
       "             iid='deprecated', n_jobs=None,\n",
       "             param_grid={'colsample_bytree': [0.6, 0.8, 1.0],\n",
       "                         'gamma': [0.5, 1, 1.5, 2, 5],\n",
       "                         'learning_rate': [0.1, 0.01, 0.001],\n",
       "                         'max_depth': [3, 4, 5, 6], 'min_child_weight': [100],\n",
       "                         'subsample': [0.6, 0.8, 1.0]},\n",
       "             pre_dispatch='2*n_jobs', refit=True, return_train_score=False,\n",
       "             scoring=None, verbose=0)"
      ]
     },
     "execution_count": 0,
     "metadata": {
      "tags": []
     },
     "output_type": "execute_result"
    }
   ],
   "source": [
    "CV_xgb = GridSearchCV(estimator=xgb, param_grid=param_grid_xgb, cv= 5)\n",
    "CV_xgb.fit(train_smote_X, train_smote_Y)"
   ]
  },
  {
   "cell_type": "code",
   "execution_count": null,
   "metadata": {
    "colab": {
     "background_save": true
    },
    "id": "6nsfGbaO22sU",
    "outputId": "6865857f-919e-4783-edbb-c3f6bd970376"
   },
   "outputs": [
    {
     "data": {
      "text/plain": [
       "{'colsample_bytree': 0.6,\n",
       " 'gamma': 0.5,\n",
       " 'learning_rate': 0.1,\n",
       " 'max_depth': 5,\n",
       " 'min_child_weight': 100,\n",
       " 'subsample': 1.0}"
      ]
     },
     "execution_count": 0,
     "metadata": {
      "tags": []
     },
     "output_type": "execute_result"
    }
   ],
   "source": [
    "CV_xgb.best_params_"
   ]
  },
  {
   "cell_type": "code",
   "execution_count": null,
   "metadata": {
    "colab": {
     "background_save": true
    },
    "id": "Bl637MzX1lem"
   },
   "outputs": [],
   "source": [
    "predCV_xgb=CV_xgb.predict(test_X)"
   ]
  },
  {
   "cell_type": "markdown",
   "metadata": {
    "id": "X7hMF8om1leo"
   },
   "source": [
    "### Evaluation"
   ]
  },
  {
   "cell_type": "code",
   "execution_count": null,
   "metadata": {
    "colab": {
     "background_save": true
    },
    "id": "YTYHvLFv1lep",
    "outputId": "2916664a-317f-4f81-dd21-778b53495f6b"
   },
   "outputs": [
    {
     "name": "stdout",
     "output_type": "stream",
     "text": [
      "Accuracy for XGboost on CV data:  0.9297632906480403\n"
     ]
    }
   ],
   "source": [
    "print(\"Accuracy for XGboost on CV data: \",accuracy_score(test_Y,predxgb))"
   ]
  },
  {
   "cell_type": "code",
   "execution_count": null,
   "metadata": {
    "colab": {
     "background_save": true
    },
    "id": "dIgw1Gea1leq",
    "outputId": "7a2492ff-eeb0-44ee-f4eb-baeffc31146e"
   },
   "outputs": [
    {
     "name": "stdout",
     "output_type": "stream",
     "text": [
      "              precision    recall  f1-score   support\n",
      "\n",
      "          No       0.95      0.97      0.96      2410\n",
      "         Yes       0.44      0.30      0.36       167\n",
      "\n",
      "    accuracy                           0.93      2577\n",
      "   macro avg       0.70      0.64      0.66      2577\n",
      "weighted avg       0.92      0.93      0.92      2577\n",
      "\n"
     ]
    }
   ],
   "source": [
    "target_names = ['No','Yes']\n",
    "print(classification_report(test_Y, predxgb, target_names=target_names))"
   ]
  },
  {
   "cell_type": "code",
   "execution_count": null,
   "metadata": {
    "colab": {
     "background_save": true
    },
    "id": "-xPDrPk11lfn",
    "outputId": "15c95750-6dc9-4f70-aaa5-3fd40daf2f46"
   },
   "outputs": [
    {
     "data": {
      "image/png": "[encoded data removed]",
      "text/plain": [
       "<Figure size 432x288 with 1 Axes>"
      ]
     },
     "metadata": {
      "tags": []
     },
     "output_type": "display_data"
    }
   ],
   "source": [
    "from sklearn.metrics import roc_curve\n",
    "# Generate ROC curve values: fpr, tpr, thresholds\n",
    "fpr_xgb, tpr_xgb, thresholds_xgb = roc_curve(test_Y, predxgb)\n",
    "# Plot ROC curve\n",
    "plt.plot([0, 1], [0, 1], 'k--')\n",
    "plt.plot(fpr_xgb, tpr_xgb)\n",
    "plt.xlabel('False Positive Rate')\n",
    "plt.ylabel('True Positive Rate')\n",
    "plt.title('ROC Curve')\n",
    "plt.show()"
   ]
  },
  {
   "cell_type": "code",
   "execution_count": null,
   "metadata": {
    "colab": {
     "background_save": true
    },
    "id": "DehoCmMm1lfo",
    "outputId": "62a42dda-e979-4542-ef74-4d626c2dbcd8"
   },
   "outputs": [
    {
     "data": {
      "text/plain": [
       "0.6364225905036399"
      ]
     },
     "execution_count": 0,
     "metadata": {
      "tags": []
     },
     "output_type": "execute_result"
    }
   ],
   "source": [
    "from sklearn.metrics import roc_auc_score\n",
    "roc_auc_score(test_Y,predxgb)"
   ]
  },
  {
   "cell_type": "markdown",
   "metadata": {
    "id": "TzB_T_czBtKU"
   },
   "source": [
    "## Decision Tree"
   ]
  },
  {
   "cell_type": "code",
   "execution_count": null,
   "metadata": {
    "colab": {
     "background_save": true
    },
    "id": "7Z-s-ho7BoYc"
   },
   "outputs": [],
   "source": [
    "from sklearn.tree import DecisionTreeClassifier\n",
    "dt = DecisionTreeClassifier()"
   ]
  },
  {
   "cell_type": "code",
   "execution_count": null,
   "metadata": {
    "colab": {
     "background_save": true
    },
    "id": "G7ayhgpYBxde"
   },
   "outputs": [],
   "source": [
    "param_grid_dt = {'criterion': ['gini', 'entropy'], 'max_depth': [3,5,7,20]}"
   ]
  },
  {
   "cell_type": "code",
   "execution_count": null,
   "metadata": {
    "colab": {
     "background_save": true
    },
    "id": "wllE71LsCS6Q",
    "outputId": "f0220c5a-5226-46c5-b672-8c5e3142bdd1"
   },
   "outputs": [
    {
     "data": {
      "text/plain": [
       "GridSearchCV(cv=5, error_score=nan,\n",
       "             estimator=DecisionTreeClassifier(ccp_alpha=0.0, class_weight=None,\n",
       "                                              criterion='gini', max_depth=None,\n",
       "                                              max_features=None,\n",
       "                                              max_leaf_nodes=None,\n",
       "                                              min_impurity_decrease=0.0,\n",
       "                                              min_impurity_split=None,\n",
       "                                              min_samples_leaf=1,\n",
       "                                              min_samples_split=2,\n",
       "                                              min_weight_fraction_leaf=0.0,\n",
       "                                              presort='deprecated',\n",
       "                                              random_state=None,\n",
       "                                              splitter='best'),\n",
       "             iid='deprecated', n_jobs=None,\n",
       "             param_grid={'criterion': ['gini', 'entropy'],\n",
       "                         'max_depth': [3, 5, 7, 20]},\n",
       "             pre_dispatch='2*n_jobs', refit=True, return_train_score=False,\n",
       "             scoring=None, verbose=0)"
      ]
     },
     "execution_count": 0,
     "metadata": {
      "tags": []
     },
     "output_type": "execute_result"
    }
   ],
   "source": [
    "CV_dt = GridSearchCV(estimator=dt, param_grid=param_grid_dt, cv= 5)\n",
    "CV_dt.fit(train_smote_X,train_smote_Y)"
   ]
  },
  {
   "cell_type": "code",
   "execution_count": null,
   "metadata": {
    "colab": {
     "background_save": true
    },
    "id": "T7dsguRCCS6S",
    "outputId": "a44cfeeb-f1e5-4a74-9b96-b25efa1a8d3f"
   },
   "outputs": [
    {
     "data": {
      "text/plain": [
       "{'criterion': 'entropy', 'max_depth': 20}"
      ]
     },
     "execution_count": 0,
     "metadata": {
      "tags": []
     },
     "output_type": "execute_result"
    }
   ],
   "source": [
    "CV_dt.best_params_"
   ]
  },
  {
   "cell_type": "code",
   "execution_count": null,
   "metadata": {
    "colab": {
     "background_save": true
    },
    "id": "vIb_ggXECS6U"
   },
   "outputs": [],
   "source": [
    "preddt=CV_dt.predict(test_X)"
   ]
  },
  {
   "cell_type": "markdown",
   "metadata": {
    "id": "ME_8kQYYCS6W"
   },
   "source": [
    "### Evaluation"
   ]
  },
  {
   "cell_type": "code",
   "execution_count": null,
   "metadata": {
    "colab": {
     "background_save": true
    },
    "id": "7hpL94szC-ua",
    "outputId": "41f54e02-9a65-4107-c27a-17520f0cb3ba"
   },
   "outputs": [
    {
     "name": "stdout",
     "output_type": "stream",
     "text": [
      "Accuracy for Decision Tree on CV data:  0.8808692277842453\n"
     ]
    }
   ],
   "source": [
    "print(\"Accuracy for Decision Tree on CV data: \",accuracy_score(test_Y,preddt))"
   ]
  },
  {
   "cell_type": "code",
   "execution_count": null,
   "metadata": {
    "colab": {
     "background_save": true
    },
    "id": "by8zyBmoC-uc",
    "outputId": "cd190892-e70e-476c-d953-bb5efe999aa1"
   },
   "outputs": [
    {
     "name": "stdout",
     "output_type": "stream",
     "text": [
      "              precision    recall  f1-score   support\n",
      "\n",
      "          No       0.95      0.93      0.94      2410\n",
      "         Yes       0.18      0.24      0.21       167\n",
      "\n",
      "    accuracy                           0.88      2577\n",
      "   macro avg       0.56      0.58      0.57      2577\n",
      "weighted avg       0.90      0.88      0.89      2577\n",
      "\n"
     ]
    }
   ],
   "source": [
    "target_names = ['No','Yes']\n",
    "print(classification_report(test_Y, preddt, target_names=target_names))"
   ]
  },
  {
   "cell_type": "code",
   "execution_count": null,
   "metadata": {
    "colab": {
     "background_save": true
    },
    "id": "MtCEyhJmC-ud",
    "outputId": "492c363d-a4c0-4a8d-bd43-47c808e4be34"
   },
   "outputs": [
    {
     "data": {
      "image/png": "[encoded data removed]",
      "text/plain": [
       "<Figure size 432x288 with 1 Axes>"
      ]
     },
     "metadata": {
      "tags": []
     },
     "output_type": "display_data"
    }
   ],
   "source": [
    "from sklearn.metrics import roc_curve\n",
    "# Generate ROC curve values: fpr, tpr, thresholds\n",
    "fpr_dt, tpr_dt, thresholds_dt= roc_curve(test_Y, preddt)\n",
    "# Plot ROC curve\n",
    "plt.plot([0, 1], [0, 1], 'k--')\n",
    "plt.plot(fpr_dt, tpr_dt)\n",
    "plt.xlabel('False Positive Rate')\n",
    "plt.ylabel('True Positive Rate')\n",
    "plt.title('ROC Curve')\n",
    "plt.show()"
   ]
  },
  {
   "cell_type": "code",
   "execution_count": null,
   "metadata": {
    "colab": {
     "background_save": true
    },
    "id": "iWyj3F4GC-ue",
    "outputId": "16419d6c-42e8-4eb5-a4a8-4b8a2cf617fb"
   },
   "outputs": [
    {
     "data": {
      "text/plain": [
       "0.5824160807016673"
      ]
     },
     "execution_count": 0,
     "metadata": {
      "tags": []
     },
     "output_type": "execute_result"
    }
   ],
   "source": [
    "from sklearn.metrics import roc_auc_score\n",
    "roc_auc_score(test_Y,preddt)"
   ]
  },
  {
   "cell_type": "markdown",
   "metadata": {
    "id": "F96gsNznDT1S"
   },
   "source": [
    "## KNN"
   ]
  },
  {
   "cell_type": "code",
   "execution_count": null,
   "metadata": {
    "colab": {
     "background_save": true
    },
    "id": "h5i-2pxJDWKh"
   },
   "outputs": [],
   "source": [
    "from sklearn.neighbors import KNeighborsClassifier\n",
    "knn = KNeighborsClassifier()"
   ]
  },
  {
   "cell_type": "code",
   "execution_count": null,
   "metadata": {
    "colab": {
     "background_save": true
    },
    "id": "PEk7ow_oDht_"
   },
   "outputs": [],
   "source": [
    "param_grid_knn = { \n",
    "    'n_neighbors': range(1, 32, 1)\n",
    " }"
   ]
  },
  {
   "cell_type": "code",
   "execution_count": null,
   "metadata": {
    "colab": {
     "background_save": true
    },
    "id": "lTqJ6LnID_GQ",
    "outputId": "beeaf444-f380-4b00-ffdf-9da9bcf93370"
   },
   "outputs": [
    {
     "name": "stderr",
     "output_type": "stream",
     "text": [
      "/usr/local/lib/python3.7/dist-packages/sklearn/model_selection/_validation.py:515: DataConversionWarning: A column-vector y was passed when a 1d array was expected. Please change the shape of y to (n_samples, ), for example using ravel().\n",
      "  estimator.fit(X_train, y_train, **fit_params)\n",
      "/usr/local/lib/python3.7/dist-packages/sklearn/model_selection/_validation.py:515: DataConversionWarning: A column-vector y was passed when a 1d array was expected. Please change the shape of y to (n_samples, ), for example using ravel().\n",
      "  estimator.fit(X_train, y_train, **fit_params)\n",
      "/usr/local/lib/python3.7/dist-packages/sklearn/model_selection/_validation.py:515: DataConversionWarning: A column-vector y was passed when a 1d array was expected. Please change the shape of y to (n_samples, ), for example using ravel().\n",
      "  estimator.fit(X_train, y_train, **fit_params)\n",
      "/usr/local/lib/python3.7/dist-packages/sklearn/model_selection/_validation.py:515: DataConversionWarning: A column-vector y was passed when a 1d array was expected. Please change the shape of y to (n_samples, ), for example using ravel().\n",
      "  estimator.fit(X_train, y_train, **fit_params)\n",
      "/usr/local/lib/python3.7/dist-packages/sklearn/model_selection/_validation.py:515: DataConversionWarning: A column-vector y was passed when a 1d array was expected. Please change the shape of y to (n_samples, ), for example using ravel().\n",
      "  estimator.fit(X_train, y_train, **fit_params)\n",
      "/usr/local/lib/python3.7/dist-packages/sklearn/model_selection/_validation.py:515: DataConversionWarning: A column-vector y was passed when a 1d array was expected. Please change the shape of y to (n_samples, ), for example using ravel().\n",
      "  estimator.fit(X_train, y_train, **fit_params)\n",
      "/usr/local/lib/python3.7/dist-packages/sklearn/model_selection/_validation.py:515: DataConversionWarning: A column-vector y was passed when a 1d array was expected. Please change the shape of y to (n_samples, ), for example using ravel().\n",
      "  estimator.fit(X_train, y_train, **fit_params)\n",
      "/usr/local/lib/python3.7/dist-packages/sklearn/model_selection/_validation.py:515: DataConversionWarning: A column-vector y was passed when a 1d array was expected. Please change the shape of y to (n_samples, ), for example using ravel().\n",
      "  estimator.fit(X_train, y_train, **fit_params)\n",
      "/usr/local/lib/python3.7/dist-packages/sklearn/model_selection/_validation.py:515: DataConversionWarning: A column-vector y was passed when a 1d array was expected. Please change the shape of y to (n_samples, ), for example using ravel().\n",
      "  estimator.fit(X_train, y_train, **fit_params)\n",
      "/usr/local/lib/python3.7/dist-packages/sklearn/model_selection/_validation.py:515: DataConversionWarning: A column-vector y was passed when a 1d array was expected. Please change the shape of y to (n_samples, ), for example using ravel().\n",
      "  estimator.fit(X_train, y_train, **fit_params)\n",
      "/usr/local/lib/python3.7/dist-packages/sklearn/model_selection/_validation.py:515: DataConversionWarning: A column-vector y was passed when a 1d array was expected. Please change the shape of y to (n_samples, ), for example using ravel().\n",
      "  estimator.fit(X_train, y_train, **fit_params)\n",
      "/usr/local/lib/python3.7/dist-packages/sklearn/model_selection/_validation.py:515: DataConversionWarning: A column-vector y was passed when a 1d array was expected. Please change the shape of y to (n_samples, ), for example using ravel().\n",
      "  estimator.fit(X_train, y_train, **fit_params)\n",
      "/usr/local/lib/python3.7/dist-packages/sklearn/model_selection/_validation.py:515: DataConversionWarning: A column-vector y was passed when a 1d array was expected. Please change the shape of y to (n_samples, ), for example using ravel().\n",
      "  estimator.fit(X_train, y_train, **fit_params)\n",
      "/usr/local/lib/python3.7/dist-packages/sklearn/model_selection/_validation.py:515: DataConversionWarning: A column-vector y was passed when a 1d array was expected. Please change the shape of y to (n_samples, ), for example using ravel().\n",
      "  estimator.fit(X_train, y_train, **fit_params)\n",
      "/usr/local/lib/python3.7/dist-packages/sklearn/model_selection/_validation.py:515: DataConversionWarning: A column-vector y was passed when a 1d array was expected. Please change the shape of y to (n_samples, ), for example using ravel().\n",
      "  estimator.fit(X_train, y_train, **fit_params)\n",
      "/usr/local/lib/python3.7/dist-packages/sklearn/model_selection/_validation.py:515: DataConversionWarning: A column-vector y was passed when a 1d array was expected. Please change the shape of y to (n_samples, ), for example using ravel().\n",
      "  estimator.fit(X_train, y_train, **fit_params)\n",
      "/usr/local/lib/python3.7/dist-packages/sklearn/model_selection/_validation.py:515: DataConversionWarning: A column-vector y was passed when a 1d array was expected. Please change the shape of y to (n_samples, ), for example using ravel().\n",
      "  estimator.fit(X_train, y_train, **fit_params)\n",
      "/usr/local/lib/python3.7/dist-packages/sklearn/model_selection/_validation.py:515: DataConversionWarning: A column-vector y was passed when a 1d array was expected. Please change the shape of y to (n_samples, ), for example using ravel().\n",
      "  estimator.fit(X_train, y_train, **fit_params)\n",
      "/usr/local/lib/python3.7/dist-packages/sklearn/model_selection/_validation.py:515: DataConversionWarning: A column-vector y was passed when a 1d array was expected. Please change the shape of y to (n_samples, ), for example using ravel().\n",
      "  estimator.fit(X_train, y_train, **fit_params)\n",
      "/usr/local/lib/python3.7/dist-packages/sklearn/model_selection/_validation.py:515: DataConversionWarning: A column-vector y was passed when a 1d array was expected. Please change the shape of y to (n_samples, ), for example using ravel().\n",
      "  estimator.fit(X_train, y_train, **fit_params)\n",
      "/usr/local/lib/python3.7/dist-packages/sklearn/model_selection/_validation.py:515: DataConversionWarning: A column-vector y was passed when a 1d array was expected. Please change the shape of y to (n_samples, ), for example using ravel().\n",
      "  estimator.fit(X_train, y_train, **fit_params)\n",
      "/usr/local/lib/python3.7/dist-packages/sklearn/model_selection/_validation.py:515: DataConversionWarning: A column-vector y was passed when a 1d array was expected. Please change the shape of y to (n_samples, ), for example using ravel().\n",
      "  estimator.fit(X_train, y_train, **fit_params)\n",
      "/usr/local/lib/python3.7/dist-packages/sklearn/model_selection/_validation.py:515: DataConversionWarning: A column-vector y was passed when a 1d array was expected. Please change the shape of y to (n_samples, ), for example using ravel().\n",
      "  estimator.fit(X_train, y_train, **fit_params)\n",
      "/usr/local/lib/python3.7/dist-packages/sklearn/model_selection/_validation.py:515: DataConversionWarning: A column-vector y was passed when a 1d array was expected. Please change the shape of y to (n_samples, ), for example using ravel().\n",
      "  estimator.fit(X_train, y_train, **fit_params)\n",
      "/usr/local/lib/python3.7/dist-packages/sklearn/model_selection/_validation.py:515: DataConversionWarning: A column-vector y was passed when a 1d array was expected. Please change the shape of y to (n_samples, ), for example using ravel().\n",
      "  estimator.fit(X_train, y_train, **fit_params)\n",
      "/usr/local/lib/python3.7/dist-packages/sklearn/model_selection/_validation.py:515: DataConversionWarning: A column-vector y was passed when a 1d array was expected. Please change the shape of y to (n_samples, ), for example using ravel().\n",
      "  estimator.fit(X_train, y_train, **fit_params)\n",
      "/usr/local/lib/python3.7/dist-packages/sklearn/model_selection/_validation.py:515: DataConversionWarning: A column-vector y was passed when a 1d array was expected. Please change the shape of y to (n_samples, ), for example using ravel().\n",
      "  estimator.fit(X_train, y_train, **fit_params)\n",
      "/usr/local/lib/python3.7/dist-packages/sklearn/model_selection/_validation.py:515: DataConversionWarning: A column-vector y was passed when a 1d array was expected. Please change the shape of y to (n_samples, ), for example using ravel().\n",
      "  estimator.fit(X_train, y_train, **fit_params)\n",
      "/usr/local/lib/python3.7/dist-packages/sklearn/model_selection/_validation.py:515: DataConversionWarning: A column-vector y was passed when a 1d array was expected. Please change the shape of y to (n_samples, ), for example using ravel().\n",
      "  estimator.fit(X_train, y_train, **fit_params)\n",
      "/usr/local/lib/python3.7/dist-packages/sklearn/model_selection/_validation.py:515: DataConversionWarning: A column-vector y was passed when a 1d array was expected. Please change the shape of y to (n_samples, ), for example using ravel().\n",
      "  estimator.fit(X_train, y_train, **fit_params)\n",
      "/usr/local/lib/python3.7/dist-packages/sklearn/model_selection/_validation.py:515: DataConversionWarning: A column-vector y was passed when a 1d array was expected. Please change the shape of y to (n_samples, ), for example using ravel().\n",
      "  estimator.fit(X_train, y_train, **fit_params)\n",
      "/usr/local/lib/python3.7/dist-packages/sklearn/model_selection/_validation.py:515: DataConversionWarning: A column-vector y was passed when a 1d array was expected. Please change the shape of y to (n_samples, ), for example using ravel().\n",
      "  estimator.fit(X_train, y_train, **fit_params)\n",
      "/usr/local/lib/python3.7/dist-packages/sklearn/model_selection/_validation.py:515: DataConversionWarning: A column-vector y was passed when a 1d array was expected. Please change the shape of y to (n_samples, ), for example using ravel().\n",
      "  estimator.fit(X_train, y_train, **fit_params)\n",
      "/usr/local/lib/python3.7/dist-packages/sklearn/model_selection/_validation.py:515: DataConversionWarning: A column-vector y was passed when a 1d array was expected. Please change the shape of y to (n_samples, ), for example using ravel().\n",
      "  estimator.fit(X_train, y_train, **fit_params)\n",
      "/usr/local/lib/python3.7/dist-packages/sklearn/model_selection/_validation.py:515: DataConversionWarning: A column-vector y was passed when a 1d array was expected. Please change the shape of y to (n_samples, ), for example using ravel().\n",
      "  estimator.fit(X_train, y_train, **fit_params)\n",
      "/usr/local/lib/python3.7/dist-packages/sklearn/model_selection/_validation.py:515: DataConversionWarning: A column-vector y was passed when a 1d array was expected. Please change the shape of y to (n_samples, ), for example using ravel().\n",
      "  estimator.fit(X_train, y_train, **fit_params)\n",
      "/usr/local/lib/python3.7/dist-packages/sklearn/model_selection/_validation.py:515: DataConversionWarning: A column-vector y was passed when a 1d array was expected. Please change the shape of y to (n_samples, ), for example using ravel().\n",
      "  estimator.fit(X_train, y_train, **fit_params)\n",
      "/usr/local/lib/python3.7/dist-packages/sklearn/model_selection/_validation.py:515: DataConversionWarning: A column-vector y was passed when a 1d array was expected. Please change the shape of y to (n_samples, ), for example using ravel().\n",
      "  estimator.fit(X_train, y_train, **fit_params)\n",
      "/usr/local/lib/python3.7/dist-packages/sklearn/model_selection/_validation.py:515: DataConversionWarning: A column-vector y was passed when a 1d array was expected. Please change the shape of y to (n_samples, ), for example using ravel().\n",
      "  estimator.fit(X_train, y_train, **fit_params)\n",
      "/usr/local/lib/python3.7/dist-packages/sklearn/model_selection/_validation.py:515: DataConversionWarning: A column-vector y was passed when a 1d array was expected. Please change the shape of y to (n_samples, ), for example using ravel().\n",
      "  estimator.fit(X_train, y_train, **fit_params)\n",
      "/usr/local/lib/python3.7/dist-packages/sklearn/model_selection/_validation.py:515: DataConversionWarning: A column-vector y was passed when a 1d array was expected. Please change the shape of y to (n_samples, ), for example using ravel().\n",
      "  estimator.fit(X_train, y_train, **fit_params)\n",
      "/usr/local/lib/python3.7/dist-packages/sklearn/model_selection/_validation.py:515: DataConversionWarning: A column-vector y was passed when a 1d array was expected. Please change the shape of y to (n_samples, ), for example using ravel().\n",
      "  estimator.fit(X_train, y_train, **fit_params)\n",
      "/usr/local/lib/python3.7/dist-packages/sklearn/model_selection/_validation.py:515: DataConversionWarning: A column-vector y was passed when a 1d array was expected. Please change the shape of y to (n_samples, ), for example using ravel().\n",
      "  estimator.fit(X_train, y_train, **fit_params)\n",
      "/usr/local/lib/python3.7/dist-packages/sklearn/model_selection/_validation.py:515: DataConversionWarning: A column-vector y was passed when a 1d array was expected. Please change the shape of y to (n_samples, ), for example using ravel().\n",
      "  estimator.fit(X_train, y_train, **fit_params)\n",
      "/usr/local/lib/python3.7/dist-packages/sklearn/model_selection/_validation.py:515: DataConversionWarning: A column-vector y was passed when a 1d array was expected. Please change the shape of y to (n_samples, ), for example using ravel().\n",
      "  estimator.fit(X_train, y_train, **fit_params)\n",
      "/usr/local/lib/python3.7/dist-packages/sklearn/model_selection/_validation.py:515: DataConversionWarning: A column-vector y was passed when a 1d array was expected. Please change the shape of y to (n_samples, ), for example using ravel().\n",
      "  estimator.fit(X_train, y_train, **fit_params)\n",
      "/usr/local/lib/python3.7/dist-packages/sklearn/model_selection/_validation.py:515: DataConversionWarning: A column-vector y was passed when a 1d array was expected. Please change the shape of y to (n_samples, ), for example using ravel().\n",
      "  estimator.fit(X_train, y_train, **fit_params)\n",
      "/usr/local/lib/python3.7/dist-packages/sklearn/model_selection/_validation.py:515: DataConversionWarning: A column-vector y was passed when a 1d array was expected. Please change the shape of y to (n_samples, ), for example using ravel().\n",
      "  estimator.fit(X_train, y_train, **fit_params)\n",
      "/usr/local/lib/python3.7/dist-packages/sklearn/model_selection/_validation.py:515: DataConversionWarning: A column-vector y was passed when a 1d array was expected. Please change the shape of y to (n_samples, ), for example using ravel().\n",
      "  estimator.fit(X_train, y_train, **fit_params)\n",
      "/usr/local/lib/python3.7/dist-packages/sklearn/model_selection/_validation.py:515: DataConversionWarning: A column-vector y was passed when a 1d array was expected. Please change the shape of y to (n_samples, ), for example using ravel().\n",
      "  estimator.fit(X_train, y_train, **fit_params)\n",
      "/usr/local/lib/python3.7/dist-packages/sklearn/model_selection/_validation.py:515: DataConversionWarning: A column-vector y was passed when a 1d array was expected. Please change the shape of y to (n_samples, ), for example using ravel().\n",
      "  estimator.fit(X_train, y_train, **fit_params)\n",
      "/usr/local/lib/python3.7/dist-packages/sklearn/model_selection/_validation.py:515: DataConversionWarning: A column-vector y was passed when a 1d array was expected. Please change the shape of y to (n_samples, ), for example using ravel().\n",
      "  estimator.fit(X_train, y_train, **fit_params)\n",
      "/usr/local/lib/python3.7/dist-packages/sklearn/model_selection/_validation.py:515: DataConversionWarning: A column-vector y was passed when a 1d array was expected. Please change the shape of y to (n_samples, ), for example using ravel().\n",
      "  estimator.fit(X_train, y_train, **fit_params)\n",
      "/usr/local/lib/python3.7/dist-packages/sklearn/model_selection/_validation.py:515: DataConversionWarning: A column-vector y was passed when a 1d array was expected. Please change the shape of y to (n_samples, ), for example using ravel().\n",
      "  estimator.fit(X_train, y_train, **fit_params)\n",
      "/usr/local/lib/python3.7/dist-packages/sklearn/model_selection/_validation.py:515: DataConversionWarning: A column-vector y was passed when a 1d array was expected. Please change the shape of y to (n_samples, ), for example using ravel().\n",
      "  estimator.fit(X_train, y_train, **fit_params)\n",
      "/usr/local/lib/python3.7/dist-packages/sklearn/model_selection/_validation.py:515: DataConversionWarning: A column-vector y was passed when a 1d array was expected. Please change the shape of y to (n_samples, ), for example using ravel().\n",
      "  estimator.fit(X_train, y_train, **fit_params)\n",
      "/usr/local/lib/python3.7/dist-packages/sklearn/model_selection/_validation.py:515: DataConversionWarning: A column-vector y was passed when a 1d array was expected. Please change the shape of y to (n_samples, ), for example using ravel().\n",
      "  estimator.fit(X_train, y_train, **fit_params)\n",
      "/usr/local/lib/python3.7/dist-packages/sklearn/model_selection/_validation.py:515: DataConversionWarning: A column-vector y was passed when a 1d array was expected. Please change the shape of y to (n_samples, ), for example using ravel().\n",
      "  estimator.fit(X_train, y_train, **fit_params)\n",
      "/usr/local/lib/python3.7/dist-packages/sklearn/model_selection/_validation.py:515: DataConversionWarning: A column-vector y was passed when a 1d array was expected. Please change the shape of y to (n_samples, ), for example using ravel().\n",
      "  estimator.fit(X_train, y_train, **fit_params)\n",
      "/usr/local/lib/python3.7/dist-packages/sklearn/model_selection/_validation.py:515: DataConversionWarning: A column-vector y was passed when a 1d array was expected. Please change the shape of y to (n_samples, ), for example using ravel().\n",
      "  estimator.fit(X_train, y_train, **fit_params)\n",
      "/usr/local/lib/python3.7/dist-packages/sklearn/model_selection/_validation.py:515: DataConversionWarning: A column-vector y was passed when a 1d array was expected. Please change the shape of y to (n_samples, ), for example using ravel().\n",
      "  estimator.fit(X_train, y_train, **fit_params)\n",
      "/usr/local/lib/python3.7/dist-packages/sklearn/model_selection/_validation.py:515: DataConversionWarning: A column-vector y was passed when a 1d array was expected. Please change the shape of y to (n_samples, ), for example using ravel().\n",
      "  estimator.fit(X_train, y_train, **fit_params)\n",
      "/usr/local/lib/python3.7/dist-packages/sklearn/model_selection/_validation.py:515: DataConversionWarning: A column-vector y was passed when a 1d array was expected. Please change the shape of y to (n_samples, ), for example using ravel().\n",
      "  estimator.fit(X_train, y_train, **fit_params)\n",
      "/usr/local/lib/python3.7/dist-packages/sklearn/model_selection/_validation.py:515: DataConversionWarning: A column-vector y was passed when a 1d array was expected. Please change the shape of y to (n_samples, ), for example using ravel().\n",
      "  estimator.fit(X_train, y_train, **fit_params)\n",
      "/usr/local/lib/python3.7/dist-packages/sklearn/model_selection/_validation.py:515: DataConversionWarning: A column-vector y was passed when a 1d array was expected. Please change the shape of y to (n_samples, ), for example using ravel().\n",
      "  estimator.fit(X_train, y_train, **fit_params)\n",
      "/usr/local/lib/python3.7/dist-packages/sklearn/model_selection/_validation.py:515: DataConversionWarning: A column-vector y was passed when a 1d array was expected. Please change the shape of y to (n_samples, ), for example using ravel().\n",
      "  estimator.fit(X_train, y_train, **fit_params)\n",
      "/usr/local/lib/python3.7/dist-packages/sklearn/model_selection/_validation.py:515: DataConversionWarning: A column-vector y was passed when a 1d array was expected. Please change the shape of y to (n_samples, ), for example using ravel().\n",
      "  estimator.fit(X_train, y_train, **fit_params)\n",
      "/usr/local/lib/python3.7/dist-packages/sklearn/model_selection/_validation.py:515: DataConversionWarning: A column-vector y was passed when a 1d array was expected. Please change the shape of y to (n_samples, ), for example using ravel().\n",
      "  estimator.fit(X_train, y_train, **fit_params)\n",
      "/usr/local/lib/python3.7/dist-packages/sklearn/model_selection/_validation.py:515: DataConversionWarning: A column-vector y was passed when a 1d array was expected. Please change the shape of y to (n_samples, ), for example using ravel().\n",
      "  estimator.fit(X_train, y_train, **fit_params)\n",
      "/usr/local/lib/python3.7/dist-packages/sklearn/model_selection/_validation.py:515: DataConversionWarning: A column-vector y was passed when a 1d array was expected. Please change the shape of y to (n_samples, ), for example using ravel().\n",
      "  estimator.fit(X_train, y_train, **fit_params)\n",
      "/usr/local/lib/python3.7/dist-packages/sklearn/model_selection/_validation.py:515: DataConversionWarning: A column-vector y was passed when a 1d array was expected. Please change the shape of y to (n_samples, ), for example using ravel().\n",
      "  estimator.fit(X_train, y_train, **fit_params)\n",
      "/usr/local/lib/python3.7/dist-packages/sklearn/model_selection/_validation.py:515: DataConversionWarning: A column-vector y was passed when a 1d array was expected. Please change the shape of y to (n_samples, ), for example using ravel().\n",
      "  estimator.fit(X_train, y_train, **fit_params)\n",
      "/usr/local/lib/python3.7/dist-packages/sklearn/model_selection/_validation.py:515: DataConversionWarning: A column-vector y was passed when a 1d array was expected. Please change the shape of y to (n_samples, ), for example using ravel().\n",
      "  estimator.fit(X_train, y_train, **fit_params)\n",
      "/usr/local/lib/python3.7/dist-packages/sklearn/model_selection/_validation.py:515: DataConversionWarning: A column-vector y was passed when a 1d array was expected. Please change the shape of y to (n_samples, ), for example using ravel().\n",
      "  estimator.fit(X_train, y_train, **fit_params)\n",
      "/usr/local/lib/python3.7/dist-packages/sklearn/model_selection/_validation.py:515: DataConversionWarning: A column-vector y was passed when a 1d array was expected. Please change the shape of y to (n_samples, ), for example using ravel().\n",
      "  estimator.fit(X_train, y_train, **fit_params)\n",
      "/usr/local/lib/python3.7/dist-packages/sklearn/model_selection/_validation.py:515: DataConversionWarning: A column-vector y was passed when a 1d array was expected. Please change the shape of y to (n_samples, ), for example using ravel().\n",
      "  estimator.fit(X_train, y_train, **fit_params)\n",
      "/usr/local/lib/python3.7/dist-packages/sklearn/model_selection/_validation.py:515: DataConversionWarning: A column-vector y was passed when a 1d array was expected. Please change the shape of y to (n_samples, ), for example using ravel().\n",
      "  estimator.fit(X_train, y_train, **fit_params)\n",
      "/usr/local/lib/python3.7/dist-packages/sklearn/model_selection/_validation.py:515: DataConversionWarning: A column-vector y was passed when a 1d array was expected. Please change the shape of y to (n_samples, ), for example using ravel().\n",
      "  estimator.fit(X_train, y_train, **fit_params)\n",
      "/usr/local/lib/python3.7/dist-packages/sklearn/model_selection/_validation.py:515: DataConversionWarning: A column-vector y was passed when a 1d array was expected. Please change the shape of y to (n_samples, ), for example using ravel().\n",
      "  estimator.fit(X_train, y_train, **fit_params)\n",
      "/usr/local/lib/python3.7/dist-packages/sklearn/model_selection/_validation.py:515: DataConversionWarning: A column-vector y was passed when a 1d array was expected. Please change the shape of y to (n_samples, ), for example using ravel().\n",
      "  estimator.fit(X_train, y_train, **fit_params)\n",
      "/usr/local/lib/python3.7/dist-packages/sklearn/model_selection/_validation.py:515: DataConversionWarning: A column-vector y was passed when a 1d array was expected. Please change the shape of y to (n_samples, ), for example using ravel().\n",
      "  estimator.fit(X_train, y_train, **fit_params)\n",
      "/usr/local/lib/python3.7/dist-packages/sklearn/model_selection/_validation.py:515: DataConversionWarning: A column-vector y was passed when a 1d array was expected. Please change the shape of y to (n_samples, ), for example using ravel().\n",
      "  estimator.fit(X_train, y_train, **fit_params)\n",
      "/usr/local/lib/python3.7/dist-packages/sklearn/model_selection/_validation.py:515: DataConversionWarning: A column-vector y was passed when a 1d array was expected. Please change the shape of y to (n_samples, ), for example using ravel().\n",
      "  estimator.fit(X_train, y_train, **fit_params)\n",
      "/usr/local/lib/python3.7/dist-packages/sklearn/model_selection/_validation.py:515: DataConversionWarning: A column-vector y was passed when a 1d array was expected. Please change the shape of y to (n_samples, ), for example using ravel().\n",
      "  estimator.fit(X_train, y_train, **fit_params)\n",
      "/usr/local/lib/python3.7/dist-packages/sklearn/model_selection/_validation.py:515: DataConversionWarning: A column-vector y was passed when a 1d array was expected. Please change the shape of y to (n_samples, ), for example using ravel().\n",
      "  estimator.fit(X_train, y_train, **fit_params)\n",
      "/usr/local/lib/python3.7/dist-packages/sklearn/model_selection/_validation.py:515: DataConversionWarning: A column-vector y was passed when a 1d array was expected. Please change the shape of y to (n_samples, ), for example using ravel().\n",
      "  estimator.fit(X_train, y_train, **fit_params)\n",
      "/usr/local/lib/python3.7/dist-packages/sklearn/model_selection/_validation.py:515: DataConversionWarning: A column-vector y was passed when a 1d array was expected. Please change the shape of y to (n_samples, ), for example using ravel().\n",
      "  estimator.fit(X_train, y_train, **fit_params)\n",
      "/usr/local/lib/python3.7/dist-packages/sklearn/model_selection/_validation.py:515: DataConversionWarning: A column-vector y was passed when a 1d array was expected. Please change the shape of y to (n_samples, ), for example using ravel().\n",
      "  estimator.fit(X_train, y_train, **fit_params)\n",
      "/usr/local/lib/python3.7/dist-packages/sklearn/model_selection/_validation.py:515: DataConversionWarning: A column-vector y was passed when a 1d array was expected. Please change the shape of y to (n_samples, ), for example using ravel().\n",
      "  estimator.fit(X_train, y_train, **fit_params)\n",
      "/usr/local/lib/python3.7/dist-packages/sklearn/model_selection/_validation.py:515: DataConversionWarning: A column-vector y was passed when a 1d array was expected. Please change the shape of y to (n_samples, ), for example using ravel().\n",
      "  estimator.fit(X_train, y_train, **fit_params)\n",
      "/usr/local/lib/python3.7/dist-packages/sklearn/model_selection/_validation.py:515: DataConversionWarning: A column-vector y was passed when a 1d array was expected. Please change the shape of y to (n_samples, ), for example using ravel().\n",
      "  estimator.fit(X_train, y_train, **fit_params)\n",
      "/usr/local/lib/python3.7/dist-packages/sklearn/model_selection/_validation.py:515: DataConversionWarning: A column-vector y was passed when a 1d array was expected. Please change the shape of y to (n_samples, ), for example using ravel().\n",
      "  estimator.fit(X_train, y_train, **fit_params)\n",
      "/usr/local/lib/python3.7/dist-packages/sklearn/model_selection/_validation.py:515: DataConversionWarning: A column-vector y was passed when a 1d array was expected. Please change the shape of y to (n_samples, ), for example using ravel().\n",
      "  estimator.fit(X_train, y_train, **fit_params)\n",
      "/usr/local/lib/python3.7/dist-packages/sklearn/model_selection/_validation.py:515: DataConversionWarning: A column-vector y was passed when a 1d array was expected. Please change the shape of y to (n_samples, ), for example using ravel().\n",
      "  estimator.fit(X_train, y_train, **fit_params)\n",
      "/usr/local/lib/python3.7/dist-packages/sklearn/model_selection/_validation.py:515: DataConversionWarning: A column-vector y was passed when a 1d array was expected. Please change the shape of y to (n_samples, ), for example using ravel().\n",
      "  estimator.fit(X_train, y_train, **fit_params)\n",
      "/usr/local/lib/python3.7/dist-packages/sklearn/model_selection/_validation.py:515: DataConversionWarning: A column-vector y was passed when a 1d array was expected. Please change the shape of y to (n_samples, ), for example using ravel().\n",
      "  estimator.fit(X_train, y_train, **fit_params)\n",
      "/usr/local/lib/python3.7/dist-packages/sklearn/model_selection/_validation.py:515: DataConversionWarning: A column-vector y was passed when a 1d array was expected. Please change the shape of y to (n_samples, ), for example using ravel().\n",
      "  estimator.fit(X_train, y_train, **fit_params)\n",
      "/usr/local/lib/python3.7/dist-packages/sklearn/model_selection/_validation.py:515: DataConversionWarning: A column-vector y was passed when a 1d array was expected. Please change the shape of y to (n_samples, ), for example using ravel().\n",
      "  estimator.fit(X_train, y_train, **fit_params)\n",
      "/usr/local/lib/python3.7/dist-packages/sklearn/model_selection/_validation.py:515: DataConversionWarning: A column-vector y was passed when a 1d array was expected. Please change the shape of y to (n_samples, ), for example using ravel().\n",
      "  estimator.fit(X_train, y_train, **fit_params)\n",
      "/usr/local/lib/python3.7/dist-packages/sklearn/model_selection/_validation.py:515: DataConversionWarning: A column-vector y was passed when a 1d array was expected. Please change the shape of y to (n_samples, ), for example using ravel().\n",
      "  estimator.fit(X_train, y_train, **fit_params)\n",
      "/usr/local/lib/python3.7/dist-packages/sklearn/model_selection/_validation.py:515: DataConversionWarning: A column-vector y was passed when a 1d array was expected. Please change the shape of y to (n_samples, ), for example using ravel().\n",
      "  estimator.fit(X_train, y_train, **fit_params)\n",
      "/usr/local/lib/python3.7/dist-packages/sklearn/model_selection/_validation.py:515: DataConversionWarning: A column-vector y was passed when a 1d array was expected. Please change the shape of y to (n_samples, ), for example using ravel().\n",
      "  estimator.fit(X_train, y_train, **fit_params)\n",
      "/usr/local/lib/python3.7/dist-packages/sklearn/model_selection/_validation.py:515: DataConversionWarning: A column-vector y was passed when a 1d array was expected. Please change the shape of y to (n_samples, ), for example using ravel().\n",
      "  estimator.fit(X_train, y_train, **fit_params)\n",
      "/usr/local/lib/python3.7/dist-packages/sklearn/model_selection/_validation.py:515: DataConversionWarning: A column-vector y was passed when a 1d array was expected. Please change the shape of y to (n_samples, ), for example using ravel().\n",
      "  estimator.fit(X_train, y_train, **fit_params)\n",
      "/usr/local/lib/python3.7/dist-packages/sklearn/model_selection/_validation.py:515: DataConversionWarning: A column-vector y was passed when a 1d array was expected. Please change the shape of y to (n_samples, ), for example using ravel().\n",
      "  estimator.fit(X_train, y_train, **fit_params)\n",
      "/usr/local/lib/python3.7/dist-packages/sklearn/model_selection/_validation.py:515: DataConversionWarning: A column-vector y was passed when a 1d array was expected. Please change the shape of y to (n_samples, ), for example using ravel().\n",
      "  estimator.fit(X_train, y_train, **fit_params)\n",
      "/usr/local/lib/python3.7/dist-packages/sklearn/model_selection/_validation.py:515: DataConversionWarning: A column-vector y was passed when a 1d array was expected. Please change the shape of y to (n_samples, ), for example using ravel().\n",
      "  estimator.fit(X_train, y_train, **fit_params)\n",
      "/usr/local/lib/python3.7/dist-packages/sklearn/model_selection/_validation.py:515: DataConversionWarning: A column-vector y was passed when a 1d array was expected. Please change the shape of y to (n_samples, ), for example using ravel().\n",
      "  estimator.fit(X_train, y_train, **fit_params)\n",
      "/usr/local/lib/python3.7/dist-packages/sklearn/model_selection/_validation.py:515: DataConversionWarning: A column-vector y was passed when a 1d array was expected. Please change the shape of y to (n_samples, ), for example using ravel().\n",
      "  estimator.fit(X_train, y_train, **fit_params)\n",
      "/usr/local/lib/python3.7/dist-packages/sklearn/model_selection/_validation.py:515: DataConversionWarning: A column-vector y was passed when a 1d array was expected. Please change the shape of y to (n_samples, ), for example using ravel().\n",
      "  estimator.fit(X_train, y_train, **fit_params)\n",
      "/usr/local/lib/python3.7/dist-packages/sklearn/model_selection/_validation.py:515: DataConversionWarning: A column-vector y was passed when a 1d array was expected. Please change the shape of y to (n_samples, ), for example using ravel().\n",
      "  estimator.fit(X_train, y_train, **fit_params)\n",
      "/usr/local/lib/python3.7/dist-packages/sklearn/model_selection/_validation.py:515: DataConversionWarning: A column-vector y was passed when a 1d array was expected. Please change the shape of y to (n_samples, ), for example using ravel().\n",
      "  estimator.fit(X_train, y_train, **fit_params)\n",
      "/usr/local/lib/python3.7/dist-packages/sklearn/model_selection/_validation.py:515: DataConversionWarning: A column-vector y was passed when a 1d array was expected. Please change the shape of y to (n_samples, ), for example using ravel().\n",
      "  estimator.fit(X_train, y_train, **fit_params)\n",
      "/usr/local/lib/python3.7/dist-packages/sklearn/model_selection/_validation.py:515: DataConversionWarning: A column-vector y was passed when a 1d array was expected. Please change the shape of y to (n_samples, ), for example using ravel().\n",
      "  estimator.fit(X_train, y_train, **fit_params)\n",
      "/usr/local/lib/python3.7/dist-packages/sklearn/model_selection/_validation.py:515: DataConversionWarning: A column-vector y was passed when a 1d array was expected. Please change the shape of y to (n_samples, ), for example using ravel().\n",
      "  estimator.fit(X_train, y_train, **fit_params)\n",
      "/usr/local/lib/python3.7/dist-packages/sklearn/model_selection/_validation.py:515: DataConversionWarning: A column-vector y was passed when a 1d array was expected. Please change the shape of y to (n_samples, ), for example using ravel().\n",
      "  estimator.fit(X_train, y_train, **fit_params)\n",
      "/usr/local/lib/python3.7/dist-packages/sklearn/model_selection/_validation.py:515: DataConversionWarning: A column-vector y was passed when a 1d array was expected. Please change the shape of y to (n_samples, ), for example using ravel().\n",
      "  estimator.fit(X_train, y_train, **fit_params)\n",
      "/usr/local/lib/python3.7/dist-packages/sklearn/model_selection/_validation.py:515: DataConversionWarning: A column-vector y was passed when a 1d array was expected. Please change the shape of y to (n_samples, ), for example using ravel().\n",
      "  estimator.fit(X_train, y_train, **fit_params)\n",
      "/usr/local/lib/python3.7/dist-packages/sklearn/model_selection/_validation.py:515: DataConversionWarning: A column-vector y was passed when a 1d array was expected. Please change the shape of y to (n_samples, ), for example using ravel().\n",
      "  estimator.fit(X_train, y_train, **fit_params)\n",
      "/usr/local/lib/python3.7/dist-packages/sklearn/model_selection/_validation.py:515: DataConversionWarning: A column-vector y was passed when a 1d array was expected. Please change the shape of y to (n_samples, ), for example using ravel().\n",
      "  estimator.fit(X_train, y_train, **fit_params)\n",
      "/usr/local/lib/python3.7/dist-packages/sklearn/model_selection/_validation.py:515: DataConversionWarning: A column-vector y was passed when a 1d array was expected. Please change the shape of y to (n_samples, ), for example using ravel().\n",
      "  estimator.fit(X_train, y_train, **fit_params)\n",
      "/usr/local/lib/python3.7/dist-packages/sklearn/model_selection/_validation.py:515: DataConversionWarning: A column-vector y was passed when a 1d array was expected. Please change the shape of y to (n_samples, ), for example using ravel().\n",
      "  estimator.fit(X_train, y_train, **fit_params)\n",
      "/usr/local/lib/python3.7/dist-packages/sklearn/model_selection/_validation.py:515: DataConversionWarning: A column-vector y was passed when a 1d array was expected. Please change the shape of y to (n_samples, ), for example using ravel().\n",
      "  estimator.fit(X_train, y_train, **fit_params)\n",
      "/usr/local/lib/python3.7/dist-packages/sklearn/model_selection/_validation.py:515: DataConversionWarning: A column-vector y was passed when a 1d array was expected. Please change the shape of y to (n_samples, ), for example using ravel().\n",
      "  estimator.fit(X_train, y_train, **fit_params)\n",
      "/usr/local/lib/python3.7/dist-packages/sklearn/model_selection/_validation.py:515: DataConversionWarning: A column-vector y was passed when a 1d array was expected. Please change the shape of y to (n_samples, ), for example using ravel().\n",
      "  estimator.fit(X_train, y_train, **fit_params)\n",
      "/usr/local/lib/python3.7/dist-packages/sklearn/model_selection/_validation.py:515: DataConversionWarning: A column-vector y was passed when a 1d array was expected. Please change the shape of y to (n_samples, ), for example using ravel().\n",
      "  estimator.fit(X_train, y_train, **fit_params)\n",
      "/usr/local/lib/python3.7/dist-packages/sklearn/model_selection/_validation.py:515: DataConversionWarning: A column-vector y was passed when a 1d array was expected. Please change the shape of y to (n_samples, ), for example using ravel().\n",
      "  estimator.fit(X_train, y_train, **fit_params)\n",
      "/usr/local/lib/python3.7/dist-packages/sklearn/model_selection/_validation.py:515: DataConversionWarning: A column-vector y was passed when a 1d array was expected. Please change the shape of y to (n_samples, ), for example using ravel().\n",
      "  estimator.fit(X_train, y_train, **fit_params)\n",
      "/usr/local/lib/python3.7/dist-packages/sklearn/model_selection/_validation.py:515: DataConversionWarning: A column-vector y was passed when a 1d array was expected. Please change the shape of y to (n_samples, ), for example using ravel().\n",
      "  estimator.fit(X_train, y_train, **fit_params)\n",
      "/usr/local/lib/python3.7/dist-packages/sklearn/model_selection/_validation.py:515: DataConversionWarning: A column-vector y was passed when a 1d array was expected. Please change the shape of y to (n_samples, ), for example using ravel().\n",
      "  estimator.fit(X_train, y_train, **fit_params)\n",
      "/usr/local/lib/python3.7/dist-packages/sklearn/model_selection/_validation.py:515: DataConversionWarning: A column-vector y was passed when a 1d array was expected. Please change the shape of y to (n_samples, ), for example using ravel().\n",
      "  estimator.fit(X_train, y_train, **fit_params)\n",
      "/usr/local/lib/python3.7/dist-packages/sklearn/model_selection/_validation.py:515: DataConversionWarning: A column-vector y was passed when a 1d array was expected. Please change the shape of y to (n_samples, ), for example using ravel().\n",
      "  estimator.fit(X_train, y_train, **fit_params)\n",
      "/usr/local/lib/python3.7/dist-packages/sklearn/model_selection/_validation.py:515: DataConversionWarning: A column-vector y was passed when a 1d array was expected. Please change the shape of y to (n_samples, ), for example using ravel().\n",
      "  estimator.fit(X_train, y_train, **fit_params)\n",
      "/usr/local/lib/python3.7/dist-packages/sklearn/model_selection/_validation.py:515: DataConversionWarning: A column-vector y was passed when a 1d array was expected. Please change the shape of y to (n_samples, ), for example using ravel().\n",
      "  estimator.fit(X_train, y_train, **fit_params)\n",
      "/usr/local/lib/python3.7/dist-packages/sklearn/model_selection/_validation.py:515: DataConversionWarning: A column-vector y was passed when a 1d array was expected. Please change the shape of y to (n_samples, ), for example using ravel().\n",
      "  estimator.fit(X_train, y_train, **fit_params)\n",
      "/usr/local/lib/python3.7/dist-packages/sklearn/model_selection/_validation.py:515: DataConversionWarning: A column-vector y was passed when a 1d array was expected. Please change the shape of y to (n_samples, ), for example using ravel().\n",
      "  estimator.fit(X_train, y_train, **fit_params)\n",
      "/usr/local/lib/python3.7/dist-packages/sklearn/model_selection/_validation.py:515: DataConversionWarning: A column-vector y was passed when a 1d array was expected. Please change the shape of y to (n_samples, ), for example using ravel().\n",
      "  estimator.fit(X_train, y_train, **fit_params)\n",
      "/usr/local/lib/python3.7/dist-packages/sklearn/model_selection/_validation.py:515: DataConversionWarning: A column-vector y was passed when a 1d array was expected. Please change the shape of y to (n_samples, ), for example using ravel().\n",
      "  estimator.fit(X_train, y_train, **fit_params)\n",
      "/usr/local/lib/python3.7/dist-packages/sklearn/model_selection/_validation.py:515: DataConversionWarning: A column-vector y was passed when a 1d array was expected. Please change the shape of y to (n_samples, ), for example using ravel().\n",
      "  estimator.fit(X_train, y_train, **fit_params)\n",
      "/usr/local/lib/python3.7/dist-packages/sklearn/model_selection/_validation.py:515: DataConversionWarning: A column-vector y was passed when a 1d array was expected. Please change the shape of y to (n_samples, ), for example using ravel().\n",
      "  estimator.fit(X_train, y_train, **fit_params)\n",
      "/usr/local/lib/python3.7/dist-packages/sklearn/model_selection/_validation.py:515: DataConversionWarning: A column-vector y was passed when a 1d array was expected. Please change the shape of y to (n_samples, ), for example using ravel().\n",
      "  estimator.fit(X_train, y_train, **fit_params)\n",
      "/usr/local/lib/python3.7/dist-packages/sklearn/model_selection/_validation.py:515: DataConversionWarning: A column-vector y was passed when a 1d array was expected. Please change the shape of y to (n_samples, ), for example using ravel().\n",
      "  estimator.fit(X_train, y_train, **fit_params)\n",
      "/usr/local/lib/python3.7/dist-packages/sklearn/model_selection/_validation.py:515: DataConversionWarning: A column-vector y was passed when a 1d array was expected. Please change the shape of y to (n_samples, ), for example using ravel().\n",
      "  estimator.fit(X_train, y_train, **fit_params)\n",
      "/usr/local/lib/python3.7/dist-packages/sklearn/model_selection/_validation.py:515: DataConversionWarning: A column-vector y was passed when a 1d array was expected. Please change the shape of y to (n_samples, ), for example using ravel().\n",
      "  estimator.fit(X_train, y_train, **fit_params)\n",
      "/usr/local/lib/python3.7/dist-packages/sklearn/model_selection/_validation.py:515: DataConversionWarning: A column-vector y was passed when a 1d array was expected. Please change the shape of y to (n_samples, ), for example using ravel().\n",
      "  estimator.fit(X_train, y_train, **fit_params)\n",
      "/usr/local/lib/python3.7/dist-packages/sklearn/model_selection/_validation.py:515: DataConversionWarning: A column-vector y was passed when a 1d array was expected. Please change the shape of y to (n_samples, ), for example using ravel().\n",
      "  estimator.fit(X_train, y_train, **fit_params)\n",
      "/usr/local/lib/python3.7/dist-packages/sklearn/model_selection/_validation.py:515: DataConversionWarning: A column-vector y was passed when a 1d array was expected. Please change the shape of y to (n_samples, ), for example using ravel().\n",
      "  estimator.fit(X_train, y_train, **fit_params)\n",
      "/usr/local/lib/python3.7/dist-packages/sklearn/model_selection/_validation.py:515: DataConversionWarning: A column-vector y was passed when a 1d array was expected. Please change the shape of y to (n_samples, ), for example using ravel().\n",
      "  estimator.fit(X_train, y_train, **fit_params)\n",
      "/usr/local/lib/python3.7/dist-packages/sklearn/model_selection/_validation.py:515: DataConversionWarning: A column-vector y was passed when a 1d array was expected. Please change the shape of y to (n_samples, ), for example using ravel().\n",
      "  estimator.fit(X_train, y_train, **fit_params)\n",
      "/usr/local/lib/python3.7/dist-packages/sklearn/model_selection/_validation.py:515: DataConversionWarning: A column-vector y was passed when a 1d array was expected. Please change the shape of y to (n_samples, ), for example using ravel().\n",
      "  estimator.fit(X_train, y_train, **fit_params)\n",
      "/usr/local/lib/python3.7/dist-packages/sklearn/model_selection/_validation.py:515: DataConversionWarning: A column-vector y was passed when a 1d array was expected. Please change the shape of y to (n_samples, ), for example using ravel().\n",
      "  estimator.fit(X_train, y_train, **fit_params)\n",
      "/usr/local/lib/python3.7/dist-packages/sklearn/model_selection/_validation.py:515: DataConversionWarning: A column-vector y was passed when a 1d array was expected. Please change the shape of y to (n_samples, ), for example using ravel().\n",
      "  estimator.fit(X_train, y_train, **fit_params)\n",
      "/usr/local/lib/python3.7/dist-packages/sklearn/model_selection/_validation.py:515: DataConversionWarning: A column-vector y was passed when a 1d array was expected. Please change the shape of y to (n_samples, ), for example using ravel().\n",
      "  estimator.fit(X_train, y_train, **fit_params)\n",
      "/usr/local/lib/python3.7/dist-packages/sklearn/model_selection/_validation.py:515: DataConversionWarning: A column-vector y was passed when a 1d array was expected. Please change the shape of y to (n_samples, ), for example using ravel().\n",
      "  estimator.fit(X_train, y_train, **fit_params)\n",
      "/usr/local/lib/python3.7/dist-packages/sklearn/model_selection/_validation.py:515: DataConversionWarning: A column-vector y was passed when a 1d array was expected. Please change the shape of y to (n_samples, ), for example using ravel().\n",
      "  estimator.fit(X_train, y_train, **fit_params)\n",
      "/usr/local/lib/python3.7/dist-packages/sklearn/model_selection/_search.py:739: DataConversionWarning: A column-vector y was passed when a 1d array was expected. Please change the shape of y to (n_samples, ), for example using ravel().\n",
      "  self.best_estimator_.fit(X, y, **fit_params)\n"
     ]
    },
    {
     "data": {
      "text/plain": [
       "GridSearchCV(cv=5, error_score=nan,\n",
       "             estimator=KNeighborsClassifier(algorithm='auto', leaf_size=30,\n",
       "                                            metric='minkowski',\n",
       "                                            metric_params=None, n_jobs=None,\n",
       "                                            n_neighbors=5, p=2,\n",
       "                                            weights='uniform'),\n",
       "             iid='deprecated', n_jobs=None,\n",
       "             param_grid={'n_neighbors': range(1, 32)}, pre_dispatch='2*n_jobs',\n",
       "             refit=True, return_train_score=False, scoring=None, verbose=0)"
      ]
     },
     "execution_count": 0,
     "metadata": {
      "tags": []
     },
     "output_type": "execute_result"
    }
   ],
   "source": [
    "CV_knn = GridSearchCV(estimator=knn, param_grid=param_grid_knn, cv= 5)\n",
    "CV_knn.fit(train_smote_X,train_smote_Y)"
   ]
  },
  {
   "cell_type": "code",
   "execution_count": null,
   "metadata": {
    "colab": {
     "background_save": true
    },
    "id": "MU1wI3p6D_GS",
    "outputId": "734dd7b5-62b7-40b2-ae2f-118ac93fd1ac"
   },
   "outputs": [
    {
     "data": {
      "text/plain": [
       "{'n_neighbors': 1}"
      ]
     },
     "execution_count": 0,
     "metadata": {
      "tags": []
     },
     "output_type": "execute_result"
    }
   ],
   "source": [
    "CV_knn.best_params_"
   ]
  },
  {
   "cell_type": "code",
   "execution_count": null,
   "metadata": {
    "colab": {
     "background_save": true
    },
    "id": "RtMiToFKD_GV"
   },
   "outputs": [],
   "source": [
    "predknn=CV_knn.predict(test_X)"
   ]
  },
  {
   "cell_type": "markdown",
   "metadata": {
    "id": "ql9JN-BFD_GV"
   },
   "source": [
    "### Evaluation"
   ]
  },
  {
   "cell_type": "code",
   "execution_count": null,
   "metadata": {
    "colab": {
     "background_save": true
    },
    "id": "pXGbSnKoELQ_",
    "outputId": "d0b29f76-48b5-440d-eeaa-4c3018f28988"
   },
   "outputs": [
    {
     "name": "stdout",
     "output_type": "stream",
     "text": [
      "Accuracy for KNN on CV data:  0.8137369033760187\n"
     ]
    }
   ],
   "source": [
    "print(\"Accuracy for KNN on CV data: \",accuracy_score(test_Y,predknn))"
   ]
  },
  {
   "cell_type": "code",
   "execution_count": null,
   "metadata": {
    "colab": {
     "background_save": true
    },
    "id": "Jv-gAwwEELRA",
    "outputId": "bf3d4dad-7af8-4986-beb2-43d1214aa617"
   },
   "outputs": [
    {
     "name": "stdout",
     "output_type": "stream",
     "text": [
      "              precision    recall  f1-score   support\n",
      "\n",
      "          No       0.94      0.85      0.90      2410\n",
      "         Yes       0.11      0.27      0.16       167\n",
      "\n",
      "    accuracy                           0.81      2577\n",
      "   macro avg       0.53      0.56      0.53      2577\n",
      "weighted avg       0.89      0.81      0.85      2577\n",
      "\n"
     ]
    }
   ],
   "source": [
    "target_names = ['No','Yes']\n",
    "print(classification_report(test_Y, predknn, target_names=target_names))"
   ]
  },
  {
   "cell_type": "code",
   "execution_count": null,
   "metadata": {
    "colab": {
     "background_save": true
    },
    "id": "a0z9KgUwELRB",
    "outputId": "c0313c1d-2400-4593-e01a-1fd1406d9289"
   },
   "outputs": [
    {
     "data": {
      "image/png": "[encoded data removed]",
      "text/plain": [
       "<Figure size 432x288 with 1 Axes>"
      ]
     },
     "metadata": {
      "tags": []
     },
     "output_type": "display_data"
    }
   ],
   "source": [
    "from sklearn.metrics import roc_curve\n",
    "# Generate ROC curve values: fpr, tpr, thresholds\n",
    "fpr_knn, tpr_knn, thresholds_knn= roc_curve(test_Y, predknn)\n",
    "# Plot ROC curve\n",
    "plt.plot([0, 1], [0, 1], 'k--')\n",
    "plt.plot(fpr_knn, tpr_knn)\n",
    "plt.xlabel('False Positive Rate')\n",
    "plt.ylabel('True Positive Rate')\n",
    "plt.title('ROC Curve')\n",
    "plt.show()"
   ]
  },
  {
   "cell_type": "code",
   "execution_count": null,
   "metadata": {
    "colab": {
     "background_save": true
    },
    "id": "MZpFOrTDELRC",
    "outputId": "bc9f5806-5d55-4e10-8f6a-4b08a5fe1c3d"
   },
   "outputs": [
    {
     "data": {
      "text/plain": [
       "0.5604566800009939"
      ]
     },
     "execution_count": 0,
     "metadata": {
      "tags": []
     },
     "output_type": "execute_result"
    }
   ],
   "source": [
    "from sklearn.metrics import roc_auc_score\n",
    "roc_auc_score(test_Y,predknn)"
   ]
  },
  {
   "cell_type": "markdown",
   "metadata": {
    "id": "hT_ETDU9G-8S"
   },
   "source": [
    "## Naive Bayes"
   ]
  },
  {
   "cell_type": "code",
   "execution_count": null,
   "metadata": {
    "colab": {
     "background_save": true
    },
    "id": "wxAvuRmBHBP5",
    "outputId": "efbed67a-0807-4150-f9f3-22c6916feef7"
   },
   "outputs": [
    {
     "name": "stderr",
     "output_type": "stream",
     "text": [
      "/usr/local/lib/python3.7/dist-packages/sklearn/naive_bayes.py:206: DataConversionWarning: A column-vector y was passed when a 1d array was expected. Please change the shape of y to (n_samples, ), for example using ravel().\n",
      "  y = column_or_1d(y, warn=True)\n"
     ]
    },
    {
     "data": {
      "text/plain": [
       "GaussianNB(priors=None, var_smoothing=1e-09)"
      ]
     },
     "execution_count": 0,
     "metadata": {
      "tags": []
     },
     "output_type": "execute_result"
    }
   ],
   "source": [
    "from sklearn.naive_bayes import GaussianNB\n",
    "nb = GaussianNB()\n",
    "nb.fit(train_smote_X,train_smote_Y)"
   ]
  },
  {
   "cell_type": "code",
   "execution_count": null,
   "metadata": {
    "colab": {
     "background_save": true
    },
    "id": "n7G2ziO7HZwa"
   },
   "outputs": [],
   "source": [
    "prednb=nb.predict(test_X)"
   ]
  },
  {
   "cell_type": "markdown",
   "metadata": {
    "id": "fto6VTx5Hr0E"
   },
   "source": [
    "### Evaluation"
   ]
  },
  {
   "cell_type": "code",
   "execution_count": null,
   "metadata": {
    "colab": {
     "background_save": true
    },
    "id": "xGYG__m5HnX6",
    "outputId": "3fc0ee44-6fc7-43ba-bdcb-cb7cf4b0e34d"
   },
   "outputs": [
    {
     "name": "stdout",
     "output_type": "stream",
     "text": [
      "Accuracy for Naive Bayes on CV data:  0.6623981373690337\n"
     ]
    }
   ],
   "source": [
    "print(\"Accuracy for Naive Bayes on CV data: \",accuracy_score(test_Y,prednb))"
   ]
  },
  {
   "cell_type": "code",
   "execution_count": null,
   "metadata": {
    "colab": {
     "background_save": true
    },
    "id": "uTJ9saO6HnX7",
    "outputId": "2b2df783-4e62-42cb-bcb0-3326872922f3"
   },
   "outputs": [
    {
     "name": "stdout",
     "output_type": "stream",
     "text": [
      "              precision    recall  f1-score   support\n",
      "\n",
      "          No       0.96      0.67      0.79      2410\n",
      "         Yes       0.11      0.60      0.19       167\n",
      "\n",
      "    accuracy                           0.66      2577\n",
      "   macro avg       0.54      0.63      0.49      2577\n",
      "weighted avg       0.90      0.66      0.75      2577\n",
      "\n"
     ]
    }
   ],
   "source": [
    "target_names = ['No','Yes']\n",
    "print(classification_report(test_Y, prednb, target_names=target_names))"
   ]
  },
  {
   "cell_type": "code",
   "execution_count": null,
   "metadata": {
    "colab": {
     "background_save": true
    },
    "id": "9h0Q4rmzHnX8",
    "outputId": "5a6c6a60-644d-4e77-b6d9-5096f8d8edde"
   },
   "outputs": [
    {
     "data": {
      "image/png": "[encoded data removed]",
      "text/plain": [
       "<Figure size 432x288 with 1 Axes>"
      ]
     },
     "metadata": {
      "tags": []
     },
     "output_type": "display_data"
    }
   ],
   "source": [
    "from sklearn.metrics import roc_curve\n",
    "# Generate ROC curve values: fpr, tpr, thresholds\n",
    "fpr_nb, tpr_nb, thresholds_nb= roc_curve(test_Y, prednb)\n",
    "# Plot ROC curve\n",
    "plt.plot([0, 1], [0, 1], 'k--')\n",
    "plt.plot(fpr_nb, tpr_nb)\n",
    "plt.xlabel('False Positive Rate')\n",
    "plt.ylabel('True Positive Rate')\n",
    "plt.title('ROC Curve')\n",
    "plt.show()"
   ]
  },
  {
   "cell_type": "code",
   "execution_count": null,
   "metadata": {
    "colab": {
     "background_save": true
    },
    "id": "SF6DBhNuHnX9",
    "outputId": "600440d9-eb9c-459b-e633-c216a00d4511"
   },
   "outputs": [
    {
     "data": {
      "text/plain": [
       "0.6328036872313464"
      ]
     },
     "execution_count": 0,
     "metadata": {
      "tags": []
     },
     "output_type": "execute_result"
    }
   ],
   "source": [
    "from sklearn.metrics import roc_auc_score\n",
    "roc_auc_score(test_Y,prednb)"
   ]
  },
  {
   "cell_type": "markdown",
   "metadata": {
    "id": "OODK4S1xS3Cn"
   },
   "source": [
    "# DATA TEST"
   ]
  },
  {
   "cell_type": "code",
   "execution_count": null,
   "metadata": {
    "colab": {
     "background_save": true
    },
    "id": "W8SXu_98S_BO"
   },
   "outputs": [],
   "source": [
    "uji=pd.read_csv(\"/content/drive/MyDrive/Tugas Kelompok 5/Data Predict.csv\")"
   ]
  },
  {
   "cell_type": "markdown",
   "metadata": {
    "id": "poaj5cf5T9D9"
   },
   "source": [
    "## Preprocessing"
   ]
  },
  {
   "cell_type": "markdown",
   "metadata": {
    "id": "RraaFqW_T9D_"
   },
   "source": [
    "### Data Type"
   ]
  },
  {
   "cell_type": "code",
   "execution_count": null,
   "metadata": {
    "colab": {
     "background_save": true
    },
    "id": "kFzmk1SHT9EA",
    "outputId": "1df56322-edb5-4d6e-f3e2-cb31228b1f25"
   },
   "outputs": [
    {
     "data": {
      "text/plain": [
       "Id                              int64\n",
       "id_tanggal_transaksi_awal       int64\n",
       "tanggal_transaksi_awal          int64\n",
       "tipe_kartu                      int64\n",
       "id_merchant                     int64\n",
       "nama_merchant                   int64\n",
       "tipe_mesin                      int64\n",
       "tipe_transaksi                  int64\n",
       "nama_transaksi                  int64\n",
       "nilai_transaksi                 int64\n",
       "id_negara                       int64\n",
       "nama_negara                     int64\n",
       "nama_kota                       int64\n",
       "lokasi_mesin                    int64\n",
       "pemilik_mesin                   int64\n",
       "waktu_transaksi                 int64\n",
       "kuartal_transaksi               int64\n",
       "kepemilikan_kartu               int64\n",
       "nama_channel                    int64\n",
       "id_channel                      int64\n",
       "flag_transaksi_finansial         bool\n",
       "status_transaksi                int64\n",
       "bank_pemilik_kartu              int64\n",
       "rata_rata_nilai_transaksi      object\n",
       "maksimum_nilai_transaksi      float64\n",
       "minimum_nilai_transaksi       float64\n",
       "rata_rata_jumlah_transaksi    float64\n",
       "dtype: object"
      ]
     },
     "execution_count": 0,
     "metadata": {
      "tags": []
     },
     "output_type": "execute_result"
    }
   ],
   "source": [
    "uji.dtypes"
   ]
  },
  {
   "cell_type": "code",
   "execution_count": null,
   "metadata": {
    "colab": {
     "background_save": true
    },
    "id": "E2ROv9eTT9ED"
   },
   "outputs": [],
   "source": [
    "uji[\"rata_rata_nilai_transaksi\"]=uji[\"rata_rata_nilai_transaksi\"].str.replace('.', '')"
   ]
  },
  {
   "cell_type": "code",
   "execution_count": null,
   "metadata": {
    "colab": {
     "background_save": true
    },
    "id": "JjgXreKvT9ED",
    "outputId": "31d62df2-4d59-49ff-e96e-ca0ed68cdbce"
   },
   "outputs": [
    {
     "data": {
      "text/html": [
       "<div>\n",
       "<style scoped>\n",
       "    .dataframe tbody tr th:only-of-type {\n",
       "        vertical-align: middle;\n",
       "    }\n",
       "\n",
       "    .dataframe tbody tr th {\n",
       "        vertical-align: top;\n",
       "    }\n",
       "\n",
       "    .dataframe thead th {\n",
       "        text-align: right;\n",
       "    }\n",
       "</style>\n",
       "<table border=\"1\" class=\"dataframe\">\n",
       "  <thead>\n",
       "    <tr style=\"text-align: right;\">\n",
       "      <th></th>\n",
       "      <th>Id</th>\n",
       "      <th>id_tanggal_transaksi_awal</th>\n",
       "      <th>tanggal_transaksi_awal</th>\n",
       "      <th>tipe_kartu</th>\n",
       "      <th>id_merchant</th>\n",
       "      <th>nama_merchant</th>\n",
       "      <th>tipe_mesin</th>\n",
       "      <th>tipe_transaksi</th>\n",
       "      <th>nama_transaksi</th>\n",
       "      <th>nilai_transaksi</th>\n",
       "      <th>id_negara</th>\n",
       "      <th>nama_negara</th>\n",
       "      <th>nama_kota</th>\n",
       "      <th>lokasi_mesin</th>\n",
       "      <th>pemilik_mesin</th>\n",
       "      <th>waktu_transaksi</th>\n",
       "      <th>kuartal_transaksi</th>\n",
       "      <th>kepemilikan_kartu</th>\n",
       "      <th>nama_channel</th>\n",
       "      <th>id_channel</th>\n",
       "      <th>flag_transaksi_finansial</th>\n",
       "      <th>status_transaksi</th>\n",
       "      <th>bank_pemilik_kartu</th>\n",
       "      <th>rata_rata_nilai_transaksi</th>\n",
       "      <th>maksimum_nilai_transaksi</th>\n",
       "      <th>minimum_nilai_transaksi</th>\n",
       "      <th>rata_rata_jumlah_transaksi</th>\n",
       "    </tr>\n",
       "  </thead>\n",
       "  <tbody>\n",
       "    <tr>\n",
       "      <th>0</th>\n",
       "      <td>6678</td>\n",
       "      <td>2457607</td>\n",
       "      <td>2457703</td>\n",
       "      <td>111</td>\n",
       "      <td>-2</td>\n",
       "      <td>1798</td>\n",
       "      <td>1590933</td>\n",
       "      <td>385</td>\n",
       "      <td>11</td>\n",
       "      <td>1250000</td>\n",
       "      <td>96</td>\n",
       "      <td>5</td>\n",
       "      <td>241</td>\n",
       "      <td>1835</td>\n",
       "      <td>613</td>\n",
       "      <td>162158</td>\n",
       "      <td>3</td>\n",
       "      <td>2</td>\n",
       "      <td>1</td>\n",
       "      <td>9</td>\n",
       "      <td>False</td>\n",
       "      <td>3</td>\n",
       "      <td>999</td>\n",
       "      <td>2877203488</td>\n",
       "      <td>2300000.0</td>\n",
       "      <td>21600.0</td>\n",
       "      <td>1.20</td>\n",
       "    </tr>\n",
       "    <tr>\n",
       "      <th>1</th>\n",
       "      <td>437</td>\n",
       "      <td>2457579</td>\n",
       "      <td>2457592</td>\n",
       "      <td>93</td>\n",
       "      <td>-2</td>\n",
       "      <td>1798</td>\n",
       "      <td>2687662</td>\n",
       "      <td>26</td>\n",
       "      <td>10</td>\n",
       "      <td>50000</td>\n",
       "      <td>96</td>\n",
       "      <td>5</td>\n",
       "      <td>128</td>\n",
       "      <td>4173</td>\n",
       "      <td>613</td>\n",
       "      <td>104856</td>\n",
       "      <td>2</td>\n",
       "      <td>2</td>\n",
       "      <td>1</td>\n",
       "      <td>9</td>\n",
       "      <td>False</td>\n",
       "      <td>3</td>\n",
       "      <td>999</td>\n",
       "      <td>3389741935</td>\n",
       "      <td>1400000.0</td>\n",
       "      <td>64524.0</td>\n",
       "      <td>1.52</td>\n",
       "    </tr>\n",
       "    <tr>\n",
       "      <th>2</th>\n",
       "      <td>1696</td>\n",
       "      <td>2457349</td>\n",
       "      <td>2457359</td>\n",
       "      <td>103</td>\n",
       "      <td>-2</td>\n",
       "      <td>1798</td>\n",
       "      <td>2254860</td>\n",
       "      <td>385</td>\n",
       "      <td>11</td>\n",
       "      <td>500000</td>\n",
       "      <td>96</td>\n",
       "      <td>5</td>\n",
       "      <td>128</td>\n",
       "      <td>3195</td>\n",
       "      <td>613</td>\n",
       "      <td>145437</td>\n",
       "      <td>3</td>\n",
       "      <td>2</td>\n",
       "      <td>1</td>\n",
       "      <td>9</td>\n",
       "      <td>False</td>\n",
       "      <td>3</td>\n",
       "      <td>999</td>\n",
       "      <td>797473227</td>\n",
       "      <td>1750000.0</td>\n",
       "      <td>250000.0</td>\n",
       "      <td>1.46</td>\n",
       "    </tr>\n",
       "    <tr>\n",
       "      <th>3</th>\n",
       "      <td>8868</td>\n",
       "      <td>2457623</td>\n",
       "      <td>2457637</td>\n",
       "      <td>0</td>\n",
       "      <td>128022</td>\n",
       "      <td>1254</td>\n",
       "      <td>2688775</td>\n",
       "      <td>58</td>\n",
       "      <td>6</td>\n",
       "      <td>45000</td>\n",
       "      <td>96</td>\n",
       "      <td>5</td>\n",
       "      <td>70</td>\n",
       "      <td>6649</td>\n",
       "      <td>1864</td>\n",
       "      <td>113028</td>\n",
       "      <td>2</td>\n",
       "      <td>2</td>\n",
       "      <td>2</td>\n",
       "      <td>4</td>\n",
       "      <td>False</td>\n",
       "      <td>3</td>\n",
       "      <td>999</td>\n",
       "      <td>6457195423</td>\n",
       "      <td>8000000.0</td>\n",
       "      <td>23000.0</td>\n",
       "      <td>2.90</td>\n",
       "    </tr>\n",
       "    <tr>\n",
       "      <th>4</th>\n",
       "      <td>7014</td>\n",
       "      <td>2457467</td>\n",
       "      <td>2457499</td>\n",
       "      <td>93</td>\n",
       "      <td>-2</td>\n",
       "      <td>1798</td>\n",
       "      <td>-3</td>\n",
       "      <td>156</td>\n",
       "      <td>12</td>\n",
       "      <td>1000000</td>\n",
       "      <td>96</td>\n",
       "      <td>5</td>\n",
       "      <td>8</td>\n",
       "      <td>4</td>\n",
       "      <td>9</td>\n",
       "      <td>171338</td>\n",
       "      <td>3</td>\n",
       "      <td>1</td>\n",
       "      <td>5</td>\n",
       "      <td>8</td>\n",
       "      <td>False</td>\n",
       "      <td>3</td>\n",
       "      <td>999</td>\n",
       "      <td>2116285714</td>\n",
       "      <td>12000000.0</td>\n",
       "      <td>200000.0</td>\n",
       "      <td>2.69</td>\n",
       "    </tr>\n",
       "  </tbody>\n",
       "</table>\n",
       "</div>"
      ],
      "text/plain": [
       "     Id  ...  rata_rata_jumlah_transaksi\n",
       "0  6678  ...                        1.20\n",
       "1   437  ...                        1.52\n",
       "2  1696  ...                        1.46\n",
       "3  8868  ...                        2.90\n",
       "4  7014  ...                        2.69\n",
       "\n",
       "[5 rows x 27 columns]"
      ]
     },
     "execution_count": 0,
     "metadata": {
      "tags": []
     },
     "output_type": "execute_result"
    }
   ],
   "source": [
    "uji.head()"
   ]
  },
  {
   "cell_type": "code",
   "execution_count": null,
   "metadata": {
    "colab": {
     "background_save": true
    },
    "id": "6KCV7hR8T9EE"
   },
   "outputs": [],
   "source": [
    "uji[\"rata_rata_nilai_transaksi\"]=uji[\"rata_rata_nilai_transaksi\"].astype(\"float64\")"
   ]
  },
  {
   "cell_type": "code",
   "execution_count": null,
   "metadata": {
    "colab": {
     "background_save": true
    },
    "id": "xzgwHUatT9EF",
    "outputId": "8788901d-1de9-4ecb-e893-1f8466a46401"
   },
   "outputs": [
    {
     "data": {
      "text/plain": [
       "Id                              int64\n",
       "id_tanggal_transaksi_awal       int64\n",
       "tanggal_transaksi_awal          int64\n",
       "tipe_kartu                      int64\n",
       "id_merchant                     int64\n",
       "nama_merchant                   int64\n",
       "tipe_mesin                      int64\n",
       "tipe_transaksi                  int64\n",
       "nama_transaksi                  int64\n",
       "nilai_transaksi                 int64\n",
       "id_negara                       int64\n",
       "nama_negara                     int64\n",
       "nama_kota                       int64\n",
       "lokasi_mesin                    int64\n",
       "pemilik_mesin                   int64\n",
       "waktu_transaksi                 int64\n",
       "kuartal_transaksi               int64\n",
       "kepemilikan_kartu               int64\n",
       "nama_channel                    int64\n",
       "id_channel                      int64\n",
       "flag_transaksi_finansial         bool\n",
       "status_transaksi                int64\n",
       "bank_pemilik_kartu              int64\n",
       "rata_rata_nilai_transaksi     float64\n",
       "maksimum_nilai_transaksi      float64\n",
       "minimum_nilai_transaksi       float64\n",
       "rata_rata_jumlah_transaksi    float64\n",
       "dtype: object"
      ]
     },
     "execution_count": 0,
     "metadata": {
      "tags": []
     },
     "output_type": "execute_result"
    }
   ],
   "source": [
    "uji.dtypes"
   ]
  },
  {
   "cell_type": "code",
   "execution_count": null,
   "metadata": {
    "colab": {
     "background_save": true
    },
    "id": "sWg-gjNJWahw",
    "outputId": "b086b148-5f44-4537-cc2a-fe17064337b6"
   },
   "outputs": [
    {
     "data": {
      "text/plain": [
       "False    240\n",
       "Name: flag_transaksi_finansial, dtype: int64"
      ]
     },
     "execution_count": 0,
     "metadata": {
      "tags": []
     },
     "output_type": "execute_result"
    }
   ],
   "source": [
    "uji['flag_transaksi_finansial'].value_counts()"
   ]
  },
  {
   "cell_type": "markdown",
   "metadata": {
    "id": "5iFdPCv7T9EG"
   },
   "source": [
    "### Missing Value"
   ]
  },
  {
   "cell_type": "code",
   "execution_count": null,
   "metadata": {
    "colab": {
     "background_save": true
    },
    "id": "YaP95BkXT9EH",
    "outputId": "36efa20d-4b58-400a-df7f-a1979f6ad055"
   },
   "outputs": [
    {
     "data": {
      "text/plain": [
       "Id                            0\n",
       "id_tanggal_transaksi_awal     0\n",
       "tanggal_transaksi_awal        0\n",
       "tipe_kartu                    0\n",
       "id_merchant                   0\n",
       "nama_merchant                 0\n",
       "tipe_mesin                    0\n",
       "tipe_transaksi                0\n",
       "nama_transaksi                0\n",
       "nilai_transaksi               0\n",
       "id_negara                     0\n",
       "nama_negara                   0\n",
       "nama_kota                     0\n",
       "lokasi_mesin                  0\n",
       "pemilik_mesin                 0\n",
       "waktu_transaksi               0\n",
       "kuartal_transaksi             0\n",
       "kepemilikan_kartu             0\n",
       "nama_channel                  0\n",
       "id_channel                    0\n",
       "flag_transaksi_finansial      0\n",
       "status_transaksi              0\n",
       "bank_pemilik_kartu            0\n",
       "rata_rata_nilai_transaksi     1\n",
       "maksimum_nilai_transaksi      1\n",
       "minimum_nilai_transaksi       1\n",
       "rata_rata_jumlah_transaksi    1\n",
       "dtype: int64"
      ]
     },
     "execution_count": 0,
     "metadata": {
      "tags": []
     },
     "output_type": "execute_result"
    }
   ],
   "source": [
    "uji.isnull().sum()"
   ]
  },
  {
   "cell_type": "markdown",
   "metadata": {
    "id": "PI08lGafT9EJ"
   },
   "source": [
    "### Imputasi"
   ]
  },
  {
   "cell_type": "code",
   "execution_count": null,
   "metadata": {
    "colab": {
     "background_save": true
    },
    "id": "tW5WOOpCT9EJ",
    "outputId": "1b136e93-8d93-4ce8-a0b4-6794dfc0a86f"
   },
   "outputs": [
    {
     "name": "stderr",
     "output_type": "stream",
     "text": [
      "/usr/local/lib/python3.7/dist-packages/seaborn/_decorators.py:43: FutureWarning: Pass the following variable as a keyword arg: x. From version 0.12, the only valid positional argument will be `data`, and passing other arguments without an explicit keyword will result in an error or misinterpretation.\n",
      "  FutureWarning\n"
     ]
    },
    {
     "data": {
      "image/png": "[encoded data removed]",
      "text/plain": [
       "<Figure size 720x360 with 1 Axes>"
      ]
     },
     "metadata": {
      "tags": []
     },
     "output_type": "display_data"
    }
   ],
   "source": [
    "plt.figure(figsize=(10,5))\n",
    "sns.boxplot(uji[\"rata_rata_nilai_transaksi\"])\n",
    "plt.show()"
   ]
  },
  {
   "cell_type": "code",
   "execution_count": null,
   "metadata": {
    "colab": {
     "background_save": true
    },
    "id": "MtlFYy4JT9EK",
    "outputId": "627435e4-01a7-492a-8959-52873419de72"
   },
   "outputs": [
    {
     "name": "stderr",
     "output_type": "stream",
     "text": [
      "/usr/local/lib/python3.7/dist-packages/seaborn/distributions.py:2557: FutureWarning: `distplot` is a deprecated function and will be removed in a future version. Please adapt your code to use either `displot` (a figure-level function with similar flexibility) or `histplot` (an axes-level function for histograms).\n",
      "  warnings.warn(msg, FutureWarning)\n"
     ]
    },
    {
     "data": {
      "image/png": "[encoded data removed]",
      "text/plain": [
       "<Figure size 720x360 with 1 Axes>"
      ]
     },
     "metadata": {
      "tags": []
     },
     "output_type": "display_data"
    }
   ],
   "source": [
    "plt.figure(figsize=(10,5))\n",
    "sns.distplot(uji[\"maksimum_nilai_transaksi\"])\n",
    "plt.show()"
   ]
  },
  {
   "cell_type": "code",
   "execution_count": null,
   "metadata": {
    "colab": {
     "background_save": true
    },
    "id": "I8FhD5vgT9EL",
    "outputId": "95356f56-969a-4c20-9198-69bcdb9a4262"
   },
   "outputs": [
    {
     "name": "stderr",
     "output_type": "stream",
     "text": [
      "/usr/local/lib/python3.7/dist-packages/seaborn/distributions.py:2557: FutureWarning: `distplot` is a deprecated function and will be removed in a future version. Please adapt your code to use either `displot` (a figure-level function with similar flexibility) or `histplot` (an axes-level function for histograms).\n",
      "  warnings.warn(msg, FutureWarning)\n"
     ]
    },
    {
     "data": {
      "image/png": "[encoded data removed]",
      "text/plain": [
       "<Figure size 720x360 with 1 Axes>"
      ]
     },
     "metadata": {
      "tags": []
     },
     "output_type": "display_data"
    }
   ],
   "source": [
    "plt.figure(figsize=(10,5))\n",
    "sns.distplot(uji[\"minimum_nilai_transaksi\"])\n",
    "plt.show()"
   ]
  },
  {
   "cell_type": "code",
   "execution_count": null,
   "metadata": {
    "colab": {
     "background_save": true
    },
    "id": "NRVw0wB-T9EM",
    "outputId": "0665f7e4-66a2-43bb-e38e-fe7b19cff6d9"
   },
   "outputs": [
    {
     "name": "stderr",
     "output_type": "stream",
     "text": [
      "/usr/local/lib/python3.7/dist-packages/seaborn/distributions.py:2557: FutureWarning: `distplot` is a deprecated function and will be removed in a future version. Please adapt your code to use either `displot` (a figure-level function with similar flexibility) or `histplot` (an axes-level function for histograms).\n",
      "  warnings.warn(msg, FutureWarning)\n"
     ]
    },
    {
     "data": {
      "image/png": "[encoded data removed]",
      "text/plain": [
       "<Figure size 720x360 with 1 Axes>"
      ]
     },
     "metadata": {
      "tags": []
     },
     "output_type": "display_data"
    }
   ],
   "source": [
    "plt.figure(figsize=(10,5))\n",
    "sns.distplot(uji[\"rata_rata_jumlah_transaksi\"])\n",
    "plt.show()"
   ]
  },
  {
   "cell_type": "code",
   "execution_count": null,
   "metadata": {
    "colab": {
     "background_save": true
    },
    "id": "ERzTWzbHT9EM"
   },
   "outputs": [],
   "source": [
    "uji[\"rata_rata_nilai_transaksi\"].fillna(uji[\"rata_rata_nilai_transaksi\"].median(),inplace=True)\n",
    "uji[\"maksimum_nilai_transaksi\"].fillna(uji[\"maksimum_nilai_transaksi\"].median(),inplace=True)\n",
    "uji[\"minimum_nilai_transaksi\"].fillna(uji[\"minimum_nilai_transaksi\"].median(),inplace=True)\n",
    "uji[\"rata_rata_jumlah_transaksi\"].fillna(uji[\"rata_rata_jumlah_transaksi\"].median(),inplace=True)"
   ]
  },
  {
   "cell_type": "code",
   "execution_count": null,
   "metadata": {
    "colab": {
     "background_save": true
    },
    "id": "6YSpsotFT9EN",
    "outputId": "38e80cb8-157b-4033-c9fe-65c4c44e4f36"
   },
   "outputs": [
    {
     "data": {
      "text/plain": [
       "Id                            0\n",
       "id_tanggal_transaksi_awal     0\n",
       "tanggal_transaksi_awal        0\n",
       "tipe_kartu                    0\n",
       "id_merchant                   0\n",
       "nama_merchant                 0\n",
       "tipe_mesin                    0\n",
       "tipe_transaksi                0\n",
       "nama_transaksi                0\n",
       "nilai_transaksi               0\n",
       "id_negara                     0\n",
       "nama_negara                   0\n",
       "nama_kota                     0\n",
       "lokasi_mesin                  0\n",
       "pemilik_mesin                 0\n",
       "waktu_transaksi               0\n",
       "kuartal_transaksi             0\n",
       "kepemilikan_kartu             0\n",
       "nama_channel                  0\n",
       "id_channel                    0\n",
       "flag_transaksi_finansial      0\n",
       "status_transaksi              0\n",
       "bank_pemilik_kartu            0\n",
       "rata_rata_nilai_transaksi     0\n",
       "maksimum_nilai_transaksi      0\n",
       "minimum_nilai_transaksi       0\n",
       "rata_rata_jumlah_transaksi    0\n",
       "dtype: int64"
      ]
     },
     "execution_count": 0,
     "metadata": {
      "tags": []
     },
     "output_type": "execute_result"
    }
   ],
   "source": [
    "uji.isnull().sum()"
   ]
  },
  {
   "cell_type": "markdown",
   "metadata": {
    "id": "fDAlNZa_T9EO"
   },
   "source": [
    "### Duplikasi Data"
   ]
  },
  {
   "cell_type": "code",
   "execution_count": null,
   "metadata": {
    "colab": {
     "background_save": true
    },
    "id": "hur6bYj1T9EO",
    "outputId": "5eb2188a-7f7b-46bc-8f23-fb0845b641c7"
   },
   "outputs": [
    {
     "data": {
      "text/plain": [
       "0"
      ]
     },
     "execution_count": 0,
     "metadata": {
      "tags": []
     },
     "output_type": "execute_result"
    }
   ],
   "source": [
    "uji.duplicated().sum()"
   ]
  },
  {
   "cell_type": "code",
   "execution_count": null,
   "metadata": {
    "colab": {
     "background_save": true
    },
    "id": "iDcHqX7uT9EP",
    "outputId": "38817242-e286-4b0c-f3e4-0b6defe40982"
   },
   "outputs": [
    {
     "data": {
      "text/plain": [
       "(240, 27)"
      ]
     },
     "execution_count": 0,
     "metadata": {
      "tags": []
     },
     "output_type": "execute_result"
    }
   ],
   "source": [
    "uji.shape"
   ]
  },
  {
   "cell_type": "markdown",
   "metadata": {
    "id": "HCz9KcD2T9EP"
   },
   "source": [
    "### Outlier"
   ]
  },
  {
   "cell_type": "code",
   "execution_count": null,
   "metadata": {
    "colab": {
     "background_save": true
    },
    "id": "BRLsRcRwT9EQ",
    "outputId": "8013b43b-11e5-4872-f71d-d226c0ba8e95"
   },
   "outputs": [
    {
     "name": "stderr",
     "output_type": "stream",
     "text": [
      "/usr/local/lib/python3.7/dist-packages/seaborn/_decorators.py:43: FutureWarning: Pass the following variable as a keyword arg: x. From version 0.12, the only valid positional argument will be `data`, and passing other arguments without an explicit keyword will result in an error or misinterpretation.\n",
      "  FutureWarning\n",
      "/usr/local/lib/python3.7/dist-packages/seaborn/_decorators.py:43: FutureWarning: Pass the following variable as a keyword arg: x. From version 0.12, the only valid positional argument will be `data`, and passing other arguments without an explicit keyword will result in an error or misinterpretation.\n",
      "  FutureWarning\n",
      "/usr/local/lib/python3.7/dist-packages/seaborn/_decorators.py:43: FutureWarning: Pass the following variable as a keyword arg: x. From version 0.12, the only valid positional argument will be `data`, and passing other arguments without an explicit keyword will result in an error or misinterpretation.\n",
      "  FutureWarning\n",
      "/usr/local/lib/python3.7/dist-packages/seaborn/_decorators.py:43: FutureWarning: Pass the following variable as a keyword arg: x. From version 0.12, the only valid positional argument will be `data`, and passing other arguments without an explicit keyword will result in an error or misinterpretation.\n",
      "  FutureWarning\n"
     ]
    },
    {
     "data": {
      "image/png": "[encoded data removed]",
      "text/plain": [
       "<Figure size 1080x720 with 4 Axes>"
      ]
     },
     "metadata": {
      "tags": []
     },
     "output_type": "display_data"
    }
   ],
   "source": [
    "fig, axes = plt.subplots(nrows=2, ncols=2 , figsize=(15,10))\n",
    "axes[0,0].set_title(\"rata_rata_nilai_transaksi\")\n",
    "axes[0,1].set_title(\"maksimum_nilai_transaksi\")\n",
    "axes[1,0].set_title(\"minimum_nilai_transaksi\")\n",
    "axes[1,1].set_title(\"rata_rata_jumlah_transaksi\")\n",
    "\n",
    "sns.boxplot(uji[\"rata_rata_nilai_transaksi\"], ax=axes[0,0])\n",
    "sns.boxplot(uji[\"maksimum_nilai_transaksi\"], ax=axes[0,1])\n",
    "sns.boxplot(uji[\"minimum_nilai_transaksi\"], ax=axes[1,0])\n",
    "sns.boxplot(uji[\"rata_rata_jumlah_transaksi\"], ax=axes[1,1])\n",
    "\n",
    "fig.tight_layout()"
   ]
  },
  {
   "cell_type": "markdown",
   "metadata": {
    "id": "zDRbo0UST9ER"
   },
   "source": [
    "### Handling Outlier"
   ]
  },
  {
   "cell_type": "code",
   "execution_count": null,
   "metadata": {
    "colab": {
     "background_save": true
    },
    "id": "zyDtm1VqT9ER",
    "outputId": "c3157ed5-377f-4992-e14f-d777205a466e"
   },
   "outputs": [
    {
     "data": {
      "text/html": [
       "<div>\n",
       "<style scoped>\n",
       "    .dataframe tbody tr th:only-of-type {\n",
       "        vertical-align: middle;\n",
       "    }\n",
       "\n",
       "    .dataframe tbody tr th {\n",
       "        vertical-align: top;\n",
       "    }\n",
       "\n",
       "    .dataframe thead th {\n",
       "        text-align: right;\n",
       "    }\n",
       "</style>\n",
       "<table border=\"1\" class=\"dataframe\">\n",
       "  <thead>\n",
       "    <tr style=\"text-align: right;\">\n",
       "      <th></th>\n",
       "      <th>Id</th>\n",
       "      <th>id_tanggal_transaksi_awal</th>\n",
       "      <th>tanggal_transaksi_awal</th>\n",
       "      <th>tipe_kartu</th>\n",
       "      <th>id_merchant</th>\n",
       "      <th>nama_merchant</th>\n",
       "      <th>tipe_mesin</th>\n",
       "      <th>tipe_transaksi</th>\n",
       "      <th>nama_transaksi</th>\n",
       "      <th>nilai_transaksi</th>\n",
       "      <th>id_negara</th>\n",
       "      <th>nama_negara</th>\n",
       "      <th>nama_kota</th>\n",
       "      <th>lokasi_mesin</th>\n",
       "      <th>pemilik_mesin</th>\n",
       "      <th>waktu_transaksi</th>\n",
       "      <th>kuartal_transaksi</th>\n",
       "      <th>kepemilikan_kartu</th>\n",
       "      <th>nama_channel</th>\n",
       "      <th>id_channel</th>\n",
       "      <th>flag_transaksi_finansial</th>\n",
       "      <th>status_transaksi</th>\n",
       "      <th>bank_pemilik_kartu</th>\n",
       "      <th>rata_rata_nilai_transaksi</th>\n",
       "      <th>maksimum_nilai_transaksi</th>\n",
       "      <th>minimum_nilai_transaksi</th>\n",
       "      <th>rata_rata_jumlah_transaksi</th>\n",
       "    </tr>\n",
       "  </thead>\n",
       "  <tbody>\n",
       "    <tr>\n",
       "      <th>12</th>\n",
       "      <td>505</td>\n",
       "      <td>2457587</td>\n",
       "      <td>2457630</td>\n",
       "      <td>93</td>\n",
       "      <td>279648</td>\n",
       "      <td>1253</td>\n",
       "      <td>2653395</td>\n",
       "      <td>58</td>\n",
       "      <td>6</td>\n",
       "      <td>5823000</td>\n",
       "      <td>96</td>\n",
       "      <td>5</td>\n",
       "      <td>96</td>\n",
       "      <td>6478</td>\n",
       "      <td>1854</td>\n",
       "      <td>131708</td>\n",
       "      <td>3</td>\n",
       "      <td>2</td>\n",
       "      <td>2</td>\n",
       "      <td>4</td>\n",
       "      <td>False</td>\n",
       "      <td>3</td>\n",
       "      <td>999</td>\n",
       "      <td>4.450000e+06</td>\n",
       "      <td>50000000.0</td>\n",
       "      <td>100000.0</td>\n",
       "      <td>1.55</td>\n",
       "    </tr>\n",
       "    <tr>\n",
       "      <th>19</th>\n",
       "      <td>6294</td>\n",
       "      <td>2457568</td>\n",
       "      <td>2457617</td>\n",
       "      <td>93</td>\n",
       "      <td>-2</td>\n",
       "      <td>1798</td>\n",
       "      <td>2309371</td>\n",
       "      <td>26</td>\n",
       "      <td>10</td>\n",
       "      <td>1250000</td>\n",
       "      <td>96</td>\n",
       "      <td>5</td>\n",
       "      <td>128</td>\n",
       "      <td>3248</td>\n",
       "      <td>613</td>\n",
       "      <td>122445</td>\n",
       "      <td>3</td>\n",
       "      <td>2</td>\n",
       "      <td>1</td>\n",
       "      <td>9</td>\n",
       "      <td>False</td>\n",
       "      <td>3</td>\n",
       "      <td>999</td>\n",
       "      <td>9.847912e+09</td>\n",
       "      <td>46500000.0</td>\n",
       "      <td>19000.0</td>\n",
       "      <td>3.40</td>\n",
       "    </tr>\n",
       "    <tr>\n",
       "      <th>50</th>\n",
       "      <td>6373</td>\n",
       "      <td>2457661</td>\n",
       "      <td>2457754</td>\n",
       "      <td>93</td>\n",
       "      <td>702705</td>\n",
       "      <td>273</td>\n",
       "      <td>3359848</td>\n",
       "      <td>58</td>\n",
       "      <td>6</td>\n",
       "      <td>270000</td>\n",
       "      <td>96</td>\n",
       "      <td>5</td>\n",
       "      <td>150</td>\n",
       "      <td>6231</td>\n",
       "      <td>611</td>\n",
       "      <td>211432</td>\n",
       "      <td>4</td>\n",
       "      <td>2</td>\n",
       "      <td>2</td>\n",
       "      <td>4</td>\n",
       "      <td>False</td>\n",
       "      <td>3</td>\n",
       "      <td>999</td>\n",
       "      <td>1.033005e+09</td>\n",
       "      <td>98000000.0</td>\n",
       "      <td>50000.0</td>\n",
       "      <td>3.32</td>\n",
       "    </tr>\n",
       "    <tr>\n",
       "      <th>63</th>\n",
       "      <td>5206</td>\n",
       "      <td>2457517</td>\n",
       "      <td>2457566</td>\n",
       "      <td>93</td>\n",
       "      <td>-2</td>\n",
       "      <td>1798</td>\n",
       "      <td>2176668</td>\n",
       "      <td>238</td>\n",
       "      <td>9</td>\n",
       "      <td>2950000</td>\n",
       "      <td>96</td>\n",
       "      <td>5</td>\n",
       "      <td>251</td>\n",
       "      <td>7892</td>\n",
       "      <td>613</td>\n",
       "      <td>94142</td>\n",
       "      <td>2</td>\n",
       "      <td>2</td>\n",
       "      <td>1</td>\n",
       "      <td>9</td>\n",
       "      <td>False</td>\n",
       "      <td>3</td>\n",
       "      <td>999</td>\n",
       "      <td>5.532031e+09</td>\n",
       "      <td>57127000.0</td>\n",
       "      <td>11500.0</td>\n",
       "      <td>5.83</td>\n",
       "    </tr>\n",
       "    <tr>\n",
       "      <th>64</th>\n",
       "      <td>14083</td>\n",
       "      <td>2457476</td>\n",
       "      <td>2457508</td>\n",
       "      <td>2</td>\n",
       "      <td>636536</td>\n",
       "      <td>1510</td>\n",
       "      <td>2013725</td>\n",
       "      <td>58</td>\n",
       "      <td>6</td>\n",
       "      <td>9350000</td>\n",
       "      <td>96</td>\n",
       "      <td>5</td>\n",
       "      <td>259</td>\n",
       "      <td>7656</td>\n",
       "      <td>2231</td>\n",
       "      <td>82154</td>\n",
       "      <td>2</td>\n",
       "      <td>2</td>\n",
       "      <td>2</td>\n",
       "      <td>4</td>\n",
       "      <td>False</td>\n",
       "      <td>3</td>\n",
       "      <td>999</td>\n",
       "      <td>9.065365e+09</td>\n",
       "      <td>100000000.0</td>\n",
       "      <td>41804.0</td>\n",
       "      <td>2.32</td>\n",
       "    </tr>\n",
       "    <tr>\n",
       "      <th>68</th>\n",
       "      <td>10868</td>\n",
       "      <td>2457316</td>\n",
       "      <td>2457367</td>\n",
       "      <td>93</td>\n",
       "      <td>374848</td>\n",
       "      <td>1797</td>\n",
       "      <td>1616191</td>\n",
       "      <td>58</td>\n",
       "      <td>6</td>\n",
       "      <td>421212</td>\n",
       "      <td>96</td>\n",
       "      <td>5</td>\n",
       "      <td>265</td>\n",
       "      <td>5961</td>\n",
       "      <td>2616</td>\n",
       "      <td>193233</td>\n",
       "      <td>4</td>\n",
       "      <td>2</td>\n",
       "      <td>2</td>\n",
       "      <td>4</td>\n",
       "      <td>False</td>\n",
       "      <td>3</td>\n",
       "      <td>999</td>\n",
       "      <td>3.194832e+09</td>\n",
       "      <td>33980000.0</td>\n",
       "      <td>32600.0</td>\n",
       "      <td>1.38</td>\n",
       "    </tr>\n",
       "    <tr>\n",
       "      <th>69</th>\n",
       "      <td>1255</td>\n",
       "      <td>2457572</td>\n",
       "      <td>2457638</td>\n",
       "      <td>111</td>\n",
       "      <td>-2</td>\n",
       "      <td>1798</td>\n",
       "      <td>2003763</td>\n",
       "      <td>238</td>\n",
       "      <td>9</td>\n",
       "      <td>1700000</td>\n",
       "      <td>96</td>\n",
       "      <td>5</td>\n",
       "      <td>70</td>\n",
       "      <td>5558</td>\n",
       "      <td>613</td>\n",
       "      <td>103511</td>\n",
       "      <td>2</td>\n",
       "      <td>2</td>\n",
       "      <td>1</td>\n",
       "      <td>9</td>\n",
       "      <td>False</td>\n",
       "      <td>3</td>\n",
       "      <td>999</td>\n",
       "      <td>3.961719e+09</td>\n",
       "      <td>50000000.0</td>\n",
       "      <td>50000.0</td>\n",
       "      <td>1.44</td>\n",
       "    </tr>\n",
       "    <tr>\n",
       "      <th>76</th>\n",
       "      <td>4798</td>\n",
       "      <td>2457349</td>\n",
       "      <td>2457377</td>\n",
       "      <td>111</td>\n",
       "      <td>-2</td>\n",
       "      <td>1798</td>\n",
       "      <td>226362</td>\n",
       "      <td>238</td>\n",
       "      <td>9</td>\n",
       "      <td>200000</td>\n",
       "      <td>96</td>\n",
       "      <td>5</td>\n",
       "      <td>128</td>\n",
       "      <td>5363</td>\n",
       "      <td>613</td>\n",
       "      <td>203700</td>\n",
       "      <td>4</td>\n",
       "      <td>2</td>\n",
       "      <td>1</td>\n",
       "      <td>9</td>\n",
       "      <td>False</td>\n",
       "      <td>3</td>\n",
       "      <td>999</td>\n",
       "      <td>2.248279e+09</td>\n",
       "      <td>50000000.0</td>\n",
       "      <td>25000.0</td>\n",
       "      <td>4.47</td>\n",
       "    </tr>\n",
       "    <tr>\n",
       "      <th>79</th>\n",
       "      <td>13976</td>\n",
       "      <td>2457509</td>\n",
       "      <td>2457598</td>\n",
       "      <td>93</td>\n",
       "      <td>319233</td>\n",
       "      <td>219</td>\n",
       "      <td>1859928</td>\n",
       "      <td>58</td>\n",
       "      <td>6</td>\n",
       "      <td>2184700</td>\n",
       "      <td>96</td>\n",
       "      <td>5</td>\n",
       "      <td>101</td>\n",
       "      <td>7157</td>\n",
       "      <td>534</td>\n",
       "      <td>153856</td>\n",
       "      <td>3</td>\n",
       "      <td>2</td>\n",
       "      <td>2</td>\n",
       "      <td>4</td>\n",
       "      <td>False</td>\n",
       "      <td>3</td>\n",
       "      <td>999</td>\n",
       "      <td>5.532031e+09</td>\n",
       "      <td>75000000.0</td>\n",
       "      <td>26500.0</td>\n",
       "      <td>2.40</td>\n",
       "    </tr>\n",
       "    <tr>\n",
       "      <th>84</th>\n",
       "      <td>2420</td>\n",
       "      <td>2457430</td>\n",
       "      <td>2457465</td>\n",
       "      <td>93</td>\n",
       "      <td>-2</td>\n",
       "      <td>1798</td>\n",
       "      <td>2550686</td>\n",
       "      <td>26</td>\n",
       "      <td>10</td>\n",
       "      <td>1250000</td>\n",
       "      <td>96</td>\n",
       "      <td>5</td>\n",
       "      <td>128</td>\n",
       "      <td>4064</td>\n",
       "      <td>613</td>\n",
       "      <td>130428</td>\n",
       "      <td>3</td>\n",
       "      <td>2</td>\n",
       "      <td>1</td>\n",
       "      <td>9</td>\n",
       "      <td>False</td>\n",
       "      <td>3</td>\n",
       "      <td>999</td>\n",
       "      <td>1.030897e+09</td>\n",
       "      <td>96486000.0</td>\n",
       "      <td>8099.0</td>\n",
       "      <td>2.80</td>\n",
       "    </tr>\n",
       "    <tr>\n",
       "      <th>92</th>\n",
       "      <td>12514</td>\n",
       "      <td>2457558</td>\n",
       "      <td>2457613</td>\n",
       "      <td>93</td>\n",
       "      <td>-2</td>\n",
       "      <td>1798</td>\n",
       "      <td>1914884</td>\n",
       "      <td>26</td>\n",
       "      <td>10</td>\n",
       "      <td>300000</td>\n",
       "      <td>96</td>\n",
       "      <td>5</td>\n",
       "      <td>128</td>\n",
       "      <td>2549</td>\n",
       "      <td>613</td>\n",
       "      <td>102751</td>\n",
       "      <td>2</td>\n",
       "      <td>2</td>\n",
       "      <td>1</td>\n",
       "      <td>9</td>\n",
       "      <td>False</td>\n",
       "      <td>3</td>\n",
       "      <td>999</td>\n",
       "      <td>3.743727e+09</td>\n",
       "      <td>75000000.0</td>\n",
       "      <td>25000.0</td>\n",
       "      <td>2.45</td>\n",
       "    </tr>\n",
       "    <tr>\n",
       "      <th>95</th>\n",
       "      <td>10043</td>\n",
       "      <td>2457598</td>\n",
       "      <td>2457605</td>\n",
       "      <td>111</td>\n",
       "      <td>-2</td>\n",
       "      <td>1798</td>\n",
       "      <td>2632326</td>\n",
       "      <td>238</td>\n",
       "      <td>9</td>\n",
       "      <td>1000000</td>\n",
       "      <td>96</td>\n",
       "      <td>5</td>\n",
       "      <td>128</td>\n",
       "      <td>8039</td>\n",
       "      <td>613</td>\n",
       "      <td>160438</td>\n",
       "      <td>3</td>\n",
       "      <td>2</td>\n",
       "      <td>1</td>\n",
       "      <td>9</td>\n",
       "      <td>False</td>\n",
       "      <td>3</td>\n",
       "      <td>999</td>\n",
       "      <td>2.820267e+09</td>\n",
       "      <td>39675000.0</td>\n",
       "      <td>50000.0</td>\n",
       "      <td>4.15</td>\n",
       "    </tr>\n",
       "    <tr>\n",
       "      <th>101</th>\n",
       "      <td>3051</td>\n",
       "      <td>2457389</td>\n",
       "      <td>2457467</td>\n",
       "      <td>93</td>\n",
       "      <td>-2</td>\n",
       "      <td>1798</td>\n",
       "      <td>329209</td>\n",
       "      <td>147</td>\n",
       "      <td>3</td>\n",
       "      <td>2555227</td>\n",
       "      <td>96</td>\n",
       "      <td>5</td>\n",
       "      <td>96</td>\n",
       "      <td>4844</td>\n",
       "      <td>613</td>\n",
       "      <td>155948</td>\n",
       "      <td>3</td>\n",
       "      <td>2</td>\n",
       "      <td>1</td>\n",
       "      <td>9</td>\n",
       "      <td>False</td>\n",
       "      <td>3</td>\n",
       "      <td>999</td>\n",
       "      <td>5.351677e+09</td>\n",
       "      <td>75000000.0</td>\n",
       "      <td>15000.0</td>\n",
       "      <td>4.22</td>\n",
       "    </tr>\n",
       "    <tr>\n",
       "      <th>104</th>\n",
       "      <td>14365</td>\n",
       "      <td>2457508</td>\n",
       "      <td>2457568</td>\n",
       "      <td>93</td>\n",
       "      <td>-2</td>\n",
       "      <td>1798</td>\n",
       "      <td>2820829</td>\n",
       "      <td>159</td>\n",
       "      <td>19</td>\n",
       "      <td>2376000</td>\n",
       "      <td>96</td>\n",
       "      <td>5</td>\n",
       "      <td>101</td>\n",
       "      <td>4355</td>\n",
       "      <td>613</td>\n",
       "      <td>171245</td>\n",
       "      <td>3</td>\n",
       "      <td>2</td>\n",
       "      <td>1</td>\n",
       "      <td>9</td>\n",
       "      <td>False</td>\n",
       "      <td>3</td>\n",
       "      <td>999</td>\n",
       "      <td>3.225251e+09</td>\n",
       "      <td>50000000.0</td>\n",
       "      <td>51500.0</td>\n",
       "      <td>2.83</td>\n",
       "    </tr>\n",
       "    <tr>\n",
       "      <th>110</th>\n",
       "      <td>7370</td>\n",
       "      <td>2457401</td>\n",
       "      <td>2457473</td>\n",
       "      <td>111</td>\n",
       "      <td>-2</td>\n",
       "      <td>1798</td>\n",
       "      <td>2809311</td>\n",
       "      <td>238</td>\n",
       "      <td>9</td>\n",
       "      <td>1500000</td>\n",
       "      <td>96</td>\n",
       "      <td>5</td>\n",
       "      <td>101</td>\n",
       "      <td>7898</td>\n",
       "      <td>613</td>\n",
       "      <td>120103</td>\n",
       "      <td>3</td>\n",
       "      <td>2</td>\n",
       "      <td>1</td>\n",
       "      <td>9</td>\n",
       "      <td>False</td>\n",
       "      <td>3</td>\n",
       "      <td>999</td>\n",
       "      <td>1.228386e+08</td>\n",
       "      <td>69750000.0</td>\n",
       "      <td>26500.0</td>\n",
       "      <td>2.74</td>\n",
       "    </tr>\n",
       "    <tr>\n",
       "      <th>136</th>\n",
       "      <td>3819</td>\n",
       "      <td>2457299</td>\n",
       "      <td>2457319</td>\n",
       "      <td>2</td>\n",
       "      <td>-2</td>\n",
       "      <td>1798</td>\n",
       "      <td>1329222</td>\n",
       "      <td>159</td>\n",
       "      <td>19</td>\n",
       "      <td>470000</td>\n",
       "      <td>96</td>\n",
       "      <td>5</td>\n",
       "      <td>60</td>\n",
       "      <td>820</td>\n",
       "      <td>613</td>\n",
       "      <td>122251</td>\n",
       "      <td>3</td>\n",
       "      <td>2</td>\n",
       "      <td>1</td>\n",
       "      <td>9</td>\n",
       "      <td>False</td>\n",
       "      <td>3</td>\n",
       "      <td>999</td>\n",
       "      <td>1.243740e+09</td>\n",
       "      <td>50000000.0</td>\n",
       "      <td>25000.0</td>\n",
       "      <td>2.47</td>\n",
       "    </tr>\n",
       "    <tr>\n",
       "      <th>153</th>\n",
       "      <td>11382</td>\n",
       "      <td>2457607</td>\n",
       "      <td>2457682</td>\n",
       "      <td>111</td>\n",
       "      <td>-2</td>\n",
       "      <td>1798</td>\n",
       "      <td>2501653</td>\n",
       "      <td>385</td>\n",
       "      <td>11</td>\n",
       "      <td>1250000</td>\n",
       "      <td>96</td>\n",
       "      <td>5</td>\n",
       "      <td>132</td>\n",
       "      <td>4025</td>\n",
       "      <td>613</td>\n",
       "      <td>185916</td>\n",
       "      <td>4</td>\n",
       "      <td>2</td>\n",
       "      <td>1</td>\n",
       "      <td>9</td>\n",
       "      <td>False</td>\n",
       "      <td>3</td>\n",
       "      <td>999</td>\n",
       "      <td>2.530285e+09</td>\n",
       "      <td>50000000.0</td>\n",
       "      <td>100000.0</td>\n",
       "      <td>2.62</td>\n",
       "    </tr>\n",
       "    <tr>\n",
       "      <th>178</th>\n",
       "      <td>14933</td>\n",
       "      <td>2457486</td>\n",
       "      <td>2457555</td>\n",
       "      <td>93</td>\n",
       "      <td>214033</td>\n",
       "      <td>969</td>\n",
       "      <td>552401</td>\n",
       "      <td>58</td>\n",
       "      <td>6</td>\n",
       "      <td>350000</td>\n",
       "      <td>96</td>\n",
       "      <td>5</td>\n",
       "      <td>128</td>\n",
       "      <td>7684</td>\n",
       "      <td>1488</td>\n",
       "      <td>175001</td>\n",
       "      <td>3</td>\n",
       "      <td>2</td>\n",
       "      <td>2</td>\n",
       "      <td>4</td>\n",
       "      <td>False</td>\n",
       "      <td>3</td>\n",
       "      <td>999</td>\n",
       "      <td>5.351677e+09</td>\n",
       "      <td>75000000.0</td>\n",
       "      <td>46000.0</td>\n",
       "      <td>2.40</td>\n",
       "    </tr>\n",
       "    <tr>\n",
       "      <th>197</th>\n",
       "      <td>8189</td>\n",
       "      <td>2457313</td>\n",
       "      <td>2457402</td>\n",
       "      <td>93</td>\n",
       "      <td>-2</td>\n",
       "      <td>1798</td>\n",
       "      <td>1390313</td>\n",
       "      <td>26</td>\n",
       "      <td>10</td>\n",
       "      <td>50000</td>\n",
       "      <td>96</td>\n",
       "      <td>5</td>\n",
       "      <td>128</td>\n",
       "      <td>1195</td>\n",
       "      <td>613</td>\n",
       "      <td>125306</td>\n",
       "      <td>3</td>\n",
       "      <td>2</td>\n",
       "      <td>1</td>\n",
       "      <td>9</td>\n",
       "      <td>False</td>\n",
       "      <td>3</td>\n",
       "      <td>999</td>\n",
       "      <td>1.225210e+06</td>\n",
       "      <td>69750000.0</td>\n",
       "      <td>22000.0</td>\n",
       "      <td>2.47</td>\n",
       "    </tr>\n",
       "    <tr>\n",
       "      <th>212</th>\n",
       "      <td>11618</td>\n",
       "      <td>2457581</td>\n",
       "      <td>2457673</td>\n",
       "      <td>93</td>\n",
       "      <td>-2</td>\n",
       "      <td>1798</td>\n",
       "      <td>2031754</td>\n",
       "      <td>385</td>\n",
       "      <td>11</td>\n",
       "      <td>1000000</td>\n",
       "      <td>96</td>\n",
       "      <td>5</td>\n",
       "      <td>70</td>\n",
       "      <td>2869</td>\n",
       "      <td>613</td>\n",
       "      <td>104227</td>\n",
       "      <td>2</td>\n",
       "      <td>2</td>\n",
       "      <td>1</td>\n",
       "      <td>9</td>\n",
       "      <td>False</td>\n",
       "      <td>3</td>\n",
       "      <td>999</td>\n",
       "      <td>3.433434e+09</td>\n",
       "      <td>48800000.0</td>\n",
       "      <td>50000.0</td>\n",
       "      <td>2.98</td>\n",
       "    </tr>\n",
       "    <tr>\n",
       "      <th>229</th>\n",
       "      <td>8476</td>\n",
       "      <td>2457529</td>\n",
       "      <td>2457612</td>\n",
       "      <td>93</td>\n",
       "      <td>-2</td>\n",
       "      <td>1798</td>\n",
       "      <td>1940539</td>\n",
       "      <td>385</td>\n",
       "      <td>11</td>\n",
       "      <td>1000000</td>\n",
       "      <td>96</td>\n",
       "      <td>5</td>\n",
       "      <td>265</td>\n",
       "      <td>2615</td>\n",
       "      <td>613</td>\n",
       "      <td>233601</td>\n",
       "      <td>4</td>\n",
       "      <td>2</td>\n",
       "      <td>1</td>\n",
       "      <td>9</td>\n",
       "      <td>False</td>\n",
       "      <td>3</td>\n",
       "      <td>999</td>\n",
       "      <td>4.817912e+09</td>\n",
       "      <td>43000000.0</td>\n",
       "      <td>100000.0</td>\n",
       "      <td>1.00</td>\n",
       "    </tr>\n",
       "  </tbody>\n",
       "</table>\n",
       "</div>"
      ],
      "text/plain": [
       "        Id  ...  rata_rata_jumlah_transaksi\n",
       "12     505  ...                        1.55\n",
       "19    6294  ...                        3.40\n",
       "50    6373  ...                        3.32\n",
       "63    5206  ...                        5.83\n",
       "64   14083  ...                        2.32\n",
       "68   10868  ...                        1.38\n",
       "69    1255  ...                        1.44\n",
       "76    4798  ...                        4.47\n",
       "79   13976  ...                        2.40\n",
       "84    2420  ...                        2.80\n",
       "92   12514  ...                        2.45\n",
       "95   10043  ...                        4.15\n",
       "101   3051  ...                        4.22\n",
       "104  14365  ...                        2.83\n",
       "110   7370  ...                        2.74\n",
       "136   3819  ...                        2.47\n",
       "153  11382  ...                        2.62\n",
       "178  14933  ...                        2.40\n",
       "197   8189  ...                        2.47\n",
       "212  11618  ...                        2.98\n",
       "229   8476  ...                        1.00\n",
       "\n",
       "[21 rows x 27 columns]"
      ]
     },
     "execution_count": 0,
     "metadata": {
      "tags": []
     },
     "output_type": "execute_result"
    }
   ],
   "source": [
    "Q1_maksuji=uji[\"maksimum_nilai_transaksi\"].quantile(0.25)\n",
    "Q3_maksuji=uji[\"maksimum_nilai_transaksi\"].quantile(0.75)\n",
    "IQR_maksuji=Q3_maksuji - Q1_maksuji\n",
    "lower_range_maksuji = Q1_maksuji -(1.5 * IQR_maksuji)\n",
    "upper_range_maksuji= Q3_maksuji +(1.5 * IQR_maksuji)\n",
    "uji.loc[(uji[\"maksimum_nilai_transaksi\"]>upper_range_maksuji),:]"
   ]
  },
  {
   "cell_type": "code",
   "execution_count": null,
   "metadata": {
    "colab": {
     "background_save": true
    },
    "id": "MPW7zqnFT9ES"
   },
   "outputs": [],
   "source": [
    "uji.loc[(uji[\"maksimum_nilai_transaksi\"]>upper_range_maksuji),\"maksimum_nilai_transaksi\"]=upper_range_maksuji"
   ]
  },
  {
   "cell_type": "code",
   "execution_count": null,
   "metadata": {
    "colab": {
     "background_save": true
    },
    "id": "D6aCsGdRT9ES",
    "outputId": "fbd39b0f-8540-402f-e15e-6d2a7cfb4d9d"
   },
   "outputs": [
    {
     "data": {
      "text/html": [
       "<div>\n",
       "<style scoped>\n",
       "    .dataframe tbody tr th:only-of-type {\n",
       "        vertical-align: middle;\n",
       "    }\n",
       "\n",
       "    .dataframe tbody tr th {\n",
       "        vertical-align: top;\n",
       "    }\n",
       "\n",
       "    .dataframe thead th {\n",
       "        text-align: right;\n",
       "    }\n",
       "</style>\n",
       "<table border=\"1\" class=\"dataframe\">\n",
       "  <thead>\n",
       "    <tr style=\"text-align: right;\">\n",
       "      <th></th>\n",
       "      <th>Id</th>\n",
       "      <th>id_tanggal_transaksi_awal</th>\n",
       "      <th>tanggal_transaksi_awal</th>\n",
       "      <th>tipe_kartu</th>\n",
       "      <th>id_merchant</th>\n",
       "      <th>nama_merchant</th>\n",
       "      <th>tipe_mesin</th>\n",
       "      <th>tipe_transaksi</th>\n",
       "      <th>nama_transaksi</th>\n",
       "      <th>nilai_transaksi</th>\n",
       "      <th>id_negara</th>\n",
       "      <th>nama_negara</th>\n",
       "      <th>nama_kota</th>\n",
       "      <th>lokasi_mesin</th>\n",
       "      <th>pemilik_mesin</th>\n",
       "      <th>waktu_transaksi</th>\n",
       "      <th>kuartal_transaksi</th>\n",
       "      <th>kepemilikan_kartu</th>\n",
       "      <th>nama_channel</th>\n",
       "      <th>id_channel</th>\n",
       "      <th>flag_transaksi_finansial</th>\n",
       "      <th>status_transaksi</th>\n",
       "      <th>bank_pemilik_kartu</th>\n",
       "      <th>rata_rata_nilai_transaksi</th>\n",
       "      <th>maksimum_nilai_transaksi</th>\n",
       "      <th>minimum_nilai_transaksi</th>\n",
       "      <th>rata_rata_jumlah_transaksi</th>\n",
       "    </tr>\n",
       "  </thead>\n",
       "  <tbody>\n",
       "    <tr>\n",
       "      <th>2</th>\n",
       "      <td>1696</td>\n",
       "      <td>2457349</td>\n",
       "      <td>2457359</td>\n",
       "      <td>103</td>\n",
       "      <td>-2</td>\n",
       "      <td>1798</td>\n",
       "      <td>2254860</td>\n",
       "      <td>385</td>\n",
       "      <td>11</td>\n",
       "      <td>500000</td>\n",
       "      <td>96</td>\n",
       "      <td>5</td>\n",
       "      <td>128</td>\n",
       "      <td>3195</td>\n",
       "      <td>613</td>\n",
       "      <td>145437</td>\n",
       "      <td>3</td>\n",
       "      <td>2</td>\n",
       "      <td>1</td>\n",
       "      <td>9</td>\n",
       "      <td>False</td>\n",
       "      <td>3</td>\n",
       "      <td>999</td>\n",
       "      <td>7.974732e+08</td>\n",
       "      <td>1750000.0</td>\n",
       "      <td>250000.0</td>\n",
       "      <td>1.46</td>\n",
       "    </tr>\n",
       "    <tr>\n",
       "      <th>4</th>\n",
       "      <td>7014</td>\n",
       "      <td>2457467</td>\n",
       "      <td>2457499</td>\n",
       "      <td>93</td>\n",
       "      <td>-2</td>\n",
       "      <td>1798</td>\n",
       "      <td>-3</td>\n",
       "      <td>156</td>\n",
       "      <td>12</td>\n",
       "      <td>1000000</td>\n",
       "      <td>96</td>\n",
       "      <td>5</td>\n",
       "      <td>8</td>\n",
       "      <td>4</td>\n",
       "      <td>9</td>\n",
       "      <td>171338</td>\n",
       "      <td>3</td>\n",
       "      <td>1</td>\n",
       "      <td>5</td>\n",
       "      <td>8</td>\n",
       "      <td>False</td>\n",
       "      <td>3</td>\n",
       "      <td>999</td>\n",
       "      <td>2.116286e+09</td>\n",
       "      <td>12000000.0</td>\n",
       "      <td>200000.0</td>\n",
       "      <td>2.69</td>\n",
       "    </tr>\n",
       "    <tr>\n",
       "      <th>8</th>\n",
       "      <td>14786</td>\n",
       "      <td>2457529</td>\n",
       "      <td>2457572</td>\n",
       "      <td>111</td>\n",
       "      <td>123189</td>\n",
       "      <td>1670</td>\n",
       "      <td>2734067</td>\n",
       "      <td>58</td>\n",
       "      <td>6</td>\n",
       "      <td>2499000</td>\n",
       "      <td>96</td>\n",
       "      <td>5</td>\n",
       "      <td>128</td>\n",
       "      <td>7046</td>\n",
       "      <td>2464</td>\n",
       "      <td>102907</td>\n",
       "      <td>2</td>\n",
       "      <td>2</td>\n",
       "      <td>2</td>\n",
       "      <td>4</td>\n",
       "      <td>False</td>\n",
       "      <td>3</td>\n",
       "      <td>999</td>\n",
       "      <td>2.917987e+09</td>\n",
       "      <td>7328969.0</td>\n",
       "      <td>500000.0</td>\n",
       "      <td>2.50</td>\n",
       "    </tr>\n",
       "    <tr>\n",
       "      <th>10</th>\n",
       "      <td>4597</td>\n",
       "      <td>2457504</td>\n",
       "      <td>2457551</td>\n",
       "      <td>104</td>\n",
       "      <td>-2</td>\n",
       "      <td>1798</td>\n",
       "      <td>3126091</td>\n",
       "      <td>238</td>\n",
       "      <td>9</td>\n",
       "      <td>1000000</td>\n",
       "      <td>96</td>\n",
       "      <td>5</td>\n",
       "      <td>75</td>\n",
       "      <td>7933</td>\n",
       "      <td>613</td>\n",
       "      <td>170539</td>\n",
       "      <td>3</td>\n",
       "      <td>2</td>\n",
       "      <td>1</td>\n",
       "      <td>9</td>\n",
       "      <td>False</td>\n",
       "      <td>3</td>\n",
       "      <td>999</td>\n",
       "      <td>2.120522e+09</td>\n",
       "      <td>15000000.0</td>\n",
       "      <td>147000.0</td>\n",
       "      <td>1.80</td>\n",
       "    </tr>\n",
       "    <tr>\n",
       "      <th>33</th>\n",
       "      <td>12727</td>\n",
       "      <td>2457476</td>\n",
       "      <td>2457506</td>\n",
       "      <td>0</td>\n",
       "      <td>-2</td>\n",
       "      <td>1798</td>\n",
       "      <td>84019</td>\n",
       "      <td>159</td>\n",
       "      <td>19</td>\n",
       "      <td>4000000</td>\n",
       "      <td>96</td>\n",
       "      <td>5</td>\n",
       "      <td>128</td>\n",
       "      <td>3317</td>\n",
       "      <td>613</td>\n",
       "      <td>62025</td>\n",
       "      <td>2</td>\n",
       "      <td>2</td>\n",
       "      <td>1</td>\n",
       "      <td>9</td>\n",
       "      <td>False</td>\n",
       "      <td>3</td>\n",
       "      <td>999</td>\n",
       "      <td>1.965300e+08</td>\n",
       "      <td>11110000.0</td>\n",
       "      <td>300000.0</td>\n",
       "      <td>1.29</td>\n",
       "    </tr>\n",
       "    <tr>\n",
       "      <th>34</th>\n",
       "      <td>14312</td>\n",
       "      <td>2457347</td>\n",
       "      <td>2457405</td>\n",
       "      <td>103</td>\n",
       "      <td>-2</td>\n",
       "      <td>1798</td>\n",
       "      <td>2351274</td>\n",
       "      <td>385</td>\n",
       "      <td>11</td>\n",
       "      <td>1000000</td>\n",
       "      <td>96</td>\n",
       "      <td>5</td>\n",
       "      <td>75</td>\n",
       "      <td>3523</td>\n",
       "      <td>613</td>\n",
       "      <td>124322</td>\n",
       "      <td>3</td>\n",
       "      <td>2</td>\n",
       "      <td>1</td>\n",
       "      <td>9</td>\n",
       "      <td>False</td>\n",
       "      <td>3</td>\n",
       "      <td>999</td>\n",
       "      <td>1.311742e+09</td>\n",
       "      <td>15000000.0</td>\n",
       "      <td>300000.0</td>\n",
       "      <td>3.23</td>\n",
       "    </tr>\n",
       "    <tr>\n",
       "      <th>39</th>\n",
       "      <td>14002</td>\n",
       "      <td>2457324</td>\n",
       "      <td>2457419</td>\n",
       "      <td>103</td>\n",
       "      <td>-2</td>\n",
       "      <td>1798</td>\n",
       "      <td>118233</td>\n",
       "      <td>301</td>\n",
       "      <td>16</td>\n",
       "      <td>4500000</td>\n",
       "      <td>96</td>\n",
       "      <td>5</td>\n",
       "      <td>60</td>\n",
       "      <td>5182</td>\n",
       "      <td>613</td>\n",
       "      <td>202625</td>\n",
       "      <td>4</td>\n",
       "      <td>2</td>\n",
       "      <td>1</td>\n",
       "      <td>9</td>\n",
       "      <td>False</td>\n",
       "      <td>3</td>\n",
       "      <td>999</td>\n",
       "      <td>2.558486e+09</td>\n",
       "      <td>20000000.0</td>\n",
       "      <td>237000.0</td>\n",
       "      <td>2.32</td>\n",
       "    </tr>\n",
       "    <tr>\n",
       "      <th>48</th>\n",
       "      <td>11586</td>\n",
       "      <td>2457550</td>\n",
       "      <td>2457592</td>\n",
       "      <td>93</td>\n",
       "      <td>-2</td>\n",
       "      <td>1798</td>\n",
       "      <td>2713939</td>\n",
       "      <td>385</td>\n",
       "      <td>11</td>\n",
       "      <td>2500000</td>\n",
       "      <td>96</td>\n",
       "      <td>5</td>\n",
       "      <td>293</td>\n",
       "      <td>8490</td>\n",
       "      <td>613</td>\n",
       "      <td>84640</td>\n",
       "      <td>2</td>\n",
       "      <td>2</td>\n",
       "      <td>1</td>\n",
       "      <td>9</td>\n",
       "      <td>False</td>\n",
       "      <td>3</td>\n",
       "      <td>999</td>\n",
       "      <td>7.705518e+09</td>\n",
       "      <td>2500000.0</td>\n",
       "      <td>168000.0</td>\n",
       "      <td>1.43</td>\n",
       "    </tr>\n",
       "    <tr>\n",
       "      <th>59</th>\n",
       "      <td>11578</td>\n",
       "      <td>2457364</td>\n",
       "      <td>2457396</td>\n",
       "      <td>0</td>\n",
       "      <td>-2</td>\n",
       "      <td>1798</td>\n",
       "      <td>1406175</td>\n",
       "      <td>26</td>\n",
       "      <td>10</td>\n",
       "      <td>200000</td>\n",
       "      <td>96</td>\n",
       "      <td>5</td>\n",
       "      <td>128</td>\n",
       "      <td>1172</td>\n",
       "      <td>613</td>\n",
       "      <td>221726</td>\n",
       "      <td>4</td>\n",
       "      <td>2</td>\n",
       "      <td>1</td>\n",
       "      <td>9</td>\n",
       "      <td>False</td>\n",
       "      <td>3</td>\n",
       "      <td>999</td>\n",
       "      <td>6.013947e+09</td>\n",
       "      <td>1250000.0</td>\n",
       "      <td>200000.0</td>\n",
       "      <td>1.14</td>\n",
       "    </tr>\n",
       "    <tr>\n",
       "      <th>62</th>\n",
       "      <td>10240</td>\n",
       "      <td>2457410</td>\n",
       "      <td>2457500</td>\n",
       "      <td>4</td>\n",
       "      <td>-2</td>\n",
       "      <td>1798</td>\n",
       "      <td>701282</td>\n",
       "      <td>385</td>\n",
       "      <td>11</td>\n",
       "      <td>2500000</td>\n",
       "      <td>96</td>\n",
       "      <td>5</td>\n",
       "      <td>128</td>\n",
       "      <td>5079</td>\n",
       "      <td>613</td>\n",
       "      <td>22127</td>\n",
       "      <td>1</td>\n",
       "      <td>2</td>\n",
       "      <td>1</td>\n",
       "      <td>9</td>\n",
       "      <td>False</td>\n",
       "      <td>3</td>\n",
       "      <td>999</td>\n",
       "      <td>2.373577e+09</td>\n",
       "      <td>20000000.0</td>\n",
       "      <td>158650.0</td>\n",
       "      <td>1.50</td>\n",
       "    </tr>\n",
       "    <tr>\n",
       "      <th>73</th>\n",
       "      <td>5924</td>\n",
       "      <td>2457497</td>\n",
       "      <td>2457580</td>\n",
       "      <td>111</td>\n",
       "      <td>-2</td>\n",
       "      <td>1798</td>\n",
       "      <td>2810552</td>\n",
       "      <td>385</td>\n",
       "      <td>11</td>\n",
       "      <td>250000</td>\n",
       "      <td>96</td>\n",
       "      <td>5</td>\n",
       "      <td>128</td>\n",
       "      <td>4385</td>\n",
       "      <td>613</td>\n",
       "      <td>174335</td>\n",
       "      <td>3</td>\n",
       "      <td>2</td>\n",
       "      <td>1</td>\n",
       "      <td>9</td>\n",
       "      <td>False</td>\n",
       "      <td>3</td>\n",
       "      <td>999</td>\n",
       "      <td>8.933126e+09</td>\n",
       "      <td>2000000.0</td>\n",
       "      <td>140000.0</td>\n",
       "      <td>2.18</td>\n",
       "    </tr>\n",
       "    <tr>\n",
       "      <th>131</th>\n",
       "      <td>8017</td>\n",
       "      <td>2457531</td>\n",
       "      <td>2457590</td>\n",
       "      <td>111</td>\n",
       "      <td>-2</td>\n",
       "      <td>1798</td>\n",
       "      <td>-3</td>\n",
       "      <td>156</td>\n",
       "      <td>12</td>\n",
       "      <td>2500000</td>\n",
       "      <td>96</td>\n",
       "      <td>5</td>\n",
       "      <td>128</td>\n",
       "      <td>7758</td>\n",
       "      <td>1384</td>\n",
       "      <td>170209</td>\n",
       "      <td>3</td>\n",
       "      <td>1</td>\n",
       "      <td>5</td>\n",
       "      <td>8</td>\n",
       "      <td>False</td>\n",
       "      <td>3</td>\n",
       "      <td>999</td>\n",
       "      <td>2.206750e+06</td>\n",
       "      <td>15000000.0</td>\n",
       "      <td>147000.0</td>\n",
       "      <td>1.73</td>\n",
       "    </tr>\n",
       "    <tr>\n",
       "      <th>158</th>\n",
       "      <td>14371</td>\n",
       "      <td>2457592</td>\n",
       "      <td>2457648</td>\n",
       "      <td>93</td>\n",
       "      <td>-2</td>\n",
       "      <td>1798</td>\n",
       "      <td>760832</td>\n",
       "      <td>26</td>\n",
       "      <td>10</td>\n",
       "      <td>2500000</td>\n",
       "      <td>96</td>\n",
       "      <td>5</td>\n",
       "      <td>128</td>\n",
       "      <td>5089</td>\n",
       "      <td>613</td>\n",
       "      <td>131409</td>\n",
       "      <td>3</td>\n",
       "      <td>2</td>\n",
       "      <td>1</td>\n",
       "      <td>9</td>\n",
       "      <td>False</td>\n",
       "      <td>3</td>\n",
       "      <td>999</td>\n",
       "      <td>2.596667e+09</td>\n",
       "      <td>28555000.0</td>\n",
       "      <td>140000.0</td>\n",
       "      <td>3.08</td>\n",
       "    </tr>\n",
       "    <tr>\n",
       "      <th>170</th>\n",
       "      <td>4151</td>\n",
       "      <td>2457373</td>\n",
       "      <td>2457395</td>\n",
       "      <td>111</td>\n",
       "      <td>-2</td>\n",
       "      <td>1798</td>\n",
       "      <td>1598785</td>\n",
       "      <td>153</td>\n",
       "      <td>2</td>\n",
       "      <td>2987800</td>\n",
       "      <td>96</td>\n",
       "      <td>5</td>\n",
       "      <td>128</td>\n",
       "      <td>5127</td>\n",
       "      <td>613</td>\n",
       "      <td>182532</td>\n",
       "      <td>4</td>\n",
       "      <td>2</td>\n",
       "      <td>1</td>\n",
       "      <td>9</td>\n",
       "      <td>False</td>\n",
       "      <td>3</td>\n",
       "      <td>999</td>\n",
       "      <td>1.269060e+09</td>\n",
       "      <td>5400000.0</td>\n",
       "      <td>200000.0</td>\n",
       "      <td>2.40</td>\n",
       "    </tr>\n",
       "    <tr>\n",
       "      <th>190</th>\n",
       "      <td>14131</td>\n",
       "      <td>2457387</td>\n",
       "      <td>2457427</td>\n",
       "      <td>111</td>\n",
       "      <td>-2</td>\n",
       "      <td>1798</td>\n",
       "      <td>1944883</td>\n",
       "      <td>159</td>\n",
       "      <td>19</td>\n",
       "      <td>1800000</td>\n",
       "      <td>96</td>\n",
       "      <td>5</td>\n",
       "      <td>128</td>\n",
       "      <td>2686</td>\n",
       "      <td>613</td>\n",
       "      <td>183416</td>\n",
       "      <td>4</td>\n",
       "      <td>2</td>\n",
       "      <td>1</td>\n",
       "      <td>9</td>\n",
       "      <td>False</td>\n",
       "      <td>3</td>\n",
       "      <td>999</td>\n",
       "      <td>2.228846e+09</td>\n",
       "      <td>2500000.0</td>\n",
       "      <td>400000.0</td>\n",
       "      <td>2.79</td>\n",
       "    </tr>\n",
       "    <tr>\n",
       "      <th>204</th>\n",
       "      <td>3460</td>\n",
       "      <td>2457639</td>\n",
       "      <td>2457685</td>\n",
       "      <td>5</td>\n",
       "      <td>571558</td>\n",
       "      <td>413</td>\n",
       "      <td>2451254</td>\n",
       "      <td>58</td>\n",
       "      <td>6</td>\n",
       "      <td>11112000</td>\n",
       "      <td>96</td>\n",
       "      <td>5</td>\n",
       "      <td>265</td>\n",
       "      <td>6928</td>\n",
       "      <td>798</td>\n",
       "      <td>22116</td>\n",
       "      <td>1</td>\n",
       "      <td>2</td>\n",
       "      <td>2</td>\n",
       "      <td>4</td>\n",
       "      <td>False</td>\n",
       "      <td>3</td>\n",
       "      <td>999</td>\n",
       "      <td>2.494116e+09</td>\n",
       "      <td>11000000.0</td>\n",
       "      <td>140000.0</td>\n",
       "      <td>3.19</td>\n",
       "    </tr>\n",
       "    <tr>\n",
       "      <th>217</th>\n",
       "      <td>13134</td>\n",
       "      <td>2457596</td>\n",
       "      <td>2457690</td>\n",
       "      <td>93</td>\n",
       "      <td>-2</td>\n",
       "      <td>1798</td>\n",
       "      <td>2763546</td>\n",
       "      <td>26</td>\n",
       "      <td>10</td>\n",
       "      <td>2500000</td>\n",
       "      <td>96</td>\n",
       "      <td>5</td>\n",
       "      <td>189</td>\n",
       "      <td>8497</td>\n",
       "      <td>613</td>\n",
       "      <td>61058</td>\n",
       "      <td>2</td>\n",
       "      <td>2</td>\n",
       "      <td>1</td>\n",
       "      <td>9</td>\n",
       "      <td>False</td>\n",
       "      <td>3</td>\n",
       "      <td>999</td>\n",
       "      <td>2.570926e+09</td>\n",
       "      <td>28555000.0</td>\n",
       "      <td>200000.0</td>\n",
       "      <td>2.00</td>\n",
       "    </tr>\n",
       "    <tr>\n",
       "      <th>221</th>\n",
       "      <td>13731</td>\n",
       "      <td>2457375</td>\n",
       "      <td>2457436</td>\n",
       "      <td>111</td>\n",
       "      <td>-2</td>\n",
       "      <td>1798</td>\n",
       "      <td>1589293</td>\n",
       "      <td>159</td>\n",
       "      <td>19</td>\n",
       "      <td>108000</td>\n",
       "      <td>96</td>\n",
       "      <td>5</td>\n",
       "      <td>128</td>\n",
       "      <td>1968</td>\n",
       "      <td>613</td>\n",
       "      <td>80002</td>\n",
       "      <td>2</td>\n",
       "      <td>2</td>\n",
       "      <td>1</td>\n",
       "      <td>9</td>\n",
       "      <td>False</td>\n",
       "      <td>3</td>\n",
       "      <td>999</td>\n",
       "      <td>1.691944e+09</td>\n",
       "      <td>24000000.0</td>\n",
       "      <td>119900.0</td>\n",
       "      <td>1.63</td>\n",
       "    </tr>\n",
       "    <tr>\n",
       "      <th>224</th>\n",
       "      <td>9275</td>\n",
       "      <td>2457433</td>\n",
       "      <td>2457451</td>\n",
       "      <td>111</td>\n",
       "      <td>148239</td>\n",
       "      <td>802</td>\n",
       "      <td>2388260</td>\n",
       "      <td>227</td>\n",
       "      <td>1</td>\n",
       "      <td>500000</td>\n",
       "      <td>96</td>\n",
       "      <td>5</td>\n",
       "      <td>259</td>\n",
       "      <td>6843</td>\n",
       "      <td>1257</td>\n",
       "      <td>81141</td>\n",
       "      <td>2</td>\n",
       "      <td>2</td>\n",
       "      <td>2</td>\n",
       "      <td>4</td>\n",
       "      <td>False</td>\n",
       "      <td>3</td>\n",
       "      <td>999</td>\n",
       "      <td>8.805851e+09</td>\n",
       "      <td>6000000.0</td>\n",
       "      <td>200000.0</td>\n",
       "      <td>1.89</td>\n",
       "    </tr>\n",
       "    <tr>\n",
       "      <th>232</th>\n",
       "      <td>3050</td>\n",
       "      <td>2457622</td>\n",
       "      <td>2457701</td>\n",
       "      <td>5</td>\n",
       "      <td>-2</td>\n",
       "      <td>1798</td>\n",
       "      <td>2118231</td>\n",
       "      <td>26</td>\n",
       "      <td>10</td>\n",
       "      <td>300000</td>\n",
       "      <td>96</td>\n",
       "      <td>5</td>\n",
       "      <td>128</td>\n",
       "      <td>2968</td>\n",
       "      <td>613</td>\n",
       "      <td>162310</td>\n",
       "      <td>3</td>\n",
       "      <td>2</td>\n",
       "      <td>1</td>\n",
       "      <td>9</td>\n",
       "      <td>False</td>\n",
       "      <td>3</td>\n",
       "      <td>999</td>\n",
       "      <td>1.316324e+09</td>\n",
       "      <td>15000000.0</td>\n",
       "      <td>300000.0</td>\n",
       "      <td>2.14</td>\n",
       "    </tr>\n",
       "  </tbody>\n",
       "</table>\n",
       "</div>"
      ],
      "text/plain": [
       "        Id  ...  rata_rata_jumlah_transaksi\n",
       "2     1696  ...                        1.46\n",
       "4     7014  ...                        2.69\n",
       "8    14786  ...                        2.50\n",
       "10    4597  ...                        1.80\n",
       "33   12727  ...                        1.29\n",
       "34   14312  ...                        3.23\n",
       "39   14002  ...                        2.32\n",
       "48   11586  ...                        1.43\n",
       "59   11578  ...                        1.14\n",
       "62   10240  ...                        1.50\n",
       "73    5924  ...                        2.18\n",
       "131   8017  ...                        1.73\n",
       "158  14371  ...                        3.08\n",
       "170   4151  ...                        2.40\n",
       "190  14131  ...                        2.79\n",
       "204   3460  ...                        3.19\n",
       "217  13134  ...                        2.00\n",
       "221  13731  ...                        1.63\n",
       "224   9275  ...                        1.89\n",
       "232   3050  ...                        2.14\n",
       "\n",
       "[20 rows x 27 columns]"
      ]
     },
     "execution_count": 0,
     "metadata": {
      "tags": []
     },
     "output_type": "execute_result"
    }
   ],
   "source": [
    "Q1_minuji=uji[\"minimum_nilai_transaksi\"].quantile(0.25)\n",
    "Q3_minuji=uji[\"minimum_nilai_transaksi\"].quantile(0.75)\n",
    "IQR_minuji=Q3_min - Q1_minuji\n",
    "lower_range_minuji = Q1_minuji -(1.5 * IQR_minuji)\n",
    "upper_range_minuji= Q3_minuji +(1.5 * IQR_minuji)\n",
    "uji.loc[(uji[\"minimum_nilai_transaksi\"]>upper_range_minuji),:]"
   ]
  },
  {
   "cell_type": "code",
   "execution_count": null,
   "metadata": {
    "colab": {
     "background_save": true
    },
    "id": "6Y1jcuMIT9EU"
   },
   "outputs": [],
   "source": [
    "uji.loc[(uji[\"minimum_nilai_transaksi\"]>upper_range_minuji),\"minimum_nilai_transaksi\"]=upper_range_minuji"
   ]
  },
  {
   "cell_type": "code",
   "execution_count": null,
   "metadata": {
    "colab": {
     "background_save": true
    },
    "id": "RamDmbbiT9EV",
    "outputId": "aef43471-34c8-4d82-f183-7544f5ccb210"
   },
   "outputs": [
    {
     "data": {
      "text/html": [
       "<div>\n",
       "<style scoped>\n",
       "    .dataframe tbody tr th:only-of-type {\n",
       "        vertical-align: middle;\n",
       "    }\n",
       "\n",
       "    .dataframe tbody tr th {\n",
       "        vertical-align: top;\n",
       "    }\n",
       "\n",
       "    .dataframe thead th {\n",
       "        text-align: right;\n",
       "    }\n",
       "</style>\n",
       "<table border=\"1\" class=\"dataframe\">\n",
       "  <thead>\n",
       "    <tr style=\"text-align: right;\">\n",
       "      <th></th>\n",
       "      <th>Id</th>\n",
       "      <th>id_tanggal_transaksi_awal</th>\n",
       "      <th>tanggal_transaksi_awal</th>\n",
       "      <th>tipe_kartu</th>\n",
       "      <th>id_merchant</th>\n",
       "      <th>nama_merchant</th>\n",
       "      <th>tipe_mesin</th>\n",
       "      <th>tipe_transaksi</th>\n",
       "      <th>nama_transaksi</th>\n",
       "      <th>nilai_transaksi</th>\n",
       "      <th>id_negara</th>\n",
       "      <th>nama_negara</th>\n",
       "      <th>nama_kota</th>\n",
       "      <th>lokasi_mesin</th>\n",
       "      <th>pemilik_mesin</th>\n",
       "      <th>waktu_transaksi</th>\n",
       "      <th>kuartal_transaksi</th>\n",
       "      <th>kepemilikan_kartu</th>\n",
       "      <th>nama_channel</th>\n",
       "      <th>id_channel</th>\n",
       "      <th>flag_transaksi_finansial</th>\n",
       "      <th>status_transaksi</th>\n",
       "      <th>bank_pemilik_kartu</th>\n",
       "      <th>rata_rata_nilai_transaksi</th>\n",
       "      <th>maksimum_nilai_transaksi</th>\n",
       "      <th>minimum_nilai_transaksi</th>\n",
       "      <th>rata_rata_jumlah_transaksi</th>\n",
       "    </tr>\n",
       "  </thead>\n",
       "  <tbody>\n",
       "    <tr>\n",
       "      <th>5</th>\n",
       "      <td>13767</td>\n",
       "      <td>2457530</td>\n",
       "      <td>2457609</td>\n",
       "      <td>111</td>\n",
       "      <td>-2</td>\n",
       "      <td>1798</td>\n",
       "      <td>3181082</td>\n",
       "      <td>26</td>\n",
       "      <td>10</td>\n",
       "      <td>2000000</td>\n",
       "      <td>96</td>\n",
       "      <td>5</td>\n",
       "      <td>128</td>\n",
       "      <td>4547</td>\n",
       "      <td>613</td>\n",
       "      <td>173421</td>\n",
       "      <td>3</td>\n",
       "      <td>2</td>\n",
       "      <td>1</td>\n",
       "      <td>9</td>\n",
       "      <td>False</td>\n",
       "      <td>3</td>\n",
       "      <td>999</td>\n",
       "      <td>3.392190e+09</td>\n",
       "      <td>19900000.0</td>\n",
       "      <td>76000.0</td>\n",
       "      <td>4.00</td>\n",
       "    </tr>\n",
       "    <tr>\n",
       "      <th>31</th>\n",
       "      <td>5265</td>\n",
       "      <td>2457410</td>\n",
       "      <td>2457485</td>\n",
       "      <td>4</td>\n",
       "      <td>-2</td>\n",
       "      <td>1798</td>\n",
       "      <td>91</td>\n",
       "      <td>385</td>\n",
       "      <td>11</td>\n",
       "      <td>3460210</td>\n",
       "      <td>96</td>\n",
       "      <td>5</td>\n",
       "      <td>186</td>\n",
       "      <td>5582</td>\n",
       "      <td>613</td>\n",
       "      <td>120649</td>\n",
       "      <td>3</td>\n",
       "      <td>2</td>\n",
       "      <td>1</td>\n",
       "      <td>9</td>\n",
       "      <td>False</td>\n",
       "      <td>3</td>\n",
       "      <td>999</td>\n",
       "      <td>1.901405e+09</td>\n",
       "      <td>20000000.0</td>\n",
       "      <td>100000.0</td>\n",
       "      <td>4.26</td>\n",
       "    </tr>\n",
       "    <tr>\n",
       "      <th>49</th>\n",
       "      <td>1522</td>\n",
       "      <td>2457313</td>\n",
       "      <td>2457391</td>\n",
       "      <td>93</td>\n",
       "      <td>-2</td>\n",
       "      <td>1798</td>\n",
       "      <td>2421258</td>\n",
       "      <td>26</td>\n",
       "      <td>10</td>\n",
       "      <td>50000</td>\n",
       "      <td>96</td>\n",
       "      <td>5</td>\n",
       "      <td>203</td>\n",
       "      <td>3620</td>\n",
       "      <td>613</td>\n",
       "      <td>214350</td>\n",
       "      <td>4</td>\n",
       "      <td>2</td>\n",
       "      <td>1</td>\n",
       "      <td>9</td>\n",
       "      <td>False</td>\n",
       "      <td>3</td>\n",
       "      <td>999</td>\n",
       "      <td>1.005667e+09</td>\n",
       "      <td>28000000.0</td>\n",
       "      <td>40000.0</td>\n",
       "      <td>10.59</td>\n",
       "    </tr>\n",
       "    <tr>\n",
       "      <th>63</th>\n",
       "      <td>5206</td>\n",
       "      <td>2457517</td>\n",
       "      <td>2457566</td>\n",
       "      <td>93</td>\n",
       "      <td>-2</td>\n",
       "      <td>1798</td>\n",
       "      <td>2176668</td>\n",
       "      <td>238</td>\n",
       "      <td>9</td>\n",
       "      <td>2950000</td>\n",
       "      <td>96</td>\n",
       "      <td>5</td>\n",
       "      <td>251</td>\n",
       "      <td>7892</td>\n",
       "      <td>613</td>\n",
       "      <td>94142</td>\n",
       "      <td>2</td>\n",
       "      <td>2</td>\n",
       "      <td>1</td>\n",
       "      <td>9</td>\n",
       "      <td>False</td>\n",
       "      <td>3</td>\n",
       "      <td>999</td>\n",
       "      <td>5.532031e+09</td>\n",
       "      <td>33750000.0</td>\n",
       "      <td>11500.0</td>\n",
       "      <td>5.83</td>\n",
       "    </tr>\n",
       "    <tr>\n",
       "      <th>65</th>\n",
       "      <td>12717</td>\n",
       "      <td>2457444</td>\n",
       "      <td>2457503</td>\n",
       "      <td>93</td>\n",
       "      <td>-2</td>\n",
       "      <td>1798</td>\n",
       "      <td>2086341</td>\n",
       "      <td>385</td>\n",
       "      <td>11</td>\n",
       "      <td>2500000</td>\n",
       "      <td>96</td>\n",
       "      <td>5</td>\n",
       "      <td>265</td>\n",
       "      <td>3086</td>\n",
       "      <td>613</td>\n",
       "      <td>65437</td>\n",
       "      <td>2</td>\n",
       "      <td>2</td>\n",
       "      <td>1</td>\n",
       "      <td>9</td>\n",
       "      <td>False</td>\n",
       "      <td>3</td>\n",
       "      <td>999</td>\n",
       "      <td>1.667487e+09</td>\n",
       "      <td>20000000.0</td>\n",
       "      <td>48500.0</td>\n",
       "      <td>4.15</td>\n",
       "    </tr>\n",
       "    <tr>\n",
       "      <th>76</th>\n",
       "      <td>4798</td>\n",
       "      <td>2457349</td>\n",
       "      <td>2457377</td>\n",
       "      <td>111</td>\n",
       "      <td>-2</td>\n",
       "      <td>1798</td>\n",
       "      <td>226362</td>\n",
       "      <td>238</td>\n",
       "      <td>9</td>\n",
       "      <td>200000</td>\n",
       "      <td>96</td>\n",
       "      <td>5</td>\n",
       "      <td>128</td>\n",
       "      <td>5363</td>\n",
       "      <td>613</td>\n",
       "      <td>203700</td>\n",
       "      <td>4</td>\n",
       "      <td>2</td>\n",
       "      <td>1</td>\n",
       "      <td>9</td>\n",
       "      <td>False</td>\n",
       "      <td>3</td>\n",
       "      <td>999</td>\n",
       "      <td>2.248279e+09</td>\n",
       "      <td>33750000.0</td>\n",
       "      <td>25000.0</td>\n",
       "      <td>4.47</td>\n",
       "    </tr>\n",
       "    <tr>\n",
       "      <th>95</th>\n",
       "      <td>10043</td>\n",
       "      <td>2457598</td>\n",
       "      <td>2457605</td>\n",
       "      <td>111</td>\n",
       "      <td>-2</td>\n",
       "      <td>1798</td>\n",
       "      <td>2632326</td>\n",
       "      <td>238</td>\n",
       "      <td>9</td>\n",
       "      <td>1000000</td>\n",
       "      <td>96</td>\n",
       "      <td>5</td>\n",
       "      <td>128</td>\n",
       "      <td>8039</td>\n",
       "      <td>613</td>\n",
       "      <td>160438</td>\n",
       "      <td>3</td>\n",
       "      <td>2</td>\n",
       "      <td>1</td>\n",
       "      <td>9</td>\n",
       "      <td>False</td>\n",
       "      <td>3</td>\n",
       "      <td>999</td>\n",
       "      <td>2.820267e+09</td>\n",
       "      <td>33750000.0</td>\n",
       "      <td>50000.0</td>\n",
       "      <td>4.15</td>\n",
       "    </tr>\n",
       "    <tr>\n",
       "      <th>101</th>\n",
       "      <td>3051</td>\n",
       "      <td>2457389</td>\n",
       "      <td>2457467</td>\n",
       "      <td>93</td>\n",
       "      <td>-2</td>\n",
       "      <td>1798</td>\n",
       "      <td>329209</td>\n",
       "      <td>147</td>\n",
       "      <td>3</td>\n",
       "      <td>2555227</td>\n",
       "      <td>96</td>\n",
       "      <td>5</td>\n",
       "      <td>96</td>\n",
       "      <td>4844</td>\n",
       "      <td>613</td>\n",
       "      <td>155948</td>\n",
       "      <td>3</td>\n",
       "      <td>2</td>\n",
       "      <td>1</td>\n",
       "      <td>9</td>\n",
       "      <td>False</td>\n",
       "      <td>3</td>\n",
       "      <td>999</td>\n",
       "      <td>5.351677e+09</td>\n",
       "      <td>33750000.0</td>\n",
       "      <td>15000.0</td>\n",
       "      <td>4.22</td>\n",
       "    </tr>\n",
       "    <tr>\n",
       "      <th>148</th>\n",
       "      <td>6715</td>\n",
       "      <td>2457437</td>\n",
       "      <td>2457526</td>\n",
       "      <td>104</td>\n",
       "      <td>-2</td>\n",
       "      <td>1798</td>\n",
       "      <td>1518190</td>\n",
       "      <td>385</td>\n",
       "      <td>11</td>\n",
       "      <td>1250000</td>\n",
       "      <td>96</td>\n",
       "      <td>5</td>\n",
       "      <td>265</td>\n",
       "      <td>1622</td>\n",
       "      <td>613</td>\n",
       "      <td>84325</td>\n",
       "      <td>2</td>\n",
       "      <td>2</td>\n",
       "      <td>1</td>\n",
       "      <td>9</td>\n",
       "      <td>False</td>\n",
       "      <td>3</td>\n",
       "      <td>999</td>\n",
       "      <td>3.232432e+09</td>\n",
       "      <td>2450000.0</td>\n",
       "      <td>10.0</td>\n",
       "      <td>4.99</td>\n",
       "    </tr>\n",
       "    <tr>\n",
       "      <th>169</th>\n",
       "      <td>6074</td>\n",
       "      <td>2457348</td>\n",
       "      <td>2457415</td>\n",
       "      <td>111</td>\n",
       "      <td>-2</td>\n",
       "      <td>1798</td>\n",
       "      <td>1325553</td>\n",
       "      <td>26</td>\n",
       "      <td>10</td>\n",
       "      <td>1250000</td>\n",
       "      <td>96</td>\n",
       "      <td>5</td>\n",
       "      <td>128</td>\n",
       "      <td>815</td>\n",
       "      <td>613</td>\n",
       "      <td>82108</td>\n",
       "      <td>2</td>\n",
       "      <td>2</td>\n",
       "      <td>1</td>\n",
       "      <td>9</td>\n",
       "      <td>False</td>\n",
       "      <td>3</td>\n",
       "      <td>999</td>\n",
       "      <td>2.579913e+09</td>\n",
       "      <td>1700000.0</td>\n",
       "      <td>20300.0</td>\n",
       "      <td>5.05</td>\n",
       "    </tr>\n",
       "    <tr>\n",
       "      <th>175</th>\n",
       "      <td>14963</td>\n",
       "      <td>2457524</td>\n",
       "      <td>2457551</td>\n",
       "      <td>104</td>\n",
       "      <td>279608</td>\n",
       "      <td>7</td>\n",
       "      <td>2436339</td>\n",
       "      <td>58</td>\n",
       "      <td>6</td>\n",
       "      <td>3041500</td>\n",
       "      <td>96</td>\n",
       "      <td>5</td>\n",
       "      <td>265</td>\n",
       "      <td>6880</td>\n",
       "      <td>96</td>\n",
       "      <td>154712</td>\n",
       "      <td>3</td>\n",
       "      <td>2</td>\n",
       "      <td>2</td>\n",
       "      <td>4</td>\n",
       "      <td>False</td>\n",
       "      <td>3</td>\n",
       "      <td>999</td>\n",
       "      <td>2.254352e+09</td>\n",
       "      <td>12847600.0</td>\n",
       "      <td>100000.0</td>\n",
       "      <td>4.65</td>\n",
       "    </tr>\n",
       "    <tr>\n",
       "      <th>227</th>\n",
       "      <td>2979</td>\n",
       "      <td>2457530</td>\n",
       "      <td>2457552</td>\n",
       "      <td>111</td>\n",
       "      <td>-2</td>\n",
       "      <td>1798</td>\n",
       "      <td>1180308</td>\n",
       "      <td>385</td>\n",
       "      <td>11</td>\n",
       "      <td>500000</td>\n",
       "      <td>96</td>\n",
       "      <td>5</td>\n",
       "      <td>128</td>\n",
       "      <td>516</td>\n",
       "      <td>613</td>\n",
       "      <td>125005</td>\n",
       "      <td>3</td>\n",
       "      <td>2</td>\n",
       "      <td>1</td>\n",
       "      <td>9</td>\n",
       "      <td>False</td>\n",
       "      <td>3</td>\n",
       "      <td>999</td>\n",
       "      <td>1.256329e+08</td>\n",
       "      <td>12500000.0</td>\n",
       "      <td>75000.0</td>\n",
       "      <td>5.43</td>\n",
       "    </tr>\n",
       "  </tbody>\n",
       "</table>\n",
       "</div>"
      ],
      "text/plain": [
       "        Id  ...  rata_rata_jumlah_transaksi\n",
       "5    13767  ...                        4.00\n",
       "31    5265  ...                        4.26\n",
       "49    1522  ...                       10.59\n",
       "63    5206  ...                        5.83\n",
       "65   12717  ...                        4.15\n",
       "76    4798  ...                        4.47\n",
       "95   10043  ...                        4.15\n",
       "101   3051  ...                        4.22\n",
       "148   6715  ...                        4.99\n",
       "169   6074  ...                        5.05\n",
       "175  14963  ...                        4.65\n",
       "227   2979  ...                        5.43\n",
       "\n",
       "[12 rows x 27 columns]"
      ]
     },
     "execution_count": 0,
     "metadata": {
      "tags": []
     },
     "output_type": "execute_result"
    }
   ],
   "source": [
    "Q1_ratauji=uji[\"rata_rata_jumlah_transaksi\"].quantile(0.25)\n",
    "Q3_ratauji=uji[\"rata_rata_jumlah_transaksi\"].quantile(0.75)\n",
    "IQR_ratauji=Q3_ratauji - Q1_ratauji\n",
    "lower_range_ratauji = Q1_ratauji -(1.5 * IQR_ratauji)\n",
    "upper_range_ratauji= Q3_ratauji +(1.5 * IQR_ratauji)\n",
    "uji.loc[(uji[\"rata_rata_jumlah_transaksi\"]>upper_range_ratauji),:]"
   ]
  },
  {
   "cell_type": "code",
   "execution_count": null,
   "metadata": {
    "colab": {
     "background_save": true
    },
    "id": "-KYAZfu0T9EW"
   },
   "outputs": [],
   "source": [
    "uji.loc[(uji[\"rata_rata_jumlah_transaksi\"]>upper_range_ratauji),\"rata_rata_jumlah_transaksi\"]=upper_range_ratauji"
   ]
  },
  {
   "cell_type": "markdown",
   "metadata": {
    "id": "jtildfsnVwob"
   },
   "source": [
    "## Applying Model"
   ]
  },
  {
   "cell_type": "code",
   "execution_count": null,
   "metadata": {
    "colab": {
     "background_save": true
    },
    "id": "FjGS1sbiVwod"
   },
   "outputs": [],
   "source": [
    "ujiready = uji.drop(labels=['Id','flag_transaksi_finansial'], axis=1)"
   ]
  },
  {
   "cell_type": "code",
   "execution_count": null,
   "metadata": {
    "colab": {
     "background_save": true
    },
    "id": "DH2h9-hWVwof",
    "outputId": "30267a39-adf5-4be5-d61b-c1beef124fd6"
   },
   "outputs": [
    {
     "data": {
      "text/html": [
       "<div>\n",
       "<style scoped>\n",
       "    .dataframe tbody tr th:only-of-type {\n",
       "        vertical-align: middle;\n",
       "    }\n",
       "\n",
       "    .dataframe tbody tr th {\n",
       "        vertical-align: top;\n",
       "    }\n",
       "\n",
       "    .dataframe thead th {\n",
       "        text-align: right;\n",
       "    }\n",
       "</style>\n",
       "<table border=\"1\" class=\"dataframe\">\n",
       "  <thead>\n",
       "    <tr style=\"text-align: right;\">\n",
       "      <th></th>\n",
       "      <th>id_tanggal_transaksi_awal</th>\n",
       "      <th>tanggal_transaksi_awal</th>\n",
       "      <th>tipe_kartu</th>\n",
       "      <th>id_merchant</th>\n",
       "      <th>nama_merchant</th>\n",
       "      <th>tipe_mesin</th>\n",
       "      <th>tipe_transaksi</th>\n",
       "      <th>nama_transaksi</th>\n",
       "      <th>nilai_transaksi</th>\n",
       "      <th>id_negara</th>\n",
       "      <th>nama_negara</th>\n",
       "      <th>nama_kota</th>\n",
       "      <th>lokasi_mesin</th>\n",
       "      <th>pemilik_mesin</th>\n",
       "      <th>waktu_transaksi</th>\n",
       "      <th>kuartal_transaksi</th>\n",
       "      <th>kepemilikan_kartu</th>\n",
       "      <th>nama_channel</th>\n",
       "      <th>id_channel</th>\n",
       "      <th>status_transaksi</th>\n",
       "      <th>bank_pemilik_kartu</th>\n",
       "      <th>rata_rata_nilai_transaksi</th>\n",
       "      <th>maksimum_nilai_transaksi</th>\n",
       "      <th>minimum_nilai_transaksi</th>\n",
       "      <th>rata_rata_jumlah_transaksi</th>\n",
       "    </tr>\n",
       "  </thead>\n",
       "  <tbody>\n",
       "    <tr>\n",
       "      <th>0</th>\n",
       "      <td>2457607</td>\n",
       "      <td>2457703</td>\n",
       "      <td>111</td>\n",
       "      <td>-2</td>\n",
       "      <td>1798</td>\n",
       "      <td>1590933</td>\n",
       "      <td>385</td>\n",
       "      <td>11</td>\n",
       "      <td>1250000</td>\n",
       "      <td>96</td>\n",
       "      <td>5</td>\n",
       "      <td>241</td>\n",
       "      <td>1835</td>\n",
       "      <td>613</td>\n",
       "      <td>162158</td>\n",
       "      <td>3</td>\n",
       "      <td>2</td>\n",
       "      <td>1</td>\n",
       "      <td>9</td>\n",
       "      <td>3</td>\n",
       "      <td>999</td>\n",
       "      <td>2.877203e+09</td>\n",
       "      <td>2300000.0</td>\n",
       "      <td>21600.0</td>\n",
       "      <td>1.20</td>\n",
       "    </tr>\n",
       "    <tr>\n",
       "      <th>1</th>\n",
       "      <td>2457579</td>\n",
       "      <td>2457592</td>\n",
       "      <td>93</td>\n",
       "      <td>-2</td>\n",
       "      <td>1798</td>\n",
       "      <td>2687662</td>\n",
       "      <td>26</td>\n",
       "      <td>10</td>\n",
       "      <td>50000</td>\n",
       "      <td>96</td>\n",
       "      <td>5</td>\n",
       "      <td>128</td>\n",
       "      <td>4173</td>\n",
       "      <td>613</td>\n",
       "      <td>104856</td>\n",
       "      <td>2</td>\n",
       "      <td>2</td>\n",
       "      <td>1</td>\n",
       "      <td>9</td>\n",
       "      <td>3</td>\n",
       "      <td>999</td>\n",
       "      <td>3.389742e+09</td>\n",
       "      <td>1400000.0</td>\n",
       "      <td>64524.0</td>\n",
       "      <td>1.52</td>\n",
       "    </tr>\n",
       "    <tr>\n",
       "      <th>2</th>\n",
       "      <td>2457349</td>\n",
       "      <td>2457359</td>\n",
       "      <td>103</td>\n",
       "      <td>-2</td>\n",
       "      <td>1798</td>\n",
       "      <td>2254860</td>\n",
       "      <td>385</td>\n",
       "      <td>11</td>\n",
       "      <td>500000</td>\n",
       "      <td>96</td>\n",
       "      <td>5</td>\n",
       "      <td>128</td>\n",
       "      <td>3195</td>\n",
       "      <td>613</td>\n",
       "      <td>145437</td>\n",
       "      <td>3</td>\n",
       "      <td>2</td>\n",
       "      <td>1</td>\n",
       "      <td>9</td>\n",
       "      <td>3</td>\n",
       "      <td>999</td>\n",
       "      <td>7.974732e+08</td>\n",
       "      <td>1750000.0</td>\n",
       "      <td>115575.0</td>\n",
       "      <td>1.46</td>\n",
       "    </tr>\n",
       "    <tr>\n",
       "      <th>3</th>\n",
       "      <td>2457623</td>\n",
       "      <td>2457637</td>\n",
       "      <td>0</td>\n",
       "      <td>128022</td>\n",
       "      <td>1254</td>\n",
       "      <td>2688775</td>\n",
       "      <td>58</td>\n",
       "      <td>6</td>\n",
       "      <td>45000</td>\n",
       "      <td>96</td>\n",
       "      <td>5</td>\n",
       "      <td>70</td>\n",
       "      <td>6649</td>\n",
       "      <td>1864</td>\n",
       "      <td>113028</td>\n",
       "      <td>2</td>\n",
       "      <td>2</td>\n",
       "      <td>2</td>\n",
       "      <td>4</td>\n",
       "      <td>3</td>\n",
       "      <td>999</td>\n",
       "      <td>6.457195e+09</td>\n",
       "      <td>8000000.0</td>\n",
       "      <td>23000.0</td>\n",
       "      <td>2.90</td>\n",
       "    </tr>\n",
       "    <tr>\n",
       "      <th>4</th>\n",
       "      <td>2457467</td>\n",
       "      <td>2457499</td>\n",
       "      <td>93</td>\n",
       "      <td>-2</td>\n",
       "      <td>1798</td>\n",
       "      <td>-3</td>\n",
       "      <td>156</td>\n",
       "      <td>12</td>\n",
       "      <td>1000000</td>\n",
       "      <td>96</td>\n",
       "      <td>5</td>\n",
       "      <td>8</td>\n",
       "      <td>4</td>\n",
       "      <td>9</td>\n",
       "      <td>171338</td>\n",
       "      <td>3</td>\n",
       "      <td>1</td>\n",
       "      <td>5</td>\n",
       "      <td>8</td>\n",
       "      <td>3</td>\n",
       "      <td>999</td>\n",
       "      <td>2.116286e+09</td>\n",
       "      <td>12000000.0</td>\n",
       "      <td>115575.0</td>\n",
       "      <td>2.69</td>\n",
       "    </tr>\n",
       "  </tbody>\n",
       "</table>\n",
       "</div>"
      ],
      "text/plain": [
       "   id_tanggal_transaksi_awal  ...  rata_rata_jumlah_transaksi\n",
       "0                    2457607  ...                        1.20\n",
       "1                    2457579  ...                        1.52\n",
       "2                    2457349  ...                        1.46\n",
       "3                    2457623  ...                        2.90\n",
       "4                    2457467  ...                        2.69\n",
       "\n",
       "[5 rows x 25 columns]"
      ]
     },
     "execution_count": 0,
     "metadata": {
      "tags": []
     },
     "output_type": "execute_result"
    }
   ],
   "source": [
    "ujiready.head()"
   ]
  },
  {
   "cell_type": "code",
   "execution_count": null,
   "metadata": {
    "colab": {
     "background_save": true
    },
    "id": "uZlO7pgPVwok",
    "outputId": "d0edc208-5b9e-4b23-d8a2-4046837fd3d2"
   },
   "outputs": [
    {
     "data": {
      "text/plain": [
       "(240, 25)"
      ]
     },
     "execution_count": 0,
     "metadata": {
      "tags": []
     },
     "output_type": "execute_result"
    }
   ],
   "source": [
    "ujiready.shape"
   ]
  },
  {
   "cell_type": "markdown",
   "metadata": {
    "id": "l-6PzBDygNoT"
   },
   "source": [
    "### LR"
   ]
  },
  {
   "cell_type": "code",
   "execution_count": null,
   "metadata": {
    "colab": {
     "background_save": true
    },
    "id": "RZTjqlcnaqLJ"
   },
   "outputs": [],
   "source": [
    "preduji1=CV_lr.predict(ujiready)"
   ]
  },
  {
   "cell_type": "code",
   "execution_count": null,
   "metadata": {
    "colab": {
     "background_save": true
    },
    "id": "fUPN0qM-gST0"
   },
   "outputs": [],
   "source": [
    "pred1 = pd.DataFrame(preduji1, columns =['flag_transaksi_fraud'])"
   ]
  },
  {
   "cell_type": "code",
   "execution_count": null,
   "metadata": {
    "colab": {
     "background_save": true
    },
    "id": "j1zQUdKEhUqs"
   },
   "outputs": [],
   "source": [
    "uji['flag_transaksi_fraud'] = pred1"
   ]
  },
  {
   "cell_type": "code",
   "execution_count": null,
   "metadata": {
    "colab": {
     "background_save": true
    },
    "id": "OPlQijRghkHw",
    "outputId": "e2428be7-631b-4223-d207-ac5c79138dd9"
   },
   "outputs": [
    {
     "data": {
      "text/plain": [
       "0    0\n",
       "1    0\n",
       "2    0\n",
       "3    0\n",
       "4    1\n",
       "Name: flag_transaksi_fraud, dtype: int64"
      ]
     },
     "execution_count": 0,
     "metadata": {
      "tags": []
     },
     "output_type": "execute_result"
    }
   ],
   "source": [
    "uji['flag_transaksi_fraud'].head()"
   ]
  },
  {
   "cell_type": "code",
   "execution_count": null,
   "metadata": {
    "colab": {
     "background_save": true
    },
    "id": "0mFI_6LRqNXP"
   },
   "outputs": [],
   "source": [
    "hasil1 = uji[['Id', 'flag_transaksi_fraud']]"
   ]
  },
  {
   "cell_type": "code",
   "execution_count": null,
   "metadata": {
    "colab": {
     "background_save": true
    },
    "id": "GeyAInrvqa7w",
    "outputId": "09099682-678f-468e-d062-e4d8bf300084"
   },
   "outputs": [
    {
     "data": {
      "text/html": [
       "<div>\n",
       "<style scoped>\n",
       "    .dataframe tbody tr th:only-of-type {\n",
       "        vertical-align: middle;\n",
       "    }\n",
       "\n",
       "    .dataframe tbody tr th {\n",
       "        vertical-align: top;\n",
       "    }\n",
       "\n",
       "    .dataframe thead th {\n",
       "        text-align: right;\n",
       "    }\n",
       "</style>\n",
       "<table border=\"1\" class=\"dataframe\">\n",
       "  <thead>\n",
       "    <tr style=\"text-align: right;\">\n",
       "      <th></th>\n",
       "      <th>Id</th>\n",
       "      <th>flag_transaksi_fraud</th>\n",
       "    </tr>\n",
       "  </thead>\n",
       "  <tbody>\n",
       "    <tr>\n",
       "      <th>0</th>\n",
       "      <td>6678</td>\n",
       "      <td>0</td>\n",
       "    </tr>\n",
       "    <tr>\n",
       "      <th>1</th>\n",
       "      <td>437</td>\n",
       "      <td>0</td>\n",
       "    </tr>\n",
       "    <tr>\n",
       "      <th>2</th>\n",
       "      <td>1696</td>\n",
       "      <td>0</td>\n",
       "    </tr>\n",
       "    <tr>\n",
       "      <th>3</th>\n",
       "      <td>8868</td>\n",
       "      <td>0</td>\n",
       "    </tr>\n",
       "    <tr>\n",
       "      <th>4</th>\n",
       "      <td>7014</td>\n",
       "      <td>1</td>\n",
       "    </tr>\n",
       "  </tbody>\n",
       "</table>\n",
       "</div>"
      ],
      "text/plain": [
       "     Id  flag_transaksi_fraud\n",
       "0  6678                     0\n",
       "1   437                     0\n",
       "2  1696                     0\n",
       "3  8868                     0\n",
       "4  7014                     1"
      ]
     },
     "execution_count": 0,
     "metadata": {
      "tags": []
     },
     "output_type": "execute_result"
    }
   ],
   "source": [
    "hasil1.head()"
   ]
  },
  {
   "cell_type": "code",
   "execution_count": null,
   "metadata": {
    "colab": {
     "background_save": true
    },
    "id": "RSItILZho7FW"
   },
   "outputs": [],
   "source": [
    "hasil1.to_csv('submission1.csv', index=False)"
   ]
  },
  {
   "cell_type": "markdown",
   "metadata": {
    "id": "dZQpLTnYjZGu"
   },
   "source": [
    "### XGB"
   ]
  },
  {
   "cell_type": "code",
   "execution_count": null,
   "metadata": {
    "colab": {
     "background_save": true
    },
    "id": "l1VH0j1ojZHA"
   },
   "outputs": [],
   "source": [
    "preduji2=xgb.predict(ujiready)"
   ]
  },
  {
   "cell_type": "code",
   "execution_count": null,
   "metadata": {
    "colab": {
     "background_save": true
    },
    "id": "H-e_OdzEjZHA"
   },
   "outputs": [],
   "source": [
    "pred2 = pd.DataFrame(preduji2, columns =['flag_transaksi_fraud'])"
   ]
  },
  {
   "cell_type": "code",
   "execution_count": null,
   "metadata": {
    "colab": {
     "background_save": true
    },
    "id": "XqBNFGbwsX3z"
   },
   "outputs": [],
   "source": [
    "uji['flag_transaksi_fraud'] = pred2"
   ]
  },
  {
   "cell_type": "code",
   "execution_count": null,
   "metadata": {
    "colab": {
     "background_save": true
    },
    "id": "_fkQh5syjZHB",
    "outputId": "452fcc04-7be0-4cdf-e2a7-d8b57eed2a43"
   },
   "outputs": [
    {
     "data": {
      "text/html": [
       "<div>\n",
       "<style scoped>\n",
       "    .dataframe tbody tr th:only-of-type {\n",
       "        vertical-align: middle;\n",
       "    }\n",
       "\n",
       "    .dataframe tbody tr th {\n",
       "        vertical-align: top;\n",
       "    }\n",
       "\n",
       "    .dataframe thead th {\n",
       "        text-align: right;\n",
       "    }\n",
       "</style>\n",
       "<table border=\"1\" class=\"dataframe\">\n",
       "  <thead>\n",
       "    <tr style=\"text-align: right;\">\n",
       "      <th></th>\n",
       "      <th>Id</th>\n",
       "      <th>id_tanggal_transaksi_awal</th>\n",
       "      <th>tanggal_transaksi_awal</th>\n",
       "      <th>tipe_kartu</th>\n",
       "      <th>id_merchant</th>\n",
       "      <th>nama_merchant</th>\n",
       "      <th>tipe_mesin</th>\n",
       "      <th>tipe_transaksi</th>\n",
       "      <th>nama_transaksi</th>\n",
       "      <th>nilai_transaksi</th>\n",
       "      <th>id_negara</th>\n",
       "      <th>nama_negara</th>\n",
       "      <th>nama_kota</th>\n",
       "      <th>lokasi_mesin</th>\n",
       "      <th>pemilik_mesin</th>\n",
       "      <th>waktu_transaksi</th>\n",
       "      <th>kuartal_transaksi</th>\n",
       "      <th>kepemilikan_kartu</th>\n",
       "      <th>nama_channel</th>\n",
       "      <th>id_channel</th>\n",
       "      <th>flag_transaksi_finansial</th>\n",
       "      <th>status_transaksi</th>\n",
       "      <th>bank_pemilik_kartu</th>\n",
       "      <th>rata_rata_nilai_transaksi</th>\n",
       "      <th>maksimum_nilai_transaksi</th>\n",
       "      <th>minimum_nilai_transaksi</th>\n",
       "      <th>rata_rata_jumlah_transaksi</th>\n",
       "      <th>flag_transaksi_fraud</th>\n",
       "    </tr>\n",
       "  </thead>\n",
       "  <tbody>\n",
       "    <tr>\n",
       "      <th>0</th>\n",
       "      <td>6678</td>\n",
       "      <td>2457607</td>\n",
       "      <td>2457703</td>\n",
       "      <td>111</td>\n",
       "      <td>-2</td>\n",
       "      <td>1798</td>\n",
       "      <td>1590933</td>\n",
       "      <td>385</td>\n",
       "      <td>11</td>\n",
       "      <td>1250000</td>\n",
       "      <td>96</td>\n",
       "      <td>5</td>\n",
       "      <td>241</td>\n",
       "      <td>1835</td>\n",
       "      <td>613</td>\n",
       "      <td>162158</td>\n",
       "      <td>3</td>\n",
       "      <td>2</td>\n",
       "      <td>1</td>\n",
       "      <td>9</td>\n",
       "      <td>False</td>\n",
       "      <td>3</td>\n",
       "      <td>999</td>\n",
       "      <td>2.877203e+09</td>\n",
       "      <td>2300000.0</td>\n",
       "      <td>21600.0</td>\n",
       "      <td>1.20</td>\n",
       "      <td>0</td>\n",
       "    </tr>\n",
       "    <tr>\n",
       "      <th>1</th>\n",
       "      <td>437</td>\n",
       "      <td>2457579</td>\n",
       "      <td>2457592</td>\n",
       "      <td>93</td>\n",
       "      <td>-2</td>\n",
       "      <td>1798</td>\n",
       "      <td>2687662</td>\n",
       "      <td>26</td>\n",
       "      <td>10</td>\n",
       "      <td>50000</td>\n",
       "      <td>96</td>\n",
       "      <td>5</td>\n",
       "      <td>128</td>\n",
       "      <td>4173</td>\n",
       "      <td>613</td>\n",
       "      <td>104856</td>\n",
       "      <td>2</td>\n",
       "      <td>2</td>\n",
       "      <td>1</td>\n",
       "      <td>9</td>\n",
       "      <td>False</td>\n",
       "      <td>3</td>\n",
       "      <td>999</td>\n",
       "      <td>3.389742e+09</td>\n",
       "      <td>1400000.0</td>\n",
       "      <td>64524.0</td>\n",
       "      <td>1.52</td>\n",
       "      <td>0</td>\n",
       "    </tr>\n",
       "    <tr>\n",
       "      <th>2</th>\n",
       "      <td>1696</td>\n",
       "      <td>2457349</td>\n",
       "      <td>2457359</td>\n",
       "      <td>103</td>\n",
       "      <td>-2</td>\n",
       "      <td>1798</td>\n",
       "      <td>2254860</td>\n",
       "      <td>385</td>\n",
       "      <td>11</td>\n",
       "      <td>500000</td>\n",
       "      <td>96</td>\n",
       "      <td>5</td>\n",
       "      <td>128</td>\n",
       "      <td>3195</td>\n",
       "      <td>613</td>\n",
       "      <td>145437</td>\n",
       "      <td>3</td>\n",
       "      <td>2</td>\n",
       "      <td>1</td>\n",
       "      <td>9</td>\n",
       "      <td>False</td>\n",
       "      <td>3</td>\n",
       "      <td>999</td>\n",
       "      <td>7.974732e+08</td>\n",
       "      <td>1750000.0</td>\n",
       "      <td>115575.0</td>\n",
       "      <td>1.46</td>\n",
       "      <td>0</td>\n",
       "    </tr>\n",
       "    <tr>\n",
       "      <th>3</th>\n",
       "      <td>8868</td>\n",
       "      <td>2457623</td>\n",
       "      <td>2457637</td>\n",
       "      <td>0</td>\n",
       "      <td>128022</td>\n",
       "      <td>1254</td>\n",
       "      <td>2688775</td>\n",
       "      <td>58</td>\n",
       "      <td>6</td>\n",
       "      <td>45000</td>\n",
       "      <td>96</td>\n",
       "      <td>5</td>\n",
       "      <td>70</td>\n",
       "      <td>6649</td>\n",
       "      <td>1864</td>\n",
       "      <td>113028</td>\n",
       "      <td>2</td>\n",
       "      <td>2</td>\n",
       "      <td>2</td>\n",
       "      <td>4</td>\n",
       "      <td>False</td>\n",
       "      <td>3</td>\n",
       "      <td>999</td>\n",
       "      <td>6.457195e+09</td>\n",
       "      <td>8000000.0</td>\n",
       "      <td>23000.0</td>\n",
       "      <td>2.90</td>\n",
       "      <td>0</td>\n",
       "    </tr>\n",
       "    <tr>\n",
       "      <th>4</th>\n",
       "      <td>7014</td>\n",
       "      <td>2457467</td>\n",
       "      <td>2457499</td>\n",
       "      <td>93</td>\n",
       "      <td>-2</td>\n",
       "      <td>1798</td>\n",
       "      <td>-3</td>\n",
       "      <td>156</td>\n",
       "      <td>12</td>\n",
       "      <td>1000000</td>\n",
       "      <td>96</td>\n",
       "      <td>5</td>\n",
       "      <td>8</td>\n",
       "      <td>4</td>\n",
       "      <td>9</td>\n",
       "      <td>171338</td>\n",
       "      <td>3</td>\n",
       "      <td>1</td>\n",
       "      <td>5</td>\n",
       "      <td>8</td>\n",
       "      <td>False</td>\n",
       "      <td>3</td>\n",
       "      <td>999</td>\n",
       "      <td>2.116286e+09</td>\n",
       "      <td>12000000.0</td>\n",
       "      <td>115575.0</td>\n",
       "      <td>2.69</td>\n",
       "      <td>1</td>\n",
       "    </tr>\n",
       "  </tbody>\n",
       "</table>\n",
       "</div>"
      ],
      "text/plain": [
       "     Id  ...  flag_transaksi_fraud\n",
       "0  6678  ...                     0\n",
       "1   437  ...                     0\n",
       "2  1696  ...                     0\n",
       "3  8868  ...                     0\n",
       "4  7014  ...                     1\n",
       "\n",
       "[5 rows x 28 columns]"
      ]
     },
     "execution_count": 0,
     "metadata": {
      "tags": []
     },
     "output_type": "execute_result"
    }
   ],
   "source": [
    "uji.head()"
   ]
  },
  {
   "cell_type": "code",
   "execution_count": null,
   "metadata": {
    "colab": {
     "background_save": true
    },
    "id": "lNdfWLEbskTj"
   },
   "outputs": [],
   "source": [
    "hasil2 = uji[['Id', 'flag_transaksi_fraud']]"
   ]
  },
  {
   "cell_type": "code",
   "execution_count": null,
   "metadata": {
    "colab": {
     "background_save": true
    },
    "id": "FRFdTtVxskTl",
    "outputId": "51c1405b-6daa-47ad-d776-1fe1cd4f70c2"
   },
   "outputs": [
    {
     "data": {
      "text/html": [
       "<div>\n",
       "<style scoped>\n",
       "    .dataframe tbody tr th:only-of-type {\n",
       "        vertical-align: middle;\n",
       "    }\n",
       "\n",
       "    .dataframe tbody tr th {\n",
       "        vertical-align: top;\n",
       "    }\n",
       "\n",
       "    .dataframe thead th {\n",
       "        text-align: right;\n",
       "    }\n",
       "</style>\n",
       "<table border=\"1\" class=\"dataframe\">\n",
       "  <thead>\n",
       "    <tr style=\"text-align: right;\">\n",
       "      <th></th>\n",
       "      <th>Id</th>\n",
       "      <th>flag_transaksi_fraud</th>\n",
       "    </tr>\n",
       "  </thead>\n",
       "  <tbody>\n",
       "    <tr>\n",
       "      <th>0</th>\n",
       "      <td>6678</td>\n",
       "      <td>0</td>\n",
       "    </tr>\n",
       "    <tr>\n",
       "      <th>1</th>\n",
       "      <td>437</td>\n",
       "      <td>0</td>\n",
       "    </tr>\n",
       "    <tr>\n",
       "      <th>2</th>\n",
       "      <td>1696</td>\n",
       "      <td>0</td>\n",
       "    </tr>\n",
       "    <tr>\n",
       "      <th>3</th>\n",
       "      <td>8868</td>\n",
       "      <td>0</td>\n",
       "    </tr>\n",
       "    <tr>\n",
       "      <th>4</th>\n",
       "      <td>7014</td>\n",
       "      <td>1</td>\n",
       "    </tr>\n",
       "  </tbody>\n",
       "</table>\n",
       "</div>"
      ],
      "text/plain": [
       "     Id  flag_transaksi_fraud\n",
       "0  6678                     0\n",
       "1   437                     0\n",
       "2  1696                     0\n",
       "3  8868                     0\n",
       "4  7014                     1"
      ]
     },
     "execution_count": 0,
     "metadata": {
      "tags": []
     },
     "output_type": "execute_result"
    }
   ],
   "source": [
    "hasil2.head()"
   ]
  },
  {
   "cell_type": "code",
   "execution_count": null,
   "metadata": {
    "colab": {
     "background_save": true
    },
    "id": "EghC9qM8jZHC"
   },
   "outputs": [],
   "source": [
    "hasil2.to_csv('submission2.csv', index=False)"
   ]
  },
  {
   "cell_type": "markdown",
   "metadata": {
    "id": "bYYu7K5tmmID"
   },
   "source": [
    "### NB"
   ]
  },
  {
   "cell_type": "code",
   "execution_count": null,
   "metadata": {
    "colab": {
     "background_save": true
    },
    "id": "fLzr6dkimmIa"
   },
   "outputs": [],
   "source": [
    "preduji3=nb.predict(ujiready)"
   ]
  },
  {
   "cell_type": "code",
   "execution_count": null,
   "metadata": {
    "colab": {
     "background_save": true
    },
    "id": "lJ5pJR9lmmIb"
   },
   "outputs": [],
   "source": [
    "pred3 = pd.DataFrame(preduji3, columns =['flag_transaksi_fraud'])"
   ]
  },
  {
   "cell_type": "code",
   "execution_count": null,
   "metadata": {
    "colab": {
     "background_save": true
    },
    "id": "p9Pa7Q-K7yT6"
   },
   "outputs": [],
   "source": [
    "uji['flag_transaksi_fraud'] = pred3"
   ]
  },
  {
   "cell_type": "code",
   "execution_count": null,
   "metadata": {
    "colab": {
     "background_save": true
    },
    "id": "5g9_267i7yUR",
    "outputId": "76fae2ef-33e0-4c2b-acf1-bfcbf40c171b"
   },
   "outputs": [
    {
     "data": {
      "text/html": [
       "<div>\n",
       "<style scoped>\n",
       "    .dataframe tbody tr th:only-of-type {\n",
       "        vertical-align: middle;\n",
       "    }\n",
       "\n",
       "    .dataframe tbody tr th {\n",
       "        vertical-align: top;\n",
       "    }\n",
       "\n",
       "    .dataframe thead th {\n",
       "        text-align: right;\n",
       "    }\n",
       "</style>\n",
       "<table border=\"1\" class=\"dataframe\">\n",
       "  <thead>\n",
       "    <tr style=\"text-align: right;\">\n",
       "      <th></th>\n",
       "      <th>Id</th>\n",
       "      <th>id_tanggal_transaksi_awal</th>\n",
       "      <th>tanggal_transaksi_awal</th>\n",
       "      <th>tipe_kartu</th>\n",
       "      <th>id_merchant</th>\n",
       "      <th>nama_merchant</th>\n",
       "      <th>tipe_mesin</th>\n",
       "      <th>tipe_transaksi</th>\n",
       "      <th>nama_transaksi</th>\n",
       "      <th>nilai_transaksi</th>\n",
       "      <th>id_negara</th>\n",
       "      <th>nama_negara</th>\n",
       "      <th>nama_kota</th>\n",
       "      <th>lokasi_mesin</th>\n",
       "      <th>pemilik_mesin</th>\n",
       "      <th>waktu_transaksi</th>\n",
       "      <th>kuartal_transaksi</th>\n",
       "      <th>kepemilikan_kartu</th>\n",
       "      <th>nama_channel</th>\n",
       "      <th>id_channel</th>\n",
       "      <th>flag_transaksi_finansial</th>\n",
       "      <th>status_transaksi</th>\n",
       "      <th>bank_pemilik_kartu</th>\n",
       "      <th>rata_rata_nilai_transaksi</th>\n",
       "      <th>maksimum_nilai_transaksi</th>\n",
       "      <th>minimum_nilai_transaksi</th>\n",
       "      <th>rata_rata_jumlah_transaksi</th>\n",
       "      <th>flag_transaksi_fraud</th>\n",
       "    </tr>\n",
       "  </thead>\n",
       "  <tbody>\n",
       "    <tr>\n",
       "      <th>0</th>\n",
       "      <td>6678</td>\n",
       "      <td>2457607</td>\n",
       "      <td>2457703</td>\n",
       "      <td>111</td>\n",
       "      <td>-2</td>\n",
       "      <td>1798</td>\n",
       "      <td>1590933</td>\n",
       "      <td>385</td>\n",
       "      <td>11</td>\n",
       "      <td>1250000</td>\n",
       "      <td>96</td>\n",
       "      <td>5</td>\n",
       "      <td>241</td>\n",
       "      <td>1835</td>\n",
       "      <td>613</td>\n",
       "      <td>162158</td>\n",
       "      <td>3</td>\n",
       "      <td>2</td>\n",
       "      <td>1</td>\n",
       "      <td>9</td>\n",
       "      <td>False</td>\n",
       "      <td>3</td>\n",
       "      <td>999</td>\n",
       "      <td>2.877203e+09</td>\n",
       "      <td>2300000.0</td>\n",
       "      <td>21600.0</td>\n",
       "      <td>1.20</td>\n",
       "      <td>0</td>\n",
       "    </tr>\n",
       "    <tr>\n",
       "      <th>1</th>\n",
       "      <td>437</td>\n",
       "      <td>2457579</td>\n",
       "      <td>2457592</td>\n",
       "      <td>93</td>\n",
       "      <td>-2</td>\n",
       "      <td>1798</td>\n",
       "      <td>2687662</td>\n",
       "      <td>26</td>\n",
       "      <td>10</td>\n",
       "      <td>50000</td>\n",
       "      <td>96</td>\n",
       "      <td>5</td>\n",
       "      <td>128</td>\n",
       "      <td>4173</td>\n",
       "      <td>613</td>\n",
       "      <td>104856</td>\n",
       "      <td>2</td>\n",
       "      <td>2</td>\n",
       "      <td>1</td>\n",
       "      <td>9</td>\n",
       "      <td>False</td>\n",
       "      <td>3</td>\n",
       "      <td>999</td>\n",
       "      <td>3.389742e+09</td>\n",
       "      <td>1400000.0</td>\n",
       "      <td>64524.0</td>\n",
       "      <td>1.52</td>\n",
       "      <td>0</td>\n",
       "    </tr>\n",
       "    <tr>\n",
       "      <th>2</th>\n",
       "      <td>1696</td>\n",
       "      <td>2457349</td>\n",
       "      <td>2457359</td>\n",
       "      <td>103</td>\n",
       "      <td>-2</td>\n",
       "      <td>1798</td>\n",
       "      <td>2254860</td>\n",
       "      <td>385</td>\n",
       "      <td>11</td>\n",
       "      <td>500000</td>\n",
       "      <td>96</td>\n",
       "      <td>5</td>\n",
       "      <td>128</td>\n",
       "      <td>3195</td>\n",
       "      <td>613</td>\n",
       "      <td>145437</td>\n",
       "      <td>3</td>\n",
       "      <td>2</td>\n",
       "      <td>1</td>\n",
       "      <td>9</td>\n",
       "      <td>False</td>\n",
       "      <td>3</td>\n",
       "      <td>999</td>\n",
       "      <td>7.974732e+08</td>\n",
       "      <td>1750000.0</td>\n",
       "      <td>115575.0</td>\n",
       "      <td>1.46</td>\n",
       "      <td>0</td>\n",
       "    </tr>\n",
       "    <tr>\n",
       "      <th>3</th>\n",
       "      <td>8868</td>\n",
       "      <td>2457623</td>\n",
       "      <td>2457637</td>\n",
       "      <td>0</td>\n",
       "      <td>128022</td>\n",
       "      <td>1254</td>\n",
       "      <td>2688775</td>\n",
       "      <td>58</td>\n",
       "      <td>6</td>\n",
       "      <td>45000</td>\n",
       "      <td>96</td>\n",
       "      <td>5</td>\n",
       "      <td>70</td>\n",
       "      <td>6649</td>\n",
       "      <td>1864</td>\n",
       "      <td>113028</td>\n",
       "      <td>2</td>\n",
       "      <td>2</td>\n",
       "      <td>2</td>\n",
       "      <td>4</td>\n",
       "      <td>False</td>\n",
       "      <td>3</td>\n",
       "      <td>999</td>\n",
       "      <td>6.457195e+09</td>\n",
       "      <td>8000000.0</td>\n",
       "      <td>23000.0</td>\n",
       "      <td>2.90</td>\n",
       "      <td>0</td>\n",
       "    </tr>\n",
       "    <tr>\n",
       "      <th>4</th>\n",
       "      <td>7014</td>\n",
       "      <td>2457467</td>\n",
       "      <td>2457499</td>\n",
       "      <td>93</td>\n",
       "      <td>-2</td>\n",
       "      <td>1798</td>\n",
       "      <td>-3</td>\n",
       "      <td>156</td>\n",
       "      <td>12</td>\n",
       "      <td>1000000</td>\n",
       "      <td>96</td>\n",
       "      <td>5</td>\n",
       "      <td>8</td>\n",
       "      <td>4</td>\n",
       "      <td>9</td>\n",
       "      <td>171338</td>\n",
       "      <td>3</td>\n",
       "      <td>1</td>\n",
       "      <td>5</td>\n",
       "      <td>8</td>\n",
       "      <td>False</td>\n",
       "      <td>3</td>\n",
       "      <td>999</td>\n",
       "      <td>2.116286e+09</td>\n",
       "      <td>12000000.0</td>\n",
       "      <td>115575.0</td>\n",
       "      <td>2.69</td>\n",
       "      <td>1</td>\n",
       "    </tr>\n",
       "  </tbody>\n",
       "</table>\n",
       "</div>"
      ],
      "text/plain": [
       "     Id  ...  flag_transaksi_fraud\n",
       "0  6678  ...                     0\n",
       "1   437  ...                     0\n",
       "2  1696  ...                     0\n",
       "3  8868  ...                     0\n",
       "4  7014  ...                     1\n",
       "\n",
       "[5 rows x 28 columns]"
      ]
     },
     "execution_count": 0,
     "metadata": {
      "tags": []
     },
     "output_type": "execute_result"
    }
   ],
   "source": [
    "uji.head()"
   ]
  },
  {
   "cell_type": "code",
   "execution_count": null,
   "metadata": {
    "colab": {
     "background_save": true
    },
    "id": "u_cA1hUh7yUT"
   },
   "outputs": [],
   "source": [
    "hasil3 = uji[['Id', 'flag_transaksi_fraud']]"
   ]
  },
  {
   "cell_type": "code",
   "execution_count": null,
   "metadata": {
    "colab": {
     "background_save": true
    },
    "id": "5dqyEnZj7yUW",
    "outputId": "b0b35bc6-b7fe-42bc-c147-61405500e27d"
   },
   "outputs": [
    {
     "data": {
      "text/html": [
       "<div>\n",
       "<style scoped>\n",
       "    .dataframe tbody tr th:only-of-type {\n",
       "        vertical-align: middle;\n",
       "    }\n",
       "\n",
       "    .dataframe tbody tr th {\n",
       "        vertical-align: top;\n",
       "    }\n",
       "\n",
       "    .dataframe thead th {\n",
       "        text-align: right;\n",
       "    }\n",
       "</style>\n",
       "<table border=\"1\" class=\"dataframe\">\n",
       "  <thead>\n",
       "    <tr style=\"text-align: right;\">\n",
       "      <th></th>\n",
       "      <th>Id</th>\n",
       "      <th>flag_transaksi_fraud</th>\n",
       "    </tr>\n",
       "  </thead>\n",
       "  <tbody>\n",
       "    <tr>\n",
       "      <th>0</th>\n",
       "      <td>6678</td>\n",
       "      <td>0</td>\n",
       "    </tr>\n",
       "    <tr>\n",
       "      <th>1</th>\n",
       "      <td>437</td>\n",
       "      <td>0</td>\n",
       "    </tr>\n",
       "    <tr>\n",
       "      <th>2</th>\n",
       "      <td>1696</td>\n",
       "      <td>0</td>\n",
       "    </tr>\n",
       "    <tr>\n",
       "      <th>3</th>\n",
       "      <td>8868</td>\n",
       "      <td>0</td>\n",
       "    </tr>\n",
       "    <tr>\n",
       "      <th>4</th>\n",
       "      <td>7014</td>\n",
       "      <td>1</td>\n",
       "    </tr>\n",
       "  </tbody>\n",
       "</table>\n",
       "</div>"
      ],
      "text/plain": [
       "     Id  flag_transaksi_fraud\n",
       "0  6678                     0\n",
       "1   437                     0\n",
       "2  1696                     0\n",
       "3  8868                     0\n",
       "4  7014                     1"
      ]
     },
     "execution_count": 0,
     "metadata": {
      "tags": []
     },
     "output_type": "execute_result"
    }
   ],
   "source": [
    "hasil3.head()"
   ]
  },
  {
   "cell_type": "code",
   "execution_count": null,
   "metadata": {
    "colab": {
     "background_save": true
    },
    "id": "dEJwgz0r7yUX"
   },
   "outputs": [],
   "source": [
    "hasil3.to_csv('submission3.csv', index=False)"
   ]
  },
  {
   "cell_type": "markdown",
   "metadata": {
    "id": "tLCjcGIOm1gA"
   },
   "source": [
    "### RF"
   ]
  },
  {
   "cell_type": "code",
   "execution_count": null,
   "metadata": {
    "colab": {
     "background_save": true
    },
    "id": "j8y_PsMMm1gB"
   },
   "outputs": [],
   "source": [
    "preduji4=rfc.predict(ujiready)"
   ]
  },
  {
   "cell_type": "code",
   "execution_count": null,
   "metadata": {
    "colab": {
     "background_save": true
    },
    "id": "02hveV72m1gB"
   },
   "outputs": [],
   "source": [
    "pred4 = pd.DataFrame(preduji4, columns =['flag_transaksi_fraud'])"
   ]
  },
  {
   "cell_type": "code",
   "execution_count": null,
   "metadata": {
    "colab": {
     "background_save": true
    },
    "id": "xhUrnkQt8C_b"
   },
   "outputs": [],
   "source": [
    "uji['flag_transaksi_fraud'] = pred4"
   ]
  },
  {
   "cell_type": "code",
   "execution_count": null,
   "metadata": {
    "colab": {
     "background_save": true
    },
    "id": "zRXJc3jl8C_c",
    "outputId": "36cefbd3-c850-4a12-a99d-4d5cfdd6df26"
   },
   "outputs": [
    {
     "data": {
      "text/html": [
       "<div>\n",
       "<style scoped>\n",
       "    .dataframe tbody tr th:only-of-type {\n",
       "        vertical-align: middle;\n",
       "    }\n",
       "\n",
       "    .dataframe tbody tr th {\n",
       "        vertical-align: top;\n",
       "    }\n",
       "\n",
       "    .dataframe thead th {\n",
       "        text-align: right;\n",
       "    }\n",
       "</style>\n",
       "<table border=\"1\" class=\"dataframe\">\n",
       "  <thead>\n",
       "    <tr style=\"text-align: right;\">\n",
       "      <th></th>\n",
       "      <th>Id</th>\n",
       "      <th>id_tanggal_transaksi_awal</th>\n",
       "      <th>tanggal_transaksi_awal</th>\n",
       "      <th>tipe_kartu</th>\n",
       "      <th>id_merchant</th>\n",
       "      <th>nama_merchant</th>\n",
       "      <th>tipe_mesin</th>\n",
       "      <th>tipe_transaksi</th>\n",
       "      <th>nama_transaksi</th>\n",
       "      <th>nilai_transaksi</th>\n",
       "      <th>id_negara</th>\n",
       "      <th>nama_negara</th>\n",
       "      <th>nama_kota</th>\n",
       "      <th>lokasi_mesin</th>\n",
       "      <th>pemilik_mesin</th>\n",
       "      <th>waktu_transaksi</th>\n",
       "      <th>kuartal_transaksi</th>\n",
       "      <th>kepemilikan_kartu</th>\n",
       "      <th>nama_channel</th>\n",
       "      <th>id_channel</th>\n",
       "      <th>flag_transaksi_finansial</th>\n",
       "      <th>status_transaksi</th>\n",
       "      <th>bank_pemilik_kartu</th>\n",
       "      <th>rata_rata_nilai_transaksi</th>\n",
       "      <th>maksimum_nilai_transaksi</th>\n",
       "      <th>minimum_nilai_transaksi</th>\n",
       "      <th>rata_rata_jumlah_transaksi</th>\n",
       "      <th>flag_transaksi_fraud</th>\n",
       "    </tr>\n",
       "  </thead>\n",
       "  <tbody>\n",
       "    <tr>\n",
       "      <th>0</th>\n",
       "      <td>6678</td>\n",
       "      <td>2457607</td>\n",
       "      <td>2457703</td>\n",
       "      <td>111</td>\n",
       "      <td>-2</td>\n",
       "      <td>1798</td>\n",
       "      <td>1590933</td>\n",
       "      <td>385</td>\n",
       "      <td>11</td>\n",
       "      <td>1250000</td>\n",
       "      <td>96</td>\n",
       "      <td>5</td>\n",
       "      <td>241</td>\n",
       "      <td>1835</td>\n",
       "      <td>613</td>\n",
       "      <td>162158</td>\n",
       "      <td>3</td>\n",
       "      <td>2</td>\n",
       "      <td>1</td>\n",
       "      <td>9</td>\n",
       "      <td>False</td>\n",
       "      <td>3</td>\n",
       "      <td>999</td>\n",
       "      <td>2.877203e+09</td>\n",
       "      <td>2300000.0</td>\n",
       "      <td>21600.0</td>\n",
       "      <td>1.20</td>\n",
       "      <td>0</td>\n",
       "    </tr>\n",
       "    <tr>\n",
       "      <th>1</th>\n",
       "      <td>437</td>\n",
       "      <td>2457579</td>\n",
       "      <td>2457592</td>\n",
       "      <td>93</td>\n",
       "      <td>-2</td>\n",
       "      <td>1798</td>\n",
       "      <td>2687662</td>\n",
       "      <td>26</td>\n",
       "      <td>10</td>\n",
       "      <td>50000</td>\n",
       "      <td>96</td>\n",
       "      <td>5</td>\n",
       "      <td>128</td>\n",
       "      <td>4173</td>\n",
       "      <td>613</td>\n",
       "      <td>104856</td>\n",
       "      <td>2</td>\n",
       "      <td>2</td>\n",
       "      <td>1</td>\n",
       "      <td>9</td>\n",
       "      <td>False</td>\n",
       "      <td>3</td>\n",
       "      <td>999</td>\n",
       "      <td>3.389742e+09</td>\n",
       "      <td>1400000.0</td>\n",
       "      <td>64524.0</td>\n",
       "      <td>1.52</td>\n",
       "      <td>0</td>\n",
       "    </tr>\n",
       "    <tr>\n",
       "      <th>2</th>\n",
       "      <td>1696</td>\n",
       "      <td>2457349</td>\n",
       "      <td>2457359</td>\n",
       "      <td>103</td>\n",
       "      <td>-2</td>\n",
       "      <td>1798</td>\n",
       "      <td>2254860</td>\n",
       "      <td>385</td>\n",
       "      <td>11</td>\n",
       "      <td>500000</td>\n",
       "      <td>96</td>\n",
       "      <td>5</td>\n",
       "      <td>128</td>\n",
       "      <td>3195</td>\n",
       "      <td>613</td>\n",
       "      <td>145437</td>\n",
       "      <td>3</td>\n",
       "      <td>2</td>\n",
       "      <td>1</td>\n",
       "      <td>9</td>\n",
       "      <td>False</td>\n",
       "      <td>3</td>\n",
       "      <td>999</td>\n",
       "      <td>7.974732e+08</td>\n",
       "      <td>1750000.0</td>\n",
       "      <td>115575.0</td>\n",
       "      <td>1.46</td>\n",
       "      <td>0</td>\n",
       "    </tr>\n",
       "    <tr>\n",
       "      <th>3</th>\n",
       "      <td>8868</td>\n",
       "      <td>2457623</td>\n",
       "      <td>2457637</td>\n",
       "      <td>0</td>\n",
       "      <td>128022</td>\n",
       "      <td>1254</td>\n",
       "      <td>2688775</td>\n",
       "      <td>58</td>\n",
       "      <td>6</td>\n",
       "      <td>45000</td>\n",
       "      <td>96</td>\n",
       "      <td>5</td>\n",
       "      <td>70</td>\n",
       "      <td>6649</td>\n",
       "      <td>1864</td>\n",
       "      <td>113028</td>\n",
       "      <td>2</td>\n",
       "      <td>2</td>\n",
       "      <td>2</td>\n",
       "      <td>4</td>\n",
       "      <td>False</td>\n",
       "      <td>3</td>\n",
       "      <td>999</td>\n",
       "      <td>6.457195e+09</td>\n",
       "      <td>8000000.0</td>\n",
       "      <td>23000.0</td>\n",
       "      <td>2.90</td>\n",
       "      <td>0</td>\n",
       "    </tr>\n",
       "    <tr>\n",
       "      <th>4</th>\n",
       "      <td>7014</td>\n",
       "      <td>2457467</td>\n",
       "      <td>2457499</td>\n",
       "      <td>93</td>\n",
       "      <td>-2</td>\n",
       "      <td>1798</td>\n",
       "      <td>-3</td>\n",
       "      <td>156</td>\n",
       "      <td>12</td>\n",
       "      <td>1000000</td>\n",
       "      <td>96</td>\n",
       "      <td>5</td>\n",
       "      <td>8</td>\n",
       "      <td>4</td>\n",
       "      <td>9</td>\n",
       "      <td>171338</td>\n",
       "      <td>3</td>\n",
       "      <td>1</td>\n",
       "      <td>5</td>\n",
       "      <td>8</td>\n",
       "      <td>False</td>\n",
       "      <td>3</td>\n",
       "      <td>999</td>\n",
       "      <td>2.116286e+09</td>\n",
       "      <td>12000000.0</td>\n",
       "      <td>115575.0</td>\n",
       "      <td>2.69</td>\n",
       "      <td>0</td>\n",
       "    </tr>\n",
       "  </tbody>\n",
       "</table>\n",
       "</div>"
      ],
      "text/plain": [
       "     Id  ...  flag_transaksi_fraud\n",
       "0  6678  ...                     0\n",
       "1   437  ...                     0\n",
       "2  1696  ...                     0\n",
       "3  8868  ...                     0\n",
       "4  7014  ...                     0\n",
       "\n",
       "[5 rows x 28 columns]"
      ]
     },
     "execution_count": 0,
     "metadata": {
      "tags": []
     },
     "output_type": "execute_result"
    }
   ],
   "source": [
    "uji.head()"
   ]
  },
  {
   "cell_type": "code",
   "execution_count": null,
   "metadata": {
    "colab": {
     "background_save": true
    },
    "id": "RkAk1S9P8C_c"
   },
   "outputs": [],
   "source": [
    "hasil4 = uji[['Id', 'flag_transaksi_fraud']]"
   ]
  },
  {
   "cell_type": "code",
   "execution_count": null,
   "metadata": {
    "colab": {
     "background_save": true
    },
    "id": "PrbD4hAl8C_d",
    "outputId": "6ffc8aac-5517-4a1b-e27b-9c8d71d3cacd"
   },
   "outputs": [
    {
     "data": {
      "text/html": [
       "<div>\n",
       "<style scoped>\n",
       "    .dataframe tbody tr th:only-of-type {\n",
       "        vertical-align: middle;\n",
       "    }\n",
       "\n",
       "    .dataframe tbody tr th {\n",
       "        vertical-align: top;\n",
       "    }\n",
       "\n",
       "    .dataframe thead th {\n",
       "        text-align: right;\n",
       "    }\n",
       "</style>\n",
       "<table border=\"1\" class=\"dataframe\">\n",
       "  <thead>\n",
       "    <tr style=\"text-align: right;\">\n",
       "      <th></th>\n",
       "      <th>Id</th>\n",
       "      <th>flag_transaksi_fraud</th>\n",
       "    </tr>\n",
       "  </thead>\n",
       "  <tbody>\n",
       "    <tr>\n",
       "      <th>0</th>\n",
       "      <td>6678</td>\n",
       "      <td>0</td>\n",
       "    </tr>\n",
       "    <tr>\n",
       "      <th>1</th>\n",
       "      <td>437</td>\n",
       "      <td>0</td>\n",
       "    </tr>\n",
       "    <tr>\n",
       "      <th>2</th>\n",
       "      <td>1696</td>\n",
       "      <td>0</td>\n",
       "    </tr>\n",
       "    <tr>\n",
       "      <th>3</th>\n",
       "      <td>8868</td>\n",
       "      <td>0</td>\n",
       "    </tr>\n",
       "    <tr>\n",
       "      <th>4</th>\n",
       "      <td>7014</td>\n",
       "      <td>0</td>\n",
       "    </tr>\n",
       "  </tbody>\n",
       "</table>\n",
       "</div>"
      ],
      "text/plain": [
       "     Id  flag_transaksi_fraud\n",
       "0  6678                     0\n",
       "1   437                     0\n",
       "2  1696                     0\n",
       "3  8868                     0\n",
       "4  7014                     0"
      ]
     },
     "execution_count": 0,
     "metadata": {
      "tags": []
     },
     "output_type": "execute_result"
    }
   ],
   "source": [
    "hasil4.head()"
   ]
  },
  {
   "cell_type": "code",
   "execution_count": null,
   "metadata": {
    "colab": {
     "background_save": true
    },
    "id": "HOsgkwUQ8C_e"
   },
   "outputs": [],
   "source": [
    "hasil4.to_csv('submission4.csv', index=False)"
   ]
  },
  {
   "cell_type": "markdown",
   "metadata": {
    "id": "z7naJ4a28dCv"
   },
   "source": [
    "### DT"
   ]
  },
  {
   "cell_type": "code",
   "execution_count": null,
   "metadata": {
    "colab": {
     "background_save": true
    },
    "id": "IHmyIy_C8dCw"
   },
   "outputs": [],
   "source": [
    "preduji5=CV_dt.predict(ujiready)"
   ]
  },
  {
   "cell_type": "code",
   "execution_count": null,
   "metadata": {
    "colab": {
     "background_save": true
    },
    "id": "f_MT7kQy8dCx"
   },
   "outputs": [],
   "source": [
    "pred5 = pd.DataFrame(preduji5, columns =['flag_transaksi_fraud'])"
   ]
  },
  {
   "cell_type": "code",
   "execution_count": null,
   "metadata": {
    "colab": {
     "background_save": true
    },
    "id": "DWZc3xfh8dCx"
   },
   "outputs": [],
   "source": [
    "uji['flag_transaksi_fraud'] = pred5"
   ]
  },
  {
   "cell_type": "code",
   "execution_count": null,
   "metadata": {
    "colab": {
     "background_save": true
    },
    "id": "9FhbFhoo8dCx",
    "outputId": "d83d4b12-51ab-4f05-9304-2f4c7659f1db"
   },
   "outputs": [
    {
     "data": {
      "text/html": [
       "<div>\n",
       "<style scoped>\n",
       "    .dataframe tbody tr th:only-of-type {\n",
       "        vertical-align: middle;\n",
       "    }\n",
       "\n",
       "    .dataframe tbody tr th {\n",
       "        vertical-align: top;\n",
       "    }\n",
       "\n",
       "    .dataframe thead th {\n",
       "        text-align: right;\n",
       "    }\n",
       "</style>\n",
       "<table border=\"1\" class=\"dataframe\">\n",
       "  <thead>\n",
       "    <tr style=\"text-align: right;\">\n",
       "      <th></th>\n",
       "      <th>Id</th>\n",
       "      <th>id_tanggal_transaksi_awal</th>\n",
       "      <th>tanggal_transaksi_awal</th>\n",
       "      <th>tipe_kartu</th>\n",
       "      <th>id_merchant</th>\n",
       "      <th>nama_merchant</th>\n",
       "      <th>tipe_mesin</th>\n",
       "      <th>tipe_transaksi</th>\n",
       "      <th>nama_transaksi</th>\n",
       "      <th>nilai_transaksi</th>\n",
       "      <th>id_negara</th>\n",
       "      <th>nama_negara</th>\n",
       "      <th>nama_kota</th>\n",
       "      <th>lokasi_mesin</th>\n",
       "      <th>pemilik_mesin</th>\n",
       "      <th>waktu_transaksi</th>\n",
       "      <th>kuartal_transaksi</th>\n",
       "      <th>kepemilikan_kartu</th>\n",
       "      <th>nama_channel</th>\n",
       "      <th>id_channel</th>\n",
       "      <th>flag_transaksi_finansial</th>\n",
       "      <th>status_transaksi</th>\n",
       "      <th>bank_pemilik_kartu</th>\n",
       "      <th>rata_rata_nilai_transaksi</th>\n",
       "      <th>maksimum_nilai_transaksi</th>\n",
       "      <th>minimum_nilai_transaksi</th>\n",
       "      <th>rata_rata_jumlah_transaksi</th>\n",
       "      <th>flag_transaksi_fraud</th>\n",
       "    </tr>\n",
       "  </thead>\n",
       "  <tbody>\n",
       "    <tr>\n",
       "      <th>0</th>\n",
       "      <td>6678</td>\n",
       "      <td>2457607</td>\n",
       "      <td>2457703</td>\n",
       "      <td>111</td>\n",
       "      <td>-2</td>\n",
       "      <td>1798</td>\n",
       "      <td>1590933</td>\n",
       "      <td>385</td>\n",
       "      <td>11</td>\n",
       "      <td>1250000</td>\n",
       "      <td>96</td>\n",
       "      <td>5</td>\n",
       "      <td>241</td>\n",
       "      <td>1835</td>\n",
       "      <td>613</td>\n",
       "      <td>162158</td>\n",
       "      <td>3</td>\n",
       "      <td>2</td>\n",
       "      <td>1</td>\n",
       "      <td>9</td>\n",
       "      <td>False</td>\n",
       "      <td>3</td>\n",
       "      <td>999</td>\n",
       "      <td>2.877203e+09</td>\n",
       "      <td>2300000.0</td>\n",
       "      <td>21600.0</td>\n",
       "      <td>1.20</td>\n",
       "      <td>0</td>\n",
       "    </tr>\n",
       "    <tr>\n",
       "      <th>1</th>\n",
       "      <td>437</td>\n",
       "      <td>2457579</td>\n",
       "      <td>2457592</td>\n",
       "      <td>93</td>\n",
       "      <td>-2</td>\n",
       "      <td>1798</td>\n",
       "      <td>2687662</td>\n",
       "      <td>26</td>\n",
       "      <td>10</td>\n",
       "      <td>50000</td>\n",
       "      <td>96</td>\n",
       "      <td>5</td>\n",
       "      <td>128</td>\n",
       "      <td>4173</td>\n",
       "      <td>613</td>\n",
       "      <td>104856</td>\n",
       "      <td>2</td>\n",
       "      <td>2</td>\n",
       "      <td>1</td>\n",
       "      <td>9</td>\n",
       "      <td>False</td>\n",
       "      <td>3</td>\n",
       "      <td>999</td>\n",
       "      <td>3.389742e+09</td>\n",
       "      <td>1400000.0</td>\n",
       "      <td>64524.0</td>\n",
       "      <td>1.52</td>\n",
       "      <td>0</td>\n",
       "    </tr>\n",
       "    <tr>\n",
       "      <th>2</th>\n",
       "      <td>1696</td>\n",
       "      <td>2457349</td>\n",
       "      <td>2457359</td>\n",
       "      <td>103</td>\n",
       "      <td>-2</td>\n",
       "      <td>1798</td>\n",
       "      <td>2254860</td>\n",
       "      <td>385</td>\n",
       "      <td>11</td>\n",
       "      <td>500000</td>\n",
       "      <td>96</td>\n",
       "      <td>5</td>\n",
       "      <td>128</td>\n",
       "      <td>3195</td>\n",
       "      <td>613</td>\n",
       "      <td>145437</td>\n",
       "      <td>3</td>\n",
       "      <td>2</td>\n",
       "      <td>1</td>\n",
       "      <td>9</td>\n",
       "      <td>False</td>\n",
       "      <td>3</td>\n",
       "      <td>999</td>\n",
       "      <td>7.974732e+08</td>\n",
       "      <td>1750000.0</td>\n",
       "      <td>115575.0</td>\n",
       "      <td>1.46</td>\n",
       "      <td>0</td>\n",
       "    </tr>\n",
       "    <tr>\n",
       "      <th>3</th>\n",
       "      <td>8868</td>\n",
       "      <td>2457623</td>\n",
       "      <td>2457637</td>\n",
       "      <td>0</td>\n",
       "      <td>128022</td>\n",
       "      <td>1254</td>\n",
       "      <td>2688775</td>\n",
       "      <td>58</td>\n",
       "      <td>6</td>\n",
       "      <td>45000</td>\n",
       "      <td>96</td>\n",
       "      <td>5</td>\n",
       "      <td>70</td>\n",
       "      <td>6649</td>\n",
       "      <td>1864</td>\n",
       "      <td>113028</td>\n",
       "      <td>2</td>\n",
       "      <td>2</td>\n",
       "      <td>2</td>\n",
       "      <td>4</td>\n",
       "      <td>False</td>\n",
       "      <td>3</td>\n",
       "      <td>999</td>\n",
       "      <td>6.457195e+09</td>\n",
       "      <td>8000000.0</td>\n",
       "      <td>23000.0</td>\n",
       "      <td>2.90</td>\n",
       "      <td>0</td>\n",
       "    </tr>\n",
       "    <tr>\n",
       "      <th>4</th>\n",
       "      <td>7014</td>\n",
       "      <td>2457467</td>\n",
       "      <td>2457499</td>\n",
       "      <td>93</td>\n",
       "      <td>-2</td>\n",
       "      <td>1798</td>\n",
       "      <td>-3</td>\n",
       "      <td>156</td>\n",
       "      <td>12</td>\n",
       "      <td>1000000</td>\n",
       "      <td>96</td>\n",
       "      <td>5</td>\n",
       "      <td>8</td>\n",
       "      <td>4</td>\n",
       "      <td>9</td>\n",
       "      <td>171338</td>\n",
       "      <td>3</td>\n",
       "      <td>1</td>\n",
       "      <td>5</td>\n",
       "      <td>8</td>\n",
       "      <td>False</td>\n",
       "      <td>3</td>\n",
       "      <td>999</td>\n",
       "      <td>2.116286e+09</td>\n",
       "      <td>12000000.0</td>\n",
       "      <td>115575.0</td>\n",
       "      <td>2.69</td>\n",
       "      <td>0</td>\n",
       "    </tr>\n",
       "  </tbody>\n",
       "</table>\n",
       "</div>"
      ],
      "text/plain": [
       "     Id  ...  flag_transaksi_fraud\n",
       "0  6678  ...                     0\n",
       "1   437  ...                     0\n",
       "2  1696  ...                     0\n",
       "3  8868  ...                     0\n",
       "4  7014  ...                     0\n",
       "\n",
       "[5 rows x 28 columns]"
      ]
     },
     "execution_count": 0,
     "metadata": {
      "tags": []
     },
     "output_type": "execute_result"
    }
   ],
   "source": [
    "uji.head()"
   ]
  },
  {
   "cell_type": "code",
   "execution_count": null,
   "metadata": {
    "colab": {
     "background_save": true
    },
    "id": "YD2vR4sM8dCy"
   },
   "outputs": [],
   "source": [
    "hasil5 = uji[['Id', 'flag_transaksi_fraud']]"
   ]
  },
  {
   "cell_type": "code",
   "execution_count": null,
   "metadata": {
    "colab": {
     "background_save": true
    },
    "id": "LqLYhVUr8dCy",
    "outputId": "3617d058-5699-492d-cd28-051e30bec60c"
   },
   "outputs": [
    {
     "data": {
      "text/html": [
       "<div>\n",
       "<style scoped>\n",
       "    .dataframe tbody tr th:only-of-type {\n",
       "        vertical-align: middle;\n",
       "    }\n",
       "\n",
       "    .dataframe tbody tr th {\n",
       "        vertical-align: top;\n",
       "    }\n",
       "\n",
       "    .dataframe thead th {\n",
       "        text-align: right;\n",
       "    }\n",
       "</style>\n",
       "<table border=\"1\" class=\"dataframe\">\n",
       "  <thead>\n",
       "    <tr style=\"text-align: right;\">\n",
       "      <th></th>\n",
       "      <th>Id</th>\n",
       "      <th>flag_transaksi_fraud</th>\n",
       "    </tr>\n",
       "  </thead>\n",
       "  <tbody>\n",
       "    <tr>\n",
       "      <th>0</th>\n",
       "      <td>6678</td>\n",
       "      <td>0</td>\n",
       "    </tr>\n",
       "    <tr>\n",
       "      <th>1</th>\n",
       "      <td>437</td>\n",
       "      <td>0</td>\n",
       "    </tr>\n",
       "    <tr>\n",
       "      <th>2</th>\n",
       "      <td>1696</td>\n",
       "      <td>0</td>\n",
       "    </tr>\n",
       "    <tr>\n",
       "      <th>3</th>\n",
       "      <td>8868</td>\n",
       "      <td>0</td>\n",
       "    </tr>\n",
       "    <tr>\n",
       "      <th>4</th>\n",
       "      <td>7014</td>\n",
       "      <td>0</td>\n",
       "    </tr>\n",
       "  </tbody>\n",
       "</table>\n",
       "</div>"
      ],
      "text/plain": [
       "     Id  flag_transaksi_fraud\n",
       "0  6678                     0\n",
       "1   437                     0\n",
       "2  1696                     0\n",
       "3  8868                     0\n",
       "4  7014                     0"
      ]
     },
     "execution_count": 0,
     "metadata": {
      "tags": []
     },
     "output_type": "execute_result"
    }
   ],
   "source": [
    "hasil5.head()"
   ]
  },
  {
   "cell_type": "code",
   "execution_count": null,
   "metadata": {
    "colab": {
     "background_save": true
    },
    "id": "GQGg4Pc58dCz"
   },
   "outputs": [],
   "source": [
    "hasil5.to_csv('submission5.csv', index=False)"
   ]
  }
 ],
 "metadata": {
  "colab": {
   "collapsed_sections": [],
   "name": "PDM Fraud.ipynb",
   "provenance": []
  },
  "kernelspec": {
   "display_name": "Python 3",
   "language": "python",
   "name": "python3"
  },
  "language_info": {
   "codemirror_mode": {
    "name": "ipython",
    "version": 3
   },
   "file_extension": ".py",
   "mimetype": "text/x-python",
   "name": "python",
   "nbconvert_exporter": "python",
   "pygments_lexer": "ipython3",
   "version": "3.7.4"
  }
 },
 "nbformat": 4,
 "nbformat_minor": 1
}
